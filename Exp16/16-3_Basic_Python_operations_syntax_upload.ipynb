{
 "cells": [
  {
   "cell_type": "markdown",
   "id": "7c1fd494-c14c-4e4d-9837-7d6d86319e4d",
   "metadata": {},
   "source": [
    "<h1 style=\"font-size: 40px; margin-bottom: 0px;\">16.3 Basic Python Operations and Syntax</h1>\n",
    "\n",
    "<hr style=\"margin-left: 0px; border: 0.25px solid; border-color: #000000; width: 750px;\"></hr>"
   ]
  },
  {
   "cell_type": "markdown",
   "id": "7bd97510-fbce-49d5-b0b0-2cf8328fab74",
   "metadata": {},
   "source": [
    "Yesterday you started getting more familiar with the overall structure of a notebook, and today, we'll now start learning how to perform basic operations in Python and continuing to practice our understanding of Python syntax. Recall from lecture that like with any language, programming languages follow a specific syntax so that it can be interpreted and executed. You'll want to understand how things are interpreted in Python to have a good handle on getting Python to do what you want it to and to be able to understand others' code.\n",
    "\n",
    "<strong>Today's learning objectives:</strong>\n",
    "<ol>\n",
    "    <li>Reinforce what you learned about Python syntax</li>\n",
    "    <li>Use Python to perform mathematical operations</li>\n",
    "    <li>Learn basic data types</li>\n",
    "    <li>Explore how data is handled in Python</li>\n",
    "</ol>"
   ]
  },
  {
   "cell_type": "markdown",
   "id": "808f729b-0711-417f-a72c-fb7525facf83",
   "metadata": {},
   "source": [
    "<h1 style=\"font-size: 40px; margin-bottom: 0px;\">Exercises</h1>\n",
    "<hr style=\"margin-left: 0px; border: 0.25px solid; border-color: #000000; width: 400px;\"></hr>"
   ]
  },
  {
   "cell_type": "markdown",
   "id": "a49ca708-d5ba-4e1d-92cb-a9b4c58db27f",
   "metadata": {},
   "source": [
    "<h1 style=\"font-size: 32px;\">Exercise #1: Show/hide line numbers in code cells</h1>"
   ]
  },
  {
   "cell_type": "markdown",
   "id": "13de9dea-2691-416e-946f-5859c9d705d4",
   "metadata": {},
   "source": [
    "Depending on your own preferences, you may find it helpful to show/hide the line number in code cells. To do this, you'll go to View > Show Line Numbers from the JupyterLab menu bar. You can also use the shortcut <kbd>Shift</kbd>+<kbd>L</kbd>. The line numbers that appear are the physical line numbers, and you can toggle this off through the same setting.\n",
    "\n",
    "Create an empty code cell below to see if there are line numbers shown/hidden."
   ]
  },
  {
   "cell_type": "markdown",
   "id": "9937e667-d129-4611-bc9e-5bd48d4ef342",
   "metadata": {},
   "source": [
    "<h1 style=\"font-size: 32px;\">Exercise #2: Perform basic mathematical operations</h1>"
   ]
  },
  {
   "cell_type": "markdown",
   "id": "9110bf96-024f-4ccd-9f73-c5567d24815e",
   "metadata": {},
   "source": [
    "For this exercise, you'll need to create a new code cell below this Markdown cell or you can move your newly created code cell from Exercise #1 below this one.\n",
    "\n",
    "This computational notebook is able to act as a calculator because Python can interpret the numbers and operations you input as mathematical expressions, and it will generate an output accordingly.\n",
    "\n",
    "Below, let's run through some quick math calculations. Let's practice running some basic calculations such as the ones shown. Feel free to play with different numbers. You'll want consider whether you're running everything in a single code cell or in separate code cells. What output do you see when everything is in a single code cell?\n",
    "\n",
    "Addition is denoted by the <code>&plus;</code> operator.\n",
    "\n",
    "```\n",
    "3+3\n",
    "```\n",
    "\n",
    "Subtraction is denoted by by the <code>&minus;</code> operator.\n",
    "\n",
    "```\n",
    "6-3\n",
    "````\n",
    "\n",
    "Multiplication is denoted by the <code>*</code> operator.\n",
    "\n",
    "```\n",
    "3*2\n",
    "```\n",
    "\n",
    "Division is denoted by the <code>/</code> operator.\n",
    "\n",
    "```\n",
    "6/2\n",
    "```\n",
    "\n",
    "You can also calculate powers by using the <code>**</code> operator.\n",
    "\n",
    "\n",
    "```\n",
    "3**2\n",
    "```\n",
    "\n",
    "The above would be 3 to the power of 2."
   ]
  },
  {
   "cell_type": "markdown",
   "id": "7881faef-91ad-4fc6-854d-75b2bc4168f6",
   "metadata": {},
   "source": [
    "<h1 style=\"font-size: 32px;\">Exercise #3: Set up a mathematical operation but spread over multiple physical lines</h1>"
   ]
  },
  {
   "cell_type": "markdown",
   "id": "6fd265e8-d3c1-42f8-b9e8-1c0ad2bce5db",
   "metadata": {},
   "source": [
    "In lecture, we went over the differences between physical lines and logical lines, where physical lines are the lines that we see in our notebook, and logical lines are how the Python interpreter is reading and interpreting those physical lines. Depending on how you prefer to organize your code, a single logical line doesn't necessarily need to be kept as a single physical line.\n",
    "\n",
    "Depending on the context in which the line break occurs, the Python interpreter can \"figure it out\" on its own (implicit), but in other cases, you can specifically tell the interpreter that two or more physical lines are to be connected into a single logical line by using <code>&bsol;</code>. This is the same as what you did yesterday in Terminal, but in this case, we're using Python.\n",
    "\n",
    "For this exercise, take the mathemical operation(s) that you performed in the previous exercise, and break it up into multiple physical lines while still having Python able to interpret your code."
   ]
  },
  {
   "cell_type": "markdown",
   "id": "dd9132a6-c392-4d7b-b214-2a7065704f15",
   "metadata": {},
   "source": [
    "<h1 style=\"font-size: 32px;\">Exercise #4: Understanding basic data types</h1>"
   ]
  },
  {
   "cell_type": "markdown",
   "id": "b646a822-f530-4f3b-bfaf-9ed3b275bbd2",
   "metadata": {},
   "source": [
    "Recall from lecture that objects have three properties: an identity, a value, and a data type. We briefly touched on some basic data types that you'll find in Python, and in this exercise, you'll explore these data types and learn how to use <code>type()</code> to output an object's data type."
   ]
  },
  {
   "cell_type": "markdown",
   "id": "486c80b3-a738-41af-bc1e-afe139b0ec39",
   "metadata": {},
   "source": [
    "<h3 style=\"font-size: 28px;\">Integer vs Float</h3>"
   ]
  },
  {
   "cell_type": "markdown",
   "id": "69510412-384e-4d12-acbe-f735712e8cf3",
   "metadata": {},
   "source": [
    "Python has multiple ways of classifying a number, and it's important to keep this in mind as sometimes when you are executing specific functions, they require the number to be a specific data type.\n",
    "\n",
    "An <strong>int</strong> is a numeric data type that represents <strong>integers</strong> (positive or negative whole numbers), and as such, they do not have decimals in them. This data type is often used in Python for counting and indexing. \n",
    "\n",
    "On the other hand, a <strong>float</strong> represents a <strong>floating point value</strong> (numbers with decimals). This data type comes into play when dealing with numbers that are not integers and for performing mathematical calculations, since values can be represented with decimals.\n",
    "\n",
    "In the case of division, the calculated value that Python returns is a <strong>float</strong>, and you should be able to see in the calculation(s) you performed above that the values it outputs are represented with decimals.\n",
    "\n",
    "Create a new code cell below and use the <code>type()</code> function to determine if the output of different mathematical operations is an <strong>int</strong> or <strong>float</strong>.\n",
    "\n",
    "```\n",
    "type(3**2)\n",
    "```"
   ]
  },
  {
   "cell_type": "markdown",
   "id": "48a8e2e4-20ab-4b68-97b9-abd51c09c1d2",
   "metadata": {},
   "source": [
    "What do you notice if you perform division? What about if the resulting output is a whole number?"
   ]
  },
  {
   "cell_type": "markdown",
   "id": "7a7a0fc1-0a4f-448d-83c3-a4b8328e4ec7",
   "metadata": {},
   "source": [
    "<h3 style=\"font-size: 28px;\">Text</h3>"
   ]
  },
  {
   "cell_type": "markdown",
   "id": "b866621c-a078-4246-9b99-00f3f5c45819",
   "metadata": {},
   "source": [
    "Text in Python is represented by the data type <strong>str</strong> also called <strong>strings</strong>. Characters enclosed within either single quotations (<code>'...'</code>) or double quotations (<code>\"...\"</code>) are interpretted as <strong>str</strong>, and this includes: \n",
    "<ul>\n",
    "    <li>Single characters - <code>'A'</code> or <code>\"A\"</code></li>\n",
    "    <li>Special characters - <code>'?'</code> or <code>\"?\"</code></li>\n",
    "    <li>Numbers - <code>'1'</code> or <code>\"1\"</code></li>\n",
    "    <li>Sentences or phrases - <code>'This is a sentence.'</code> or <code>\"This is a sentence.\"</code></li>\n",
    "    <li>Or a combination of the above - <code>'Is this 1 sentence?'</code> or <code>\"Is this 1 sentence?\"</code></li>\n",
    "</ul>\n",
    "\n",
    "Create a new code cell below, and create a string using either single quotes or double quotes. Don't forget to hit <kbd>Shift</kbd>+<kbd>Enter</kbd> to run the cell."
   ]
  },
  {
   "cell_type": "markdown",
   "id": "c4d07aba-b7ec-4c39-b82b-1d327ba1bff8",
   "metadata": {},
   "source": [
    "<h1 style=\"font-size: 32px;\">Exercise #5: Mathematical operations on strings</h1>"
   ]
  },
  {
   "cell_type": "markdown",
   "id": "88ca27a6-76df-4713-8448-46f183ec9a0d",
   "metadata": {},
   "source": [
    "Strings can also be manipulated by the same operators that we use for math expressions. For example, if you want to stick multiple strings together (concatenate), you can make use of the <code>&plus;</code> operator. Create a new code cell, and give it a try below and concatenate two strings."
   ]
  },
  {
   "cell_type": "markdown",
   "id": "7a074d82-1359-4976-a821-112f0620588d",
   "metadata": {},
   "source": [
    "Let's give it a try with the <code>*</code> operator. What happens in this case, and what is Python expecting compared to the information that we give it in the code cell?"
   ]
  },
  {
   "cell_type": "markdown",
   "id": "d891bc75-3828-47c1-8d29-b1acc28e34e4",
   "metadata": {},
   "source": [
    "The <code>*</code> operator will repeat the string and concatenate the repeats based on the number given to it, and the data type of that number is important because it requires a specific data type in order to perform its operation. In this case it is looking for an <strong>int</strong> data type.\n",
    "\n",
    "So what happens if we give it a <strong>float</strong> instead?"
   ]
  },
  {
   "cell_type": "markdown",
   "id": "ecc1823f-d051-45b6-9b22-1dd06351284c",
   "metadata": {},
   "source": [
    "<h1 style=\"font-size: 32px;\">Exercise #6: Assigning variables</h1>"
   ]
  },
  {
   "cell_type": "markdown",
   "id": "f02727f7-5b77-4052-b23a-8776224394e5",
   "metadata": {},
   "source": [
    "Variables in Python can be thought of as a label for an object, and as such, act as a pointer.\n",
    "\n",
    "Objects in Python can be basically anything, such as a <strong>float</strong> or <strong>int</strong> or compound data types like <strong>list</strong>, and every object will have an associated data value, data type, and identity.  The identity (<code>id</code>) property of an object is assigned when that object is generated. What this means under the hood is that Python allocates memory for it and the <code>id</code> can be thought of as an \"address\" for Python to find or access the object. \n",
    "\n",
    "You can assign an object to a variable, which can be accessed later on in the code. If you don't assign an object to a variable, Python will leave that \"address\" available for other uses as well, so it can be freed up if needed. However, by assigning an object to a variable, you essentially tell Python that you you'll need that object for something later on, and so Python will know to hold onto the memory allocated for that object.\n",
    "\n",
    "This allows you to perform calculations and assign the results to a variable, which can then be used in subsequent calculations or visualizations.\n",
    "\n",
    "To assign a value to a variable, you will use the <code>=</code> assignment operator. \n",
    "\n",
    "```\n",
    "A = 3\n",
    "```\n",
    "\n",
    "This tells Python that the variable <code>A</code> will be assigned a value <code>3</code>. Note that the position of the variable, the assignment oprator, and the value are important. Unlike R, where you can have a directional assignment, Python's assignment is set such that the variable is on the left of the assignment operator."
   ]
  },
  {
   "cell_type": "markdown",
   "id": "e498d668-e2d0-4d25-a4bb-19b6be344c0e",
   "metadata": {},
   "source": [
    "<h3 style=\"font-size: 24px;\">Naming conventions for Python variables</h3>"
   ]
  },
  {
   "cell_type": "markdown",
   "id": "5caa2076-e5dc-4c67-b9a5-80454a635b63",
   "metadata": {},
   "source": [
    "There are a few rules that restrict how you can name variables in Python.\n",
    "\n",
    "Only a specific set of characters are allowed in names for variables:\n",
    "<ul>\n",
    "    <li>Alphanumeric characters - <code>A</code> or <code>Variable</code> or <code>A1</code></li>\n",
    "    <li>Underscores - <code>Variable_A1</code> or <code>A_variable_1</code> or <code>_variable_A1</code></li>\n",
    "</ul>\n",
    "\n",
    "Names of variables must begin with either a <strong>letter</strong> or an <strong>underscore</strong>. They <strong>cannot</strong> begin with a number, so <code>1potato</code> is not a valid variable name.\n",
    "\n",
    "Names are case-sensitive, so <code>A</code> is different than <code>a</code>, and <code>DeliciousPotato</code> is different than <code>deliciouspotato</code> but both are equally delicious.\n",
    "\n",
    "Names for variables cannot have a hyphen, so <code>delicious-potato</code> is an invalid name. You can instead use an underscore: <code>delicious_potato</code>.\n",
    "\n",
    "Recall from lecture that spaces also separate things out within a line, and for variables, it would appear to Python as two variables instead of 1, so you can't have spaces in your variable names either."
   ]
  },
  {
   "cell_type": "markdown",
   "id": "e7bc6465-9279-4110-87e7-cbfd46419a77",
   "metadata": {},
   "source": [
    "In the code cell below and assign an object to a variable using the assignment operator. What side of the operator is the variable on?"
   ]
  },
  {
   "cell_type": "code",
   "execution_count": null,
   "id": "131b4319-5bd8-4e59-94a1-5f0fde85e46d",
   "metadata": {},
   "outputs": [],
   "source": []
  },
  {
   "cell_type": "markdown",
   "id": "269209e0-d69d-459e-85c7-8201042813c8",
   "metadata": {},
   "source": [
    "Do you see any outputs? How do you know if your code was executed? How do you confirm that your variable has the assigned value?"
   ]
  },
  {
   "cell_type": "markdown",
   "id": "483b4252-6698-4651-a5d7-b4fed183c7a8",
   "metadata": {},
   "source": [
    "You can also perform mathematical operations in the same logical line as your assignment operation. In the code cell below, see if you can perform a mathematical operation and assign the output to a variable all in the same logical line. What if you performed a mathematical operation on a variable then assigned the output to a new variable?"
   ]
  },
  {
   "cell_type": "code",
   "execution_count": null,
   "id": "48fe4d16-4683-43a2-bde1-2c8f18f44e01",
   "metadata": {},
   "outputs": [],
   "source": []
  },
  {
   "cell_type": "markdown",
   "id": "aab893d4-7b08-4857-a4f5-20f2cb192054",
   "metadata": {},
   "source": [
    "Do you see an output? How would you get that information from the variable? Use the code cell below to see if you can pull the result from the variable."
   ]
  },
  {
   "cell_type": "code",
   "execution_count": null,
   "id": "e51f4634-a399-46c4-968e-ccc308ab6259",
   "metadata": {},
   "outputs": [],
   "source": []
  },
  {
   "cell_type": "markdown",
   "id": "1092c0f6-23bf-4fbd-88f3-c2ccc7430c73",
   "metadata": {},
   "source": [
    "<h1 style=\"font-size: 32px;\">Exercise #7: Exploring Boolean data type</h1>"
   ]
  },
  {
   "cell_type": "markdown",
   "id": "f4580213-3306-4f27-8c6d-32b6ac9ea7e0",
   "metadata": {},
   "source": [
    "<strong>Boolean</strong> values are one of two values: <code>True</code> or <code>False</code>, and this data type is used to represent the truth values of expressions, such as conditional statements.\n",
    "\n",
    "Boolean values are a subtype of integer, where <code>True</code> is equivalent to <code>1</code> and <code>False</code> is equivalent to <code>0</code>.\n",
    "\n",
    "We can evaluate variables and values by using conditional statements that compare values or variables to each other, and the resulting output is a Boolean value. \n",
    "\n",
    "```\n",
    "time = 35\n",
    "space = 40\n",
    "```\n",
    "\n",
    "So we have specific values assigned to two variables <code>time</code> and <code>space</code>. We can make use of different comparison operators, such as <code>&equals;&equals;</code>, which checks if the two values are equal to each other.\n",
    "\n",
    "```\n",
    "time == space\n",
    "```\n",
    "\n",
    "We can do the same with other comparison operators:\n",
    "\n",
    "<ul>\n",
    "    <li><code>&excl;&equals;</code> - ...not equal to...</li>\n",
    "    <li><code>&gt;</code> - ...greater than...</li>\n",
    "    <li><code>&lt;</code> - ...less than...</li>\n",
    "    <li><code>&gt;&equals;</code> - ...greater than or equal to...</li>\n",
    "    <li><code>&lt;&equals;</code> - ...less than or equal to...</li>\n",
    "</ul>\n",
    "\n",
    "One example where Boolean values will show up is in image analysis. When you set thresholds, you are creating conditional statements through which you pass the information contained in your image, which will then output for each value a <code>True</code> or <code>False</code> result for each pixel.\n",
    "\n",
    "In the code cell below, play around with assigning variables some value and then using conditional statements to compare the variables to each other or two another value."
   ]
  },
  {
   "cell_type": "code",
   "execution_count": null,
   "id": "9f7973a4-a881-4635-bfed-37e52a9b20a6",
   "metadata": {},
   "outputs": [],
   "source": []
  },
  {
   "cell_type": "markdown",
   "id": "869365b9-b82c-4145-8f86-82369bc3ad9e",
   "metadata": {},
   "source": [
    "Take one of the variables that you assigned and compare the ID of that variable to that of other variables. To do this, you'll use the <code>id()</code> function and conditional operators.\n",
    "\n",
    "```\n",
    "id(A)\n",
    "```\n",
    "\n",
    "You'll then get back a number, which the interpreter uses to find the location of where that object is stored in memory.\n",
    "\n",
    "If you want to make a comparison, you can then update the line of code to include the appropriate Boolean operator for the comparison that you wan to make and what you are comparing to."
   ]
  },
  {
   "cell_type": "code",
   "execution_count": null,
   "id": "c5f812a5-5aa6-4218-9968-74a97d9f61c7",
   "metadata": {},
   "outputs": [],
   "source": []
  }
 ],
 "metadata": {
  "kernelspec": {
   "display_name": "Python [conda env:base] *",
   "language": "python",
   "name": "conda-base-py"
  },
  "language_info": {
   "codemirror_mode": {
    "name": "ipython",
    "version": 3
   },
   "file_extension": ".py",
   "mimetype": "text/x-python",
   "name": "python",
   "nbconvert_exporter": "python",
   "pygments_lexer": "ipython3",
   "version": "3.11.0"
  }
 },
 "nbformat": 4,
 "nbformat_minor": 5
}
