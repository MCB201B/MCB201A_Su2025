{
 "cells": [
  {
   "cell_type": "markdown",
   "id": "3c6e6bf1-860d-4117-b326-dd0264b43367",
   "metadata": {},
   "source": [
    "<h1 style=\"font-size: 40px; margin-bottom: 0px;\">16.5 Python Data Structures</h1>\n",
    "\n",
    "<hr style=\"margin-left: 0px; border: 0.25px solid; border-color: #000000; width: 750px;\"></hr>"
   ]
  },
  {
   "cell_type": "markdown",
   "id": "26bae9a7-62b3-4474-977a-aa98c2b514d9",
   "metadata": {},
   "source": [
    "Today in lecture, we went over some more compound data types and how to work with them in Python. Of particular importance are the data structures found in the Pandas package, which is commonly used for data analysis and one that we'll make extensive use of in the Fall semester. In today's exercises, you'll review lists, reinforce what you learned with new compound data types, and begin learning more about Series. Tomorrow, we'll continue with reinforcing our understanding of DataFrames and practicing working with them. \n",
    "\n",
    "<strong>Today's learning objectives:</strong>\n",
    "<ol>\n",
    "    <li>Import necessary packages</li>\n",
    "    <li>Learn to work with different compound data types</li>\n",
    "    <li>Understand Series</li>\n",
    "    <li>Practice basic operations on data structures</li>\n",
    "</ol>"
   ]
  },
  {
   "cell_type": "markdown",
   "id": "9ae743d2-a190-4d0c-99d5-114a8c04efa6",
   "metadata": {},
   "source": [
    "<h1 style=\"font-size: 40px; margin-bottom: 0px;\">Exercises</h1>\n",
    "<hr style=\"margin-left: 0px; border: 0.25px solid; border-color: #000000; width: 400px;\"></hr>"
   ]
  },
  {
   "cell_type": "markdown",
   "id": "e563f902-97b9-4852-80cd-46d62ca9b833",
   "metadata": {},
   "source": [
    "<h1 style=\"font-size: 32px;\">Exercise #1: Import packages</h1>"
   ]
  },
  {
   "cell_type": "markdown",
   "id": "5e444301-dc8c-4d60-aeef-6bcafe74b240",
   "metadata": {},
   "source": [
    "As a common practice, you generally will want to import all the packages that you'll need at the top of your notebook or Python file, so that you have all your definitions ready to go for when you need to call them up later on in your file.\n",
    "\n",
    "Recall that importing a package into your notebook or Python file makes use of the <code>import</code> keyword, and you can also assign a name to the package or module that you're importing using the <code>as</code> keyword.\n",
    "\n",
    "Run the code cell below to import the packages that we'll use today."
   ]
  },
  {
   "cell_type": "code",
   "execution_count": null,
   "id": "32f6416b-d911-407e-8333-edec913c643a",
   "metadata": {},
   "outputs": [],
   "source": [
    "import numpy as np\n",
    "import pandas as pd"
   ]
  },
  {
   "cell_type": "markdown",
   "id": "4e2977a1-41d1-4e8e-a331-ac7d3dcd991f",
   "metadata": {},
   "source": [
    "<h1 style=\"font-size: 32px;\">Exercise #2: Append lists</h1>"
   ]
  },
  {
   "cell_type": "markdown",
   "id": "a3eead48-25bc-4980-ba5d-e75e06400486",
   "metadata": {},
   "source": [
    "Recall that lists are mutable, and we can not only change elements within a list but also append new elements to an existing list. To do this, you'll need to make use of the <code>list.append()</code> function, where <code>list</code> is replaced by your list that you want to append something to. You'll pass your object to be appended in the parentheses, so your code would look something like the below example:\n",
    "\n",
    "```\n",
    "time = ['breakfast', 'lunch', 'dinner']\n",
    "\n",
    "time.append('bonito flake')\n",
    "```\n",
    "\n",
    "Create a new code cell below and do the following:\n",
    "<ol>\n",
    "    <li>Create a new list and assign it to a variable</li>\n",
    "    <li>Use the <code>list.append()</code> function to append a new object to your list</li>\n",
    "    <li>Use the <code>print()</code> function to check if you successfully appended your object to your list</li>\n",
    "</ol>"
   ]
  },
  {
   "cell_type": "markdown",
   "id": "0eb19c9f-34c7-4515-8758-4b4bf52d7aed",
   "metadata": {},
   "source": [
    "<h1 style=\"font-size: 32px;\">Exercise #3: Use a list to create an array</h1>"
   ]
  },
  {
   "cell_type": "markdown",
   "id": "3c4fc80a-9b9d-4c22-9a7f-07a4df3bedbd",
   "metadata": {},
   "source": [
    "Now using the list from exercise #2, create a numpy array using the <code>np.array()</code> function. <a href=\"https://numpy.org/doc/stable/reference/generated/numpy.array.html\" rel=\"noopener noreferrer\"><u>Documentation for the <code>np.array()</code> function can be found here.</u></a>\n",
    "\n",
    "You'll need to pass your list to the <code>np.array()</code> function, and don't forget to assign your array to a new variable so that you'll be able to use it later on.\n",
    "\n",
    "Unlike the <code>list.append()</code> function, the <code>np</code> portion of this function is to instruct our Python interpreter that we are calling up a definition from the numpy package, so it knows where to look to find the correct definition."
   ]
  },
  {
   "cell_type": "code",
   "execution_count": null,
   "id": "44ad642f-cb43-481a-a9e8-b96334857a5a",
   "metadata": {},
   "outputs": [],
   "source": []
  },
  {
   "cell_type": "markdown",
   "id": "2ee6ddfd-7b36-48b2-b7c6-934a61456b91",
   "metadata": {},
   "source": [
    "<h1 style=\"font-size: 32px;\">Exercise #4: Accessing elements of an array</h1>"
   ]
  },
  {
   "cell_type": "markdown",
   "id": "6ec7c613-dcd4-456a-b338-bcf583b5eb27",
   "metadata": {},
   "source": [
    "Like with lists, you can have Python pull and return specific elements or a slice of your array, and you can do so with the same syntax.\n",
    "\n",
    "Give it a try below to see if you can pull a single element and if you can pull a slice out of your newly created array."
   ]
  },
  {
   "cell_type": "code",
   "execution_count": null,
   "id": "b5d13af9-19b7-4d86-bfff-c6510baf4113",
   "metadata": {},
   "outputs": [],
   "source": []
  },
  {
   "cell_type": "markdown",
   "id": "fb487553-d11f-438e-902f-578d0ff9f2f6",
   "metadata": {},
   "source": [
    "<h1 style=\"font-size: 32px;\">Exercise #5: Math operations in arrays</h1>"
   ]
  },
  {
   "cell_type": "markdown",
   "id": "391e1d82-e2cc-4f2d-abfd-310bc87c4af1",
   "metadata": {},
   "source": [
    "Recall from lecture that arrays are able to handle math operations whereas lists cannot, and lists will treat them more like how a string would. In the code cell below, create a new array consisting of floats and/or ints and a list consisting of the same elements. Don't forget to assign them to their own variables."
   ]
  },
  {
   "cell_type": "code",
   "execution_count": null,
   "id": "da645669-8092-44bf-ad46-cca34de9dc2b",
   "metadata": {},
   "outputs": [],
   "source": []
  },
  {
   "cell_type": "markdown",
   "id": "b2db6590-0642-4c00-af1c-66c0568ba0c1",
   "metadata": {},
   "source": [
    "Now perform some basic mathematical operations on your array and try to do the same on your list."
   ]
  },
  {
   "cell_type": "code",
   "execution_count": null,
   "id": "967628fe-983f-4b4d-9dd0-408700d4f20d",
   "metadata": {},
   "outputs": [],
   "source": []
  },
  {
   "cell_type": "markdown",
   "id": "8e31c5a3-5a81-42b5-8c4e-197ee744efa4",
   "metadata": {},
   "source": [
    "What ends up happening to the values in the array compared to what happens to the list? Do you run into any errors when trying to perform operations on a list?"
   ]
  },
  {
   "cell_type": "code",
   "execution_count": null,
   "id": "734e9ad7-d003-4346-83d7-061b753f57ee",
   "metadata": {},
   "outputs": [],
   "source": []
  },
  {
   "cell_type": "markdown",
   "id": "405a204c-a39f-4e44-a83e-2b830cbc8fdd",
   "metadata": {},
   "source": [
    "<h1 style=\"font-size: 32px;\">Exercise #6: Modifying arrays</h1>"
   ]
  },
  {
   "cell_type": "markdown",
   "id": "9213ea1d-4aaa-4239-86a4-38a494f1eae1",
   "metadata": {},
   "source": [
    "Arrays like lists are mutable, and as a result, the elements in an array can be changed, and new elements can be added to an array.\n",
    "\n",
    "In the spot below, see if you can use the same syntax that you would to modify a single element in a list to update an element in your array that you set up in exercise #3."
   ]
  },
  {
   "cell_type": "code",
   "execution_count": null,
   "id": "de2de0f7-5773-471d-8962-4757ce30e48c",
   "metadata": {},
   "outputs": [],
   "source": []
  },
  {
   "cell_type": "markdown",
   "id": "ef6731aa-46a2-420e-89cb-27e1b58f3bd3",
   "metadata": {},
   "source": [
    "Now see if you can make use of the <code>np.append()</code> function to add a new element(s) to your list. <a href=\"https://numpy.org/doc/stable/reference/generated/numpy.append.html\" rel=\"noopener noreferrer\"><u>Documentation for <code>np.append</code> can be found here.</u></a> \n",
    "\n",
    "When you take a look at the documentation, what does the function need in order to perform its task?\n",
    "\n",
    "What parameter will take your array? What parameter will take the new values that you want to append to your array?"
   ]
  },
  {
   "cell_type": "code",
   "execution_count": null,
   "id": "a0419a1b-9d59-4aed-9b0c-65a80099a460",
   "metadata": {},
   "outputs": [],
   "source": []
  },
  {
   "cell_type": "markdown",
   "id": "17680b68-0b68-4182-9538-beac107a92f1",
   "metadata": {},
   "source": [
    "Were you able to append new elements to your array? Did you encounter any errors with data type conflicts or other types of errors?"
   ]
  },
  {
   "cell_type": "code",
   "execution_count": null,
   "id": "cca192d1-39c6-4b8a-945d-2ad9d158dd50",
   "metadata": {},
   "outputs": [],
   "source": []
  },
  {
   "cell_type": "markdown",
   "id": "b5c3a9b9-6c38-4b34-bd54-b9fb94705fe5",
   "metadata": {},
   "source": [
    "<h1 style=\"font-size: 32px;\">Exercise #7: Set up a 2D list and a 2D array</h1>"
   ]
  },
  {
   "cell_type": "markdown",
   "id": "bdf00602-06e0-4c7a-ad71-b6e0b0a79ca9",
   "metadata": {},
   "source": [
    "This exercise will be slightly more challenging than the previous ones, and it'll require you to visualize the structure of your 2D list and 2D array in order to set it up from 1-dimensional text.\n",
    "\n",
    "Recall that lists can be set up using the square brackets <code>&lbrack; &rbrack;</code>, and if you want to create a 2D list, you essentially need to nest list(s) within a larger list. In order words, you create a list of lists where the number of nested lists determines one dimension, and the number of elements in each nested list determines the second dimension.\n",
    "\n",
    "See if you can set up a 2 column x 3 row list and use the <code>np.array()</code> function to create a 2D array from it. Don't forget to assign both to their own variables."
   ]
  },
  {
   "cell_type": "code",
   "execution_count": null,
   "id": "2cff866a-f4ad-40bf-82de-ce4a59e1171d",
   "metadata": {},
   "outputs": [],
   "source": []
  },
  {
   "cell_type": "markdown",
   "id": "e6c3d1b0-d8b6-42c5-8e9c-79ffa722c47d",
   "metadata": {},
   "source": [
    "Now use the <code>print()</code> function to see how the output looks for a 2D list vs a 2D array. What difference do you see in terms of how they are written out?"
   ]
  },
  {
   "cell_type": "code",
   "execution_count": null,
   "id": "0f2d39f2-879b-48bf-9cc9-256abca6f3be",
   "metadata": {},
   "outputs": [],
   "source": []
  },
  {
   "cell_type": "markdown",
   "id": "39611c83-5ca4-42d8-8199-5933ac78e7b6",
   "metadata": {},
   "source": [
    "<h1 style=\"font-size: 32px;\">Exercise #8: Pull an element from a 2D list and 2D array</h1>"
   ]
  },
  {
   "cell_type": "markdown",
   "id": "cb6f356c-e821-4f92-9a81-a2a1d96204bd",
   "metadata": {},
   "source": [
    "Now take what you know about accessing elements in a list one step further to pull out a specific element from a 2D list. Think about how you specified the position for a one-dimensional list, and how you can pull from a second axis if you have a two dimensional list."
   ]
  },
  {
   "cell_type": "code",
   "execution_count": null,
   "id": "7de74d1d-1cdb-48a9-84ca-e88a63ccf315",
   "metadata": {},
   "outputs": [],
   "source": []
  },
  {
   "cell_type": "markdown",
   "id": "5d49359a-3134-4b54-a3bd-13b7382ed90c",
   "metadata": {},
   "source": [
    "Give it a try for a 2D array, which follows a similar syntax to pull elements out."
   ]
  },
  {
   "cell_type": "code",
   "execution_count": null,
   "id": "bc3ae96b-ba95-400c-beae-320800b1bac5",
   "metadata": {},
   "outputs": [],
   "source": []
  },
  {
   "cell_type": "markdown",
   "id": "1f0e4d19-6f03-447a-9b05-6a1fe4716811",
   "metadata": {},
   "source": [
    "<h1 style=\"font-size: 32px;\">Exercise #9: Understanding tuples</h1>"
   ]
  },
  {
   "cell_type": "markdown",
   "id": "08086e32-92c1-4397-a24c-13b437f57fdd",
   "metadata": {},
   "source": [
    "Tuples are another compound data type in Python, and it's largely similar to a list. The key difference is that while lists are changeable (mutable), tuples cannot be changed (immutable). This means that while you can modify a list or array with functions such as <code>list.append()</code> or <code>np.append()</code>, you cannot do so with a tuple. \n",
    "\n",
    "Tuples can contain a heterogeneous set of data types, so in that instance, they are similar to a list. The elements stored within a tuple are indexed by integers, like lists and arrays. So you can have Python return specific elements of a tuple.\n",
    "\n",
    "<strong>Creating a tuple</strong>\n",
    "\n",
    "The syntax for creating a tuple in Python is with parentheses <code>( )</code> with each element of a tuple separated by a comma. \n",
    "\n",
    "```\n",
    "(1, 4, 5, 19, 25, 60)\n",
    "```\n",
    "\n",
    "Since parantheses are also used in Python for grouping, there's an additional consideration you need to keep in mind if you ever want to create a tuple with a single element. You'll need to add a hanging comma after the single element to specify that it is a tuple containing just one element.\n",
    "\n",
    "```\n",
    "(1,)\n",
    "```\n",
    "\n",
    "Give it a try below. Create a tuple and assign it to a variable."
   ]
  },
  {
   "cell_type": "code",
   "execution_count": null,
   "id": "4a9c93cc-7c45-4059-81d5-81f7d3a3a8fd",
   "metadata": {},
   "outputs": [],
   "source": []
  },
  {
   "cell_type": "markdown",
   "id": "9560aa84-9e53-47e4-953a-030572f4c4b2",
   "metadata": {},
   "source": [
    "<h1 style=\"font-size: 32px;\">Exercise #10: Accessing elements of a tuple</h1>"
   ]
  },
  {
   "cell_type": "markdown",
   "id": "577a1883-8d26-4341-a58c-ca0023f82a97",
   "metadata": {},
   "source": [
    "Because elements in a tuple also have an index, much like lists and arrays, you can also use slice notation to access the elements of a tuple. Go ahead and give it a try below."
   ]
  },
  {
   "cell_type": "code",
   "execution_count": null,
   "id": "3b107270-6fdb-43e3-b4cc-fee576f1fa10",
   "metadata": {},
   "outputs": [],
   "source": []
  },
  {
   "cell_type": "markdown",
   "id": "7ffd7aa3-0d38-433a-8781-1200012db3c3",
   "metadata": {},
   "source": [
    "Now what happens if you try to update an element of a tuple with something else? Do you encounter an error? What is it telling you?"
   ]
  },
  {
   "cell_type": "code",
   "execution_count": null,
   "id": "e264fabc-da9f-4087-b3b0-c7c926e9132f",
   "metadata": {},
   "outputs": [],
   "source": []
  },
  {
   "cell_type": "markdown",
   "id": "fe4faa2e-b333-415e-938b-1e9ad5a43195",
   "metadata": {},
   "source": [
    "<h1 style=\"font-size: 32px;\">Exercise #11: Packing and unpacking a tuple</h1>"
   ]
  },
  {
   "cell_type": "markdown",
   "id": "068bbc9a-0949-48a6-ab32-b33d5c55e149",
   "metadata": {},
   "source": [
    "Tuple packing occurs when you assign multiple values to a single variable. Python will interpret the assignment to generate a tuple from the different values that you assigned.\n",
    "\n",
    "```\n",
    "packed_potato = 1, 'hot potato', 2, 'tired potato', 3\n",
    "```\n",
    "\n",
    "The five objects to the right of the <code>=</code> operator will be packed together into a single tuple that is assigned to the variable <code>packed_potato</code>\n",
    "\n",
    "You can unpack a tuple to extract the values stored within it as individual variables:\n",
    "\n",
    "```\n",
    "u1, u2, u3, u4, u5 = packed_potato\n",
    "```\n",
    "\n",
    "In this case, you have multiple variables on the left side of the <code>=</code> operator, which Python will then interpret as unpacking the tuple into its individual objects and assigning each object to each variable. This requires that you have provided as many variables on the left as there are objects in the tuple.\n",
    "\n",
    "See if you can set up a handful of objects and pack them into a tuple and then unpack the tuple with a new set of variables. Then have Python output one of the unpacked tuple objects using the <code>print()</code> function."
   ]
  },
  {
   "cell_type": "code",
   "execution_count": null,
   "id": "709ca5e6-a5ce-4636-b67e-9a1482af0d14",
   "metadata": {},
   "outputs": [],
   "source": []
  },
  {
   "cell_type": "markdown",
   "id": "e37304f1-172e-4886-84d9-651270e977a2",
   "metadata": {},
   "source": [
    "<h1 style=\"font-size: 32px;\">Exercise #12: Zip together lists and/or arrays to use in a for-loop</h1>"
   ]
  },
  {
   "cell_type": "markdown",
   "id": "bdada5c3-800b-4964-8b96-dbc4df7c2811",
   "metadata": {},
   "source": [
    "For this exercise, set up two lists and two arrays that are all equal in length. They don't have to have the same objects contained within them for this example, but their lengths should be equal.\n",
    "\n",
    "Now set up a for-loop where you print out the resulting tuples that arise from zipping together two lists/arrays using the <code>zip()</code> function.\n",
    "What do you need to set up a for-loop and what's the appropriate syntax to do so? Your for-loop should look something like:\n",
    "\n",
    "```\n",
    "for i in zip(list_1, list_2):\n",
    "    print(i)\n",
    "```"
   ]
  },
  {
   "cell_type": "code",
   "execution_count": null,
   "id": "f39cdfb0-4c9f-4e2f-b750-f8799eaa56ce",
   "metadata": {},
   "outputs": [],
   "source": []
  },
  {
   "cell_type": "markdown",
   "id": "a93fbb2b-d808-4d63-b25a-1365fd55d4e1",
   "metadata": {},
   "source": [
    "What do you notice about how the two lists/arrays got zipped together? Are they paired by position or by something else?\n",
    "\n",
    "Now unpack the tuple while iterating through the zipped lists. What do you need to adjust in your original for-loop so that you can unpack the tuples?\n"
   ]
  },
  {
   "cell_type": "code",
   "execution_count": null,
   "id": "64be40f4-2acc-4a94-9444-bf381b33d7b4",
   "metadata": {},
   "outputs": [],
   "source": []
  },
  {
   "cell_type": "markdown",
   "id": "f3513efe-2140-4e76-b5d3-2447a53db6b7",
   "metadata": {},
   "source": [
    "<h1 style=\"font-size: 32px;\">Exercise #13: Understanding sets</h1>"
   ]
  },
  {
   "cell_type": "markdown",
   "id": "f7b2b8bd-e2d9-4196-91a4-71444fd9a02d",
   "metadata": {},
   "source": [
    "Sets can contain either homogeneous data types or heterogeneous data types. While you can add and remove elements within a set, the elements themselves cannot be mutable. One notable distinction from the previous compound data types is that sets are unordered and also unindexed. Additionally, you can't have duplicate elements in a set, and since sets are unordered, each time you use a set, the order can be different. This means that you can't use the usual indexing and slicing syntax to retrieve information from a set. There is a special set of operators that allow you to operate on a set.\n",
    "\n",
    "Sets are denoted with curly brackets <code>{ }</code>, and each object is separated by commas.\n",
    "\n",
    "```\n",
    "{'tomato', 1, 'potato', 3, 'rice', 'wheat', 6}\n",
    "```\n",
    "\n",
    "Create a few sets below with some shared and some not shared values. Don't forget to assign them to variables, as we'll be performing set operations on them."
   ]
  },
  {
   "cell_type": "code",
   "execution_count": null,
   "id": "261775d1-5655-41f4-8f68-3a95785d65bf",
   "metadata": {},
   "outputs": [],
   "source": []
  },
  {
   "cell_type": "markdown",
   "id": "bffccd85-fc12-4be8-bd96-4b5277e6c595",
   "metadata": {},
   "source": [
    "<h1 style=\"font-size: 32px;\">Exercise #14: Updating sets</h1>"
   ]
  },
  {
   "cell_type": "markdown",
   "id": "5ec73657-3529-4203-9908-2789583fb5c8",
   "metadata": {},
   "source": [
    "You can add or remove elements from a set using either the <code>update()</code> function to add something, or the <code>remove()</code> function to remove an element. For <code>remove()</code>, you will get an error if what you want to remove is not contained within the set. An alternative function is <code>discard()</code>, which won't raise an error if the value is not present in the set. \n",
    "\n",
    "Play around with these functions to update your sets, and see if you can add a three more elements to each set that are unique to each of them."
   ]
  },
  {
   "cell_type": "code",
   "execution_count": null,
   "id": "19cd8077-c84e-43a7-a6ed-ab64bad92fd3",
   "metadata": {},
   "outputs": [],
   "source": []
  },
  {
   "cell_type": "markdown",
   "id": "081a861b-31ae-47c0-8906-3749d0e30a73",
   "metadata": {},
   "source": [
    "<h1 style=\"font-size: 32px;\">Exercise #15: Operate on sets</h1>"
   ]
  },
  {
   "cell_type": "markdown",
   "id": "a6ed67ba-e424-43f2-b9f4-401be505f374",
   "metadata": {},
   "source": [
    "To compare sets, we can use operators such as:\n",
    "<ul>\n",
    "    <li><code>&vert;</code> or <code>union()</code> to output all elements of both sets without duplication</li>\n",
    "    <li><code>&amp;</code> or <code>intersection()</code> to output the shared elements of both sets</li>\n",
    "    <li><code>&minus;</code> or <code>difference()</code> to output the elements in the first set that are not in the second</li>\n",
    "    <li><code>&Hat;</code> or <code>symmetric_difference()</code> to output the elements in the that are either in the first set or the second set but not in both sets</li>\n",
    "</ul>\n",
    "\n",
    "See if you can make use of each of these operators on the sets that you created to identify where the union, intersection, difference, and symmetric differences lie."
   ]
  },
  {
   "cell_type": "code",
   "execution_count": null,
   "id": "587ff2bb-5913-4eaa-9165-51bbeab87525",
   "metadata": {},
   "outputs": [],
   "source": []
  },
  {
   "cell_type": "markdown",
   "id": "08a560b8-d740-4c87-a464-6c8b60a51803",
   "metadata": {},
   "source": [
    "<h1 style=\"font-size: 32px;\">Exercise #16: Understanding dictionaries</h1>"
   ]
  },
  {
   "cell_type": "markdown",
   "id": "6481d7d8-732a-409b-b4bf-54a186b03175",
   "metadata": {},
   "source": [
    "Dictionaries are a type of compound data structure that allows us to associate a value to a specific key for more efficient access to that value. While we can use lists to perform this same function, dictionaries are faster. In a dictionary, values are mapped to a unique key that can be used to quickly find a specific object (the mapped value). The speed comes from the fact that dictionary keys are hashable, meaning that they can be assigned an integer value which then is a shortcut to find the associated value.\n",
    "\n",
    "You can test it out below. Check any an object's ID using <code>id()</code> and then check its hash using <code>hash()</code>. Do you notice any differences between the outputs? What's the ID value telling us versus the hash value?"
   ]
  },
  {
   "cell_type": "code",
   "execution_count": null,
   "id": "f51a9cfc-35c0-4597-b076-d502e10c8fcc",
   "metadata": {},
   "outputs": [],
   "source": []
  },
  {
   "cell_type": "markdown",
   "id": "7e24e369-276c-4d0f-8b0c-f841ddde4ad5",
   "metadata": {},
   "source": [
    "<h1 style=\"font-size: 32px;\">Exercise #17: Creating dictionaries</h1>"
   ]
  },
  {
   "cell_type": "markdown",
   "id": "c2425161-6d28-4d20-a2f0-40b8cf47fffe",
   "metadata": {},
   "source": [
    "To create a dictionary, you will make use of the curly brackets <code>{ }</code> or the <code>dict()</code> function. You'll pair up a key with a value by following the <code>key:value</code> syntax and separating pairs with commas.\n",
    "\n",
    "So an example would be something like:\n",
    "\n",
    "```\n",
    "cat_dictionary = {'Tony': 1, 'Victor': 2, 'Liebchen': 3}\n",
    "```\n",
    "\n",
    "See if you can set up your own dictionary following the same syntax. Don't forget to save the dictionary to a variable."
   ]
  },
  {
   "cell_type": "markdown",
   "id": "bed84afe-2e42-4818-a27e-77459754daa2",
   "metadata": {},
   "source": []
  },
  {
   "cell_type": "markdown",
   "id": "a048a75f-e7e0-4de0-ab38-4c05e0b71ce6",
   "metadata": {},
   "source": [
    "<h1 style=\"font-size: 32px;\">Exercise #18: Accessing values in a dictionary through a key</h1>"
   ]
  },
  {
   "cell_type": "markdown",
   "id": "5f3114e0-0c5a-4aea-86f9-ad9139ca9c35",
   "metadata": {},
   "source": [
    "As shown in lecture, you can make use of 'dictionary' notation to pull out the value associated with a specific key. This isn't too different than trying to access a single element from an array or list. The only difference is that instead of specifying the index position, you'll specify the key instead.\n",
    "\n",
    "For example:\n",
    "\n",
    "```\n",
    "cat_dictionary['Tony']\n",
    "```\n",
    "\n",
    "The example will pull the value associated with the key <code>'Tony'</code>.\n",
    "\n",
    "Practice pulling values from your dictionary by specifying the associated key."
   ]
  },
  {
   "cell_type": "code",
   "execution_count": null,
   "id": "1eee1b7d-9a42-4916-83eb-ec73e3f28e08",
   "metadata": {},
   "outputs": [],
   "source": []
  },
  {
   "cell_type": "markdown",
   "id": "9925cbab-73f4-4ce0-8102-775f05d4a38d",
   "metadata": {},
   "source": [
    "<h1 style=\"font-size: 32px;\">Exercise #19: Updating values in a dictionary through a key</h1>"
   ]
  },
  {
   "cell_type": "markdown",
   "id": "a008d7bc-c583-4e57-b036-87b6e02641f0",
   "metadata": {},
   "source": [
    "Similarly to lists and arrays, when we call up a key and its associated value, we can also assign a new value to that key by making use of the assignment operator <code>=</code>.\n",
    "\n",
    "Give it a try below. See if you can assign a new value to one of your dictionary keys."
   ]
  },
  {
   "cell_type": "code",
   "execution_count": null,
   "id": "0d9bc4e6-80f6-4ff5-86ff-7281c835bb5d",
   "metadata": {},
   "outputs": [],
   "source": []
  },
  {
   "cell_type": "markdown",
   "id": "72d13122-5706-4d90-ac2b-adae538fffa1",
   "metadata": {},
   "source": [
    "Now check to see if the value was properly updated."
   ]
  },
  {
   "cell_type": "code",
   "execution_count": null,
   "id": "2e24d945-69a7-4cb9-af22-496fdb957140",
   "metadata": {},
   "outputs": [],
   "source": []
  },
  {
   "cell_type": "markdown",
   "id": "9807b24d-7620-46e2-98eb-04f3391f3763",
   "metadata": {},
   "source": [
    "<h1 style=\"font-size: 32px;\">Exercise #19: Adding new values in a dictionary through a key</h1>"
   ]
  },
  {
   "cell_type": "markdown",
   "id": "659a9f38-dabd-49a6-8537-b74a2bc643fa",
   "metadata": {},
   "source": [
    "You can take advantage of 'dictionary' notation to essentially pull up a 'non-existent' key and assign a new value to it kind of like it had always existed. This will create a new key:value pair in your dictionary, and you'll be able to access that value through the same key.\n",
    "\n",
    "Give it a try below, where you pull up a key that doesn't exist in your dictionary and then use the assignment operator to assign a new value to that key."
   ]
  },
  {
   "cell_type": "code",
   "execution_count": null,
   "id": "9c12e76e-648c-4f98-8f12-9447dd78621a",
   "metadata": {},
   "outputs": [],
   "source": []
  },
  {
   "cell_type": "markdown",
   "id": "0eb0c0b5-0857-4f55-b59a-c39cfab4b211",
   "metadata": {},
   "source": [
    "Now check to see if the assignment was successful and if your dictionary now has been updated with that new key:value pair."
   ]
  },
  {
   "cell_type": "code",
   "execution_count": null,
   "id": "ec3a8acd-56da-4ecf-9c96-2b3e52cd7f89",
   "metadata": {},
   "outputs": [],
   "source": []
  },
  {
   "cell_type": "markdown",
   "id": "02bdcdac-e1af-408d-bf24-3c053bb9e532",
   "metadata": {},
   "source": [
    "<h1 style=\"font-size: 32px;\">Exercise #20: Deleting key:value pairs in a dictionary</h1>"
   ]
  },
  {
   "cell_type": "markdown",
   "id": "9a827d60-665f-4658-9b70-54b2538273bf",
   "metadata": {},
   "source": [
    "There are two ways to delete a key:value pair from a dictionary. The first is to make use of the <code>del</code> keyword followed by invoking the dictionary and key associated with the key:value pair that you want to delete. Alternatively, you can also make use of the <code>dict.pop()</code> function, which will delete the key:value pair for the key that you provide it and then also output the value that got deleted.\n",
    "\n",
    "For example, if I wanted to delete the key value pair <code>'Tony': 1</code> from the <code>cat_dictionary</code>, the code would be as follows:\n",
    "\n",
    "```\n",
    "del cat_dictionary['Tony']\n",
    "```\n",
    "\n",
    "or\n",
    "\n",
    "```\n",
    "cat_dictionary.pop('Tony')\n",
    "```\n",
    "\n",
    "The key distinction is that <code>dict.pop()</code> will not run into errors if the key does not exist, whereas the <code>del</code> keyword will throw an error if the key does not exist.\n",
    "\n",
    "See if you can delete a key:value pair from your dictionary using either of the above methods."
   ]
  },
  {
   "cell_type": "code",
   "execution_count": null,
   "id": "de8c20d4-fd0b-469c-a4f9-4d314b374c52",
   "metadata": {},
   "outputs": [],
   "source": []
  },
  {
   "cell_type": "markdown",
   "id": "1542f0c2-633f-4727-b76c-90c292669aff",
   "metadata": {},
   "source": [
    "<h1 style=\"font-size: 32px;\">Exercise #21: Using a random number generator</h1>"
   ]
  },
  {
   "cell_type": "markdown",
   "id": "e1661108-60bb-422a-9239-d58d830e4e83",
   "metadata": {},
   "source": [
    "For these sets of exercises, we'll make use of a random number generator to populate our Series and DataFrames. One random number generator function that we'll use is the <code>np.random.rand()</code> function from the numpy package. <a href=\"https://numpy.org/doc/stable/reference/random/generated/numpy.random.rand.html\" rel=\"noopener noreferrer\"><u>Documentation for <code>np.random.rand()</code> can be found here.</u></a> This function simply needs us to pass a number that will define the shape of the array containing random numbers between 0 and 1 (excluding 1).\n",
    "\n",
    "Give the random number generator a try below. Give it a single number. What is it's output? Is it one-dimensional?\n",
    "\n"
   ]
  },
  {
   "cell_type": "code",
   "execution_count": null,
   "id": "3ad716ba-29f7-4a91-b562-a9de40c91e71",
   "metadata": {},
   "outputs": [],
   "source": []
  },
  {
   "cell_type": "markdown",
   "id": "4d1ea492-a33a-46b2-b50b-71037fa95fa1",
   "metadata": {},
   "source": [
    "What if instead, we provide it with a list containing 2 numbers? How does the output look?"
   ]
  },
  {
   "cell_type": "code",
   "execution_count": null,
   "id": "647b288a-0232-48fc-bffc-1b9224cbb235",
   "metadata": {},
   "outputs": [],
   "source": []
  },
  {
   "cell_type": "markdown",
   "id": "b3d5f790-6d06-4f19-8095-ab3a590cc5c5",
   "metadata": {},
   "source": [
    "<h1 style=\"font-size: 32px;\">Exercise #22: Understanding Pandas Series</h1>"
   ]
  },
  {
   "cell_type": "markdown",
   "id": "1da702f3-0536-498c-b42b-203d62245a48",
   "metadata": {},
   "source": [
    "A pandas Series is a one-dimensional labeled array, and it acts similarly to an array. But a Series is also dictionary-like. As you saw in lecture, you can perform certain operations as if your Series is a dictionary. \n",
    "\n",
    "So to get a better understanding of what's going on under the hood, we'll create a Series and poke around with it to see how it's handled by Python.\n",
    "\n",
    "We've already imported <code>pandas</code> as <code>pd</code> earlier, so we already have the package imported and ready to use. To create a pandas Series, you will use the <code>pd.Series()</code> function. <a href=\"https://pandas.pydata.org/docs/reference/api/pandas.Series.html\" rel=\"noopener noreferrer\"><u>Documentation for <code>pd.Series()</code> can be found here.</u></a>. Don't forget that we imported pandas as <code>pd</code>, so the <code>pd</code> is telling the Python interpreter where it can find the definitions we're invoking here.\n",
    "\n",
    "```\n",
    "pd.Series(data, index=index)\n",
    "```\n",
    "\n",
    "Where <code>data</code> can be a scalar value (which is basically just a single value of some kind) or an <code>ndarray</code> or a Python dictionary.\n",
    "\n",
    "When creating a Series, the index is by default set up similarly to an <code>ndarray</code>, with the element in the first position indexed as 0, and the element in the last position indexed with the length minus 1, or <code>len(your_data_set)-1</code>. \n",
    "\n",
    "So let's start off by creating a Series with a random value and a defined Series size, and we can break it down to better understand how to read Python code as things get slightly more complicated. \n",
    "\n",
    "When you provide a scalar value (like an single <code>int</code> or <code>float</code>) when creating a Series along with an index length, pandas will create a Series repeating that scalar value for the entire length of the index.\n",
    "\n",
    "For this example, we'll be creating a set of 10 randomly generated numbers and using that array as the basis for our Series.\n",
    "\n",
    "```\n",
    "rand_array = np.random.rand(10)\n",
    "```\n",
    "\n",
    "Then to use that array to set up our Series:\n",
    "\n",
    "```\n",
    "rand_series = pd.Series(rand_array)\n",
    "```\n",
    "\n",
    "To better understand this, we can break this line down:\n",
    "<ul>\n",
    "    <li><code>rand_series</code> - this is our variable that we will assign to the Series we are creating</li>\n",
    "    <li><code>=</code> - this is our assignment operator</li>\n",
    "    <li><code>pd.Series()</code> - we are telling Python we want to use the <code>Series()</code> function of the pandas package that we imported as <code>pd</code></li>\n",
    "    <li><code>rand_array</code> - our array that we want to be the basis of our Series</li>\n",
    "</ul>\n",
    "\n",
    "Go ahead and set that up below."
   ]
  },
  {
   "cell_type": "code",
   "execution_count": null,
   "id": "cfe8a915-358e-43d3-a751-2ceef18e6459",
   "metadata": {},
   "outputs": [],
   "source": []
  },
  {
   "cell_type": "markdown",
   "id": "67641c2e-7733-4caa-a34e-b8b3f6f90ef1",
   "metadata": {},
   "source": [
    "Now output your new Series using the <code>print</code> function. Note that if you re-run the intial line of code to generate a new array and Series, then your output will change as well since it's randomly generated."
   ]
  },
  {
   "cell_type": "code",
   "execution_count": null,
   "id": "e561fdda-881a-4d27-9f97-66d5b6a6bd35",
   "metadata": {},
   "outputs": [],
   "source": []
  },
  {
   "cell_type": "markdown",
   "id": "2fadeca2-c85d-463c-9fbd-5720176584f5",
   "metadata": {},
   "source": [
    "<h1 style=\"font-size: 32px;\">Exercise #23: Specify an index when setting up a Series</h1>"
   ]
  },
  {
   "cell_type": "markdown",
   "id": "5809deee-f746-487f-a66b-851fe159d80b",
   "metadata": {},
   "source": [
    "You might have noticed that in the documentation for <code>pd.Series()</code> that there was a parameter that you can use to specify your index values instead of having it just be reflective of the position. \n",
    "\n",
    "First, set up a list consisting of 10 strings."
   ]
  },
  {
   "cell_type": "code",
   "execution_count": null,
   "id": "90eb44d6-8c4e-4545-abf2-d36740310ec7",
   "metadata": {},
   "outputs": [],
   "source": []
  },
  {
   "cell_type": "markdown",
   "id": "31ec9c04-8dfc-4cde-87df-b4620525ffa8",
   "metadata": {},
   "source": [
    "Then, begin setting up the code to generate a new Series consisting of 10 randomly generated numbers, but this pass your list of 10 strings as an argument to the <code>index=</code> parameter. Then create your Series."
   ]
  },
  {
   "cell_type": "code",
   "execution_count": null,
   "id": "0e3dc80c-f037-4c2b-a6dc-d4cbf8fec3b1",
   "metadata": {},
   "outputs": [],
   "source": []
  },
  {
   "cell_type": "markdown",
   "id": "fb490141-ed0d-492c-92e7-675104fa8b96",
   "metadata": {},
   "source": [
    "Now output this Series and take a look at how the index looks compared to the other Series you set up without specifying an index."
   ]
  },
  {
   "cell_type": "code",
   "execution_count": null,
   "id": "98e3b5ac-6351-4185-95e5-c712066bdbfe",
   "metadata": {},
   "outputs": [],
   "source": []
  },
  {
   "cell_type": "markdown",
   "id": "4d8451b3-21fb-4d20-b51d-0a633bff1068",
   "metadata": {},
   "source": [
    "<h1 style=\"font-size: 32px;\">Exercise #24: Create a Series from a dictionary</h1>"
   ]
  },
  {
   "cell_type": "markdown",
   "id": "8ffe4d99-62bb-4f2f-ae11-f6afea9d4ede",
   "metadata": {},
   "source": [
    "Recall that Series are also dictionary-like, and as a result, you can also set up a Series from a dictionary object. The keys of the dictionary will become the index values (labels) of the Series, and the values of the dictionary will become the values of the Series.\n",
    "\n",
    "Below try setting up a Series using a dictionary that you have already set up from an earlier exercise. All you'll need to do is to provide the dictionary to the <code>pd.Series()</code> function, and you don't need to specify additional arguments."
   ]
  },
  {
   "cell_type": "code",
   "execution_count": null,
   "id": "fa46dca6-ed68-4041-bdb9-90b9c8b27757",
   "metadata": {},
   "outputs": [],
   "source": []
  },
  {
   "cell_type": "markdown",
   "id": "40412b0f-da9b-4988-be92-94152ad05468",
   "metadata": {},
   "source": [
    "Now output this Series. What dictionary component has become the labels of the Series and what has become the values?"
   ]
  },
  {
   "cell_type": "code",
   "execution_count": null,
   "id": "3209f371-e1f6-4d49-b7c0-46cb95e2fd0e",
   "metadata": {},
   "outputs": [],
   "source": []
  },
  {
   "cell_type": "markdown",
   "id": "bd8d63e2-88f9-4267-83ed-05e85e93a8f0",
   "metadata": {},
   "source": [
    "<h1 style=\"font-size: 32px;\">Exercise #25: Access elements of a Series</h1>"
   ]
  },
  {
   "cell_type": "markdown",
   "id": "75af11b9-b0f4-4ea0-9ab1-e620dc1b7874",
   "metadata": {},
   "source": [
    "Since a Series shows similarities to lists, arrays, and dictionaries, you can access elements within a Series similarly. Play around below to access the elements of one of your Series using slice notation and 'dictionary' notation."
   ]
  },
  {
   "cell_type": "code",
   "execution_count": null,
   "id": "2b196d57-f340-49f2-9186-1c53cd1b3477",
   "metadata": {},
   "outputs": [],
   "source": []
  },
  {
   "cell_type": "markdown",
   "id": "0a685662-e5ab-4c3b-8786-613dd0a7bde6",
   "metadata": {},
   "source": [
    "Do you get any warnings or run into issues when using one method over the other? "
   ]
  },
  {
   "cell_type": "markdown",
   "id": "9e4b5a3e-ad27-434d-bb95-89a0e0ed32b2",
   "metadata": {},
   "source": [
    "<h1 style=\"font-size: 40px; margin-bottom: 0px;\">Summary</h1>\n",
    "<hr style=\"margin-left: 0px; border: 0.25px solid; border-color: #000000; width: 400px;\"></hr>"
   ]
  },
  {
   "cell_type": "markdown",
   "id": "8835276d-af82-4f54-921c-ed3e64371d77",
   "metadata": {},
   "source": [
    "Today, you learned more about different compound data types, their differences, and how to operate on them. You also learned about Pandas Series and how to create a Series object. Much like with the other compound data types, you also learned how to operate on Series and to pull information out of them."
   ]
  }
 ],
 "metadata": {
  "kernelspec": {
   "display_name": "Python [conda env:base] *",
   "language": "python",
   "name": "conda-base-py"
  },
  "language_info": {
   "codemirror_mode": {
    "name": "ipython",
    "version": 3
   },
   "file_extension": ".py",
   "mimetype": "text/x-python",
   "name": "python",
   "nbconvert_exporter": "python",
   "pygments_lexer": "ipython3",
   "version": "3.11.0"
  }
 },
 "nbformat": 4,
 "nbformat_minor": 5
}
