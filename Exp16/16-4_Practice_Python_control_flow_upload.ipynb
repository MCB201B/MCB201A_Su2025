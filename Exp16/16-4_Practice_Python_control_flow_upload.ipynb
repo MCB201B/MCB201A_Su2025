{
 "cells": [
  {
   "cell_type": "markdown",
   "id": "8394d595-b4b3-4156-a337-44559a805c5d",
   "metadata": {},
   "source": [
    "<h1 style=\"font-size: 40px; margin-bottom: 0px;\">16.4 Practice Python Control Flow</h1>\n",
    "\n",
    "<hr style=\"margin-left: 0px; border: 0.25px solid; border-color: #000000; width: 750px;\"></hr>"
   ]
  },
  {
   "cell_type": "markdown",
   "id": "fe241514-0772-4c3f-9937-ac3f36799104",
   "metadata": {},
   "source": [
    "Today in lecture, we went over the basics of how code is executed in Python and what tools you have to change what and how code is executed. In today's exercises, you'll play around with a new data type (lists) and practice some control flow using common keywords and operators. \n",
    "\n",
    "<strong>Today's learning objectives:</strong>\n",
    "<ol>\n",
    "    <li>Learn about list data type</li>\n",
    "    <li>Set up conditional statements</li>\n",
    "    <li>Create for-loops</li>\n",
    "    <li>Define and use functions</li>\n",
    "</ol>"
   ]
  },
  {
   "cell_type": "markdown",
   "id": "730dccbb-4254-486f-8127-c812e6698e6a",
   "metadata": {},
   "source": [
    "<h1 style=\"font-size: 40px; margin-bottom: 0px;\">Exercises</h1>\n",
    "<hr style=\"margin-left: 0px; border: 0.25px solid; border-color: #000000; width: 400px;\"></hr>"
   ]
  },
  {
   "cell_type": "markdown",
   "id": "e6c3497b-9ae4-4d17-a7b9-bb752ac0597e",
   "metadata": {},
   "source": [
    "<h1 style=\"font-size: 32px;\">Exercise #1: Define a list</h1>"
   ]
  },
  {
   "cell_type": "markdown",
   "id": "a8d3e357-feda-41ce-9c4f-ed661a7afe98",
   "metadata": {},
   "source": [
    "In Python, <strong>lists</strong> are a type of compound data type that can be created and manipulated for data analysis and modeling. The objects within a list are referred to as elements, and they can be heterogeneous. So a list can contain an <strong>int</strong>, a <strong>float</strong>, and a <strong>str</strong>.\n",
    "\n",
    "<strong>Creating a list</strong>\n",
    "\n",
    "To create a list, you can denote a list with square brackets <code>[...]</code> and use commas to separate out each element of your list. In Python, commas can function as delimiters, meaning they denote a separation between two values.\n",
    "\n",
    "```\n",
    "[1, 5, \"potato\", 3.1415]\n",
    "```\n",
    "\n",
    "You can see that this line will generate a one-dimensional list containing 2 <strong>ints</strong>, 1 <strong>str</strong>, and 1 <strong>float</strong> data types, and the list itself is considered an object as well.\n",
    "\n",
    "In the code cell below, create a list, assign it to a variable, and then output the data type of the list."
   ]
  },
  {
   "cell_type": "code",
   "execution_count": null,
   "id": "82b3e8b8-d036-4822-b549-8f4c8fa6a2dc",
   "metadata": {},
   "outputs": [],
   "source": []
  },
  {
   "cell_type": "markdown",
   "id": "35610a41-986f-4db6-b0d2-e0f19176f401",
   "metadata": {},
   "source": [
    "<h1 style=\"font-size: 32px;\">Exercise #2: Access elements within a list</h1>"
   ]
  },
  {
   "cell_type": "markdown",
   "id": "203f21bc-b98f-423b-a969-75bd474a1128",
   "metadata": {},
   "source": [
    "Lists are indexed with the very first element at position <code>[0]</code>.\n",
    "\n",
    "So you can use the index to access the elements of an existing list by calling it using the following syntax.\n",
    "```\n",
    "potato_list[0]\n",
    "```\n",
    "In this case, you are telling Python that you want to get the element at position <code>[0]</code> (index value of 0) in the list <code>potato_list</code>. Don't forget that Python uses base-0 numbering/indexing, so the first element in a list or compoound data type will be <strong>0</strong>.\n",
    "\n",
    "So if you wanted to pull out the 3rd element of <code>potato_list</code>:\n",
    "```\n",
    "potato_list[2]\n",
    "```\n",
    "Because the first element is indexed as position 0, the third element will be indexed as position 2.\n",
    "\n",
    "If you want to access the last element of a list, and you don't know the final position, you can use the index -1.\n",
    "```\n",
    "potato_list[-1]\n",
    "```\n",
    "\n",
    "To pull out not just one element, but multiple elements (a slice) from a list, you can use slice notation <code>[start:end:step size]</code>. Note that the <code>end</code> actually signifies the position of the value that is one more than the last list value you want Python to return.\n",
    "```\n",
    "potato_list[0:3]\n",
    "```\n",
    "This returns the elements in from position 0 to 2 (i.e. the first three elements in <code>potato_list</code>.\n",
    "\n",
    "\n",
    "If we also include a step size:\n",
    "```\n",
    "potato_list[0:6:2]\n",
    "```\n",
    "This returns a list of every other element (because the step size is 2) for elements in position 0 to 5 (one less than 6).\n",
    "\n",
    "An alternative syntax is to use the <code>slice()</code> function. It follows the same argument breakdown as the <code>[start:end:step size]</code>, but instead of colons, you separate each argument with commas.\n",
    "```\n",
    "potato_list[slice(0, 6, 2)]\n",
    "```"
   ]
  },
  {
   "cell_type": "markdown",
   "id": "cfeef245-5f1f-4558-b0b9-dc3d8381a602",
   "metadata": {},
   "source": [
    "Using the list you defined in Exercise #1, pull some elements from your list and assign them to their own variables. Consider the number you are inputting and what element you would expect to pull out from your list."
   ]
  },
  {
   "cell_type": "code",
   "execution_count": null,
   "id": "dae040fd-a1e2-44e4-a0e3-cf2a83b1b08d",
   "metadata": {},
   "outputs": [],
   "source": []
  },
  {
   "cell_type": "markdown",
   "id": "f9e638ea-ed41-48dd-af6e-a788d05d8866",
   "metadata": {},
   "source": [
    "Then determine what data type those elements are."
   ]
  },
  {
   "cell_type": "code",
   "execution_count": null,
   "id": "d1e67426-d0ca-41e5-9fa5-b6384cddbd21",
   "metadata": {},
   "outputs": [],
   "source": []
  },
  {
   "cell_type": "markdown",
   "id": "da802f15-2835-4aeb-b596-722455d08390",
   "metadata": {},
   "source": [
    "<h1 style=\"font-size: 32px;\">Exercise #3: List property - length</h1>"
   ]
  },
  {
   "cell_type": "markdown",
   "id": "c285501e-2a47-46f7-b9ec-230432d25f26",
   "metadata": {},
   "source": [
    "If you want to find out how many elements are in a list (i.e. the list's length), you can use the in-built <code>len()</code> function.\n",
    "\n",
    "```\n",
    "len(potato_list)\n",
    "```\n",
    "\n",
    "This will return the length of <code>potato_list</code>.\n",
    "\n",
    "Give it a try with your list that you created in Exercise #1."
   ]
  },
  {
   "cell_type": "code",
   "execution_count": null,
   "id": "b66e1b5a-6e78-4835-8663-35278262579c",
   "metadata": {},
   "outputs": [],
   "source": []
  },
  {
   "cell_type": "markdown",
   "id": "ebce0c13-b417-41c0-b19f-bbd2dbb63980",
   "metadata": {},
   "source": [
    "<h1 style=\"font-size: 40px; margin-bottom: 0px;\">Flow control in Python</h1>\n",
    "\n",
    "<hr style=\"margin-left: 0px; border: 0.25px solid; border-color: #000000; width: 600px;\"></hr>"
   ]
  },
  {
   "cell_type": "markdown",
   "id": "fb2f7520-262f-413b-91b9-647404460c31",
   "metadata": {},
   "source": [
    "Recall from lecture that lines of code are executed sequentially in the order they are read from top to bottom. For the most part, our previous notebooks have largely had a sequential order in which the code was executed (unless you returned to run a previous cell).\n",
    "\n",
    "However, by introducing specific keywords, such as <code>def</code>, or <code>if</code>, or <code>for</code>, we can indicate to Python that we want some block of code to be executed differently than the default way of simply going line by line from top to bottom. This is called <strong>control flow</strong>.\n",
    "\n",
    "<p style=\"font-size: 16px; text-align: center;\"><strong>Standard sequence of code execution</strong></p>\n",
    "<img src=\"./image/Standard_sequence_code_execution.jpg\" style=\"height: 300px; margin: auto\"/>\n"
   ]
  },
  {
   "cell_type": "markdown",
   "id": "7390a4c8-befe-4e06-bba4-f151a3a24d27",
   "metadata": {},
   "source": [
    "<h2 style=\"font-size: 32px;\">Exercise #4: Understanding control flow: Conditional statements</h2>"
   ]
  },
  {
   "cell_type": "markdown",
   "id": "95334e1b-ef6e-46c0-9f8e-a799b874fc04",
   "metadata": {},
   "source": [
    "A helpful way of understanding control flow is to look at conditional statements. We can control when a block of code is executed by providing our Python interpreter with the conditions under which we want it to execute that line or block of code. The conditional statement then becomes the instructions for the interpreter on when it should perform the operations that are separated from the rest of the code via indentation.\n",
    "\n",
    "<p style=\"font-size: 16px; text-align: center;\"><strong>A single <code>if</code> statement</strong></p>\n",
    "\n",
    "<img src=\"./image/Single_if_execution.jpg\" style=\"height: 400px; margin: auto\"/>\n",
    "\n",
    "In the code cell below, set up a new variable and then a condition under which a block or line of code will be executed based on whether or not it matches <code>==</code> with some value or object that you define. First try setting this up using a single <code>if</code> keyword like what was covered in lecture."
   ]
  },
  {
   "cell_type": "code",
   "execution_count": null,
   "id": "243f0987-7560-45d0-b309-42d5070fabb8",
   "metadata": {},
   "outputs": [],
   "source": []
  },
  {
   "cell_type": "markdown",
   "id": "8198a16c-d2b9-4e8f-b93c-0791b104bd79",
   "metadata": {},
   "source": [
    "Play around with the value of your variable and rerun your conditional statement to test instances where it satisfies the conditional statement and instances where it does not satisfy the conditional statement. How does the output change?"
   ]
  },
  {
   "cell_type": "code",
   "execution_count": null,
   "id": "5dfb65a6-726c-487f-9c6d-c87fbffc90fe",
   "metadata": {},
   "outputs": [],
   "source": []
  },
  {
   "cell_type": "markdown",
   "id": "8c4db125-1726-497f-9942-f762d83d254c",
   "metadata": {},
   "source": [
    "As you can see, with an if statement alone, there will be no action taken when the condition is not met. But we can also instruct Python how to handle a situation when the condition is not satisfied by using the <code>else</code> keyword.\n",
    "\n",
    "<p style=\"font-size: 16px; text-align: center;\"><strong>An <code>if</code>-<code>else</code> statement</strong></p>\n",
    "\n",
    "<img src=\"./image/If_else_execution.jpg\" style=\"height: 400px; margin: auto\"/>"
   ]
  },
  {
   "cell_type": "markdown",
   "id": "984adeb6-1ece-4f74-b5a4-36b0743598ca",
   "metadata": {},
   "source": [
    "Try taking your if statement and then modifying it to have the Python interpreter handle situations where your condition is not met. Play around again with the value of your variable and rerun your if-else statement. Now what happens when the condition is not met?"
   ]
  },
  {
   "cell_type": "code",
   "execution_count": null,
   "id": "847c2207-08d6-4e84-bf19-3509462c9b24",
   "metadata": {},
   "outputs": [],
   "source": []
  },
  {
   "cell_type": "markdown",
   "id": "c60b2b7f-85df-4f7d-8940-02f7c1cc2694",
   "metadata": {},
   "source": [
    "We can also specify additional conditions prior to the <code>else</code> keyword by using the <code>elif</code> keyword, which is short for \"else-if\". <code>elif</code> essentially means that if the preceding <code>if</code> condition is not satisfied, then try the <code>elif</code> condition. \n",
    "\n",
    "So in the context of <code>elif</code>, an <code>else</code> would then indicate to Python that if none of the above conditions are satisfied, then perform the indicated action.\n",
    "\n",
    "<p style=\"font-size: 16px; text-align: center;\"><strong>An <code>if</code>-<code>elif</code>-<code>else</code> statement</strong></p>\n",
    "\n",
    "<img src=\"./image/If_elif_else_execution.jpg\" style=\"height: 400px; margin: auto\"/>\n",
    "\n",
    "Through this, you create a decision tree, allowing your Python interpreter to execute specific actions only if certain conditions are met, thereby controlling the flow of code rather than simply executing code sequentially.\n",
    "\n",
    "See if you can then add an <code>elif</code> condition to your previous if-else statement. What changes to your variables would you need to make to get Python to execute the line of code under your <code>elif</code> conditional statement?"
   ]
  },
  {
   "cell_type": "code",
   "execution_count": null,
   "id": "5b42fc2c-573c-41cf-b021-1589f52c74d8",
   "metadata": {},
   "outputs": [],
   "source": []
  },
  {
   "cell_type": "markdown",
   "id": "d645f6f3-71a0-44b7-a36d-06c852b014a9",
   "metadata": {},
   "source": [
    "<h2 style=\"font-size: 32px;\">Exercise #5: Understanding control flow: For-loops</h2>"
   ]
  },
  {
   "cell_type": "markdown",
   "id": "235c912d-2c5c-44f1-b470-10782d8802ea",
   "metadata": {},
   "source": [
    "For loops are another way of controlling how specific blocks of code are executed. This style of flow control is initiated with a <code>for</code> keyword. The <code>for</code> keyword is followed by a variable and an <code>in</code> keyword that specifies the iterable object that will form the index through which the for-loop will iterate and peform the specified block of code.\n",
    "\n",
    "For example, if we wanted to print each element in a list, we can set up a for-loop that will repeat the operation for each element.\n",
    "\n",
    "```\n",
    "for i in [0, 1, 2, 3, 4, 5]:\n",
    "     print(i)\n",
    "```\n",
    "\n",
    "This set up will tell Python to take the variable <code>i</code> and assign it the first value in the index (in this case, we gave Python a list), which corresponds to <code>0</code>. Then the specified operation <code>print(i)</code> is performed. Once the operation is completed, the notebook checks to see if there are additional elements in the list, and if there are, then it moves to the next element in the list, which in this case would be <code>1</code>, and assigns it to the variable <code>i</code> and repeats the operation <code>print(i)</code>. It will repeat this as long as there are elements in the n+1 position in the list, and once there are no more elements, the for loop is exited and the next line of code is executed.\n",
    "\n",
    "So it is almost as if we wrote out the following lines of code but in a much more compact way:\n",
    "\n",
    "```\n",
    "i = 0\n",
    "print(i)\n",
    "\n",
    "i = 1\n",
    "print(i)\n",
    "\n",
    "i=2\n",
    "print(i)\n",
    "\n",
    "i=3\n",
    "print(i)\n",
    "\n",
    "i=4\n",
    "print(i)\n",
    "\n",
    "i=5\n",
    "print(i)\n",
    "```\n",
    "\n",
    "If we visualize how a for-loop controls the flow of code, you would get something like the below diagram:\n",
    "\n",
    "<p style=\"font-size: 16px; text-align: center;\"><strong>A for-loop sequence of code execution</strong></p>\n",
    "\n",
    "<img src=\"./image/For_loop_execution.jpg\" style=\"height: 500px; margin: auto\"/>\n",
    "\n",
    "So the key advantage of setting up forloops is that it allows you to repeat a specific operation over and over again without having to repeat the same lines of code. And you can specify how many times you want it to perform that operation based on the iterable object that you provide when first iniating the for loop.\n",
    "\n",
    "In the code cell below, set up a basic for loop based on the example that was shown above, where you print all the elements of a given list."
   ]
  },
  {
   "cell_type": "code",
   "execution_count": null,
   "id": "5e579960-aa82-4c01-93ec-8b8c16131cc0",
   "metadata": {},
   "outputs": [],
   "source": []
  },
  {
   "cell_type": "markdown",
   "id": "c0eeee43-2b9e-4ce9-b89c-f0bc57dd2b1d",
   "metadata": {},
   "source": [
    "Now change up the variable that you used with another arbritrary variable. Don't forget to update the variable in the rest of the block of code.\n",
    "\n",
    "How does the output compare to the previous one?"
   ]
  },
  {
   "cell_type": "code",
   "execution_count": null,
   "id": "743ee369-a5f4-41e5-bd0e-ad12aed78c85",
   "metadata": {},
   "outputs": [],
   "source": []
  },
  {
   "cell_type": "markdown",
   "id": "a39b3071-292c-42f6-adf7-bfc5c65f80ff",
   "metadata": {},
   "source": [
    "<h2 style=\"font-size: 32px;\">Exercise #6: Understanding control flow: Functions</h2>"
   ]
  },
  {
   "cell_type": "markdown",
   "id": "c5c2045d-c116-4f89-a98a-cfe2385a3265",
   "metadata": {},
   "source": [
    "A function is a block of code, consisting of a series of statements, that performs its defined specific task only when called. Generally, a function will return some kind of output value. The actions that a function will take are usually either pre-built into Python, such as the <code>print()</code> function, or defined by modules you import (more on this later), or defined by you. These actions can range from simple math calculations, returning an output of a data type, or more complex tasks. "
   ]
  },
  {
   "cell_type": "markdown",
   "id": "89d5b433-2090-4138-9b34-6cfc4101be53",
   "metadata": {},
   "source": [
    "<h3>Parameter vs argument</h3>\n",
    "\n",
    "A function generally requires some kind of input or information that is passed to it in order to perform its action. Parameters are what kinds of information or inputs the function requires in order to perform its task. These are named when defining the specific function. On the other hand, an argument is the specific value that is passed to the function. Oftentimes, these two are used interchangeably, but essentially, the argument is the value you set a specific parameter to.  \n",
    "\n",
    "So if we look up <a href=\"https://docs.python.org/3/library/functions.html#print\" rel=\"noopener noreferrer\" target=\"_blank\"><u>Python's documentation for the <code>print()</code> function</u></a> to peek under the hood:\n",
    "```\n",
    "print(*objects, sep=' ', end='\\n', file=None, flush=False)\n",
    "```\n",
    "You can see that there's a little bit more going on than what you can see with a simple <code>print('Hello')</code>. Under the hood, the function has the following 5 parameters:\n",
    "<ul>\n",
    "    <li><code>*objects</code></br>\n",
    "    Object(s) that you want to print. They will be converted to string beforehand.</br>\n",
    "    The asterisk denotes that there's no set number of arguments that need to be passed to your function.</li>\n",
    "    </br>\n",
    "    <li><code>sep</code></br>\n",
    "    Must be string type</br> \n",
    "    An optional parameter that defines the separation between multiple objects that you want to print. Set to ' ' (a single space) by default.</li>\n",
    "    </br>\n",
    "    <li><code>end</code></br>\n",
    "    Must be string type</br>\n",
    "    An optional parameter that defines how the print ends. Set to <code>'\\n'</code> (line break) by default.</li>\n",
    "    </br>\n",
    "    <li><code>file</code></br>\n",
    "    An optional parameter that sets a write method. Set to None by default. This will default to <code>sys.stdout</code>, the standard output stream.</li>\n",
    "    </br>\n",
    "    <li><code>flush</code></br>\n",
    "    An optional parameter that forcibly flushes the stream if set to True. Set to False by default.</li>\n",
    "</ul>\n",
    "\n",
    "To see how this works in practice, try playing around with the <code>sep</code> and the <code>end</code> parameter to see how the output of the <code>print()</code> function changes."
   ]
  },
  {
   "cell_type": "code",
   "execution_count": null,
   "id": "a193279b-ce5a-420f-9fbd-1c50379a2096",
   "metadata": {},
   "outputs": [],
   "source": []
  },
  {
   "cell_type": "markdown",
   "id": "60aba8a4-5a6f-4306-a44b-36313b554087",
   "metadata": {},
   "source": [
    "<h3>Built-in functions</h3>"
   ]
  },
  {
   "cell_type": "markdown",
   "id": "ed2bc76b-17db-4b80-81c7-8e44040471d5",
   "metadata": {},
   "source": [
    "Python has several <u><a href=\"https://docs.python.org/3/library/functions.html\" rel=\"noopener noreferrer\" target=\"_blank\">built-in functions</a></u> that you can call without having to import modules beforehand.\n",
    "\n",
    "For example, there is the <code>type()</code> function that you played around with yesterday and learned that it will output the data type of a value.\n",
    "Recall that data values can be stored as <strong>int</strong> or <strong>float</strong> or <strong>str</strong>, and it's important to know what type you are working with in case a parameter in a function requires a specific data type.\n",
    "\n",
    "Test out in the code cells below how the resulting data types differ for different mathematical operations by combining both the <code>print()</code> and the <code>type()</code> functions. Recall that division returns a <strong>float</strong> rather than an <strong>int</strong>."
   ]
  },
  {
   "cell_type": "markdown",
   "id": "42bcdca7-9398-4b93-af56-79acba0bb565",
   "metadata": {},
   "source": []
  },
  {
   "cell_type": "markdown",
   "id": "8680db59-b87d-438e-9325-72c791589875",
   "metadata": {},
   "source": [
    "You can also convert values to an <strong>int</strong>, <strong>float</strong>, or <strong>str</strong> using built-in functions.\n",
    "\n",
    "<code>int()</code> will convert a value from either a <strong>float</strong> or a <strong>string</strong> to an <strong>int</strong>. If your <strong>float</strong> has a decimal point, it will round down to the nearest integer value if positive or round up if negative. If your <strong>string</strong> is not a whole number, then it will give you an error.\n",
    "\n",
    "The function <code>float()</code> will convert <strong>int</strong> or <strong>string</strong> to a <strong>float</strong> value. Like with <code>int()</code>, <code>float()</code> will output an error if your <strong>string</strong> cannot be represented as a <strongfloat</strong>.\n",
    "\n",
    "In the empty code cell below, convert some data types around, and use the <code>type()</code> function to see how the data value changes."
   ]
  },
  {
   "cell_type": "code",
   "execution_count": null,
   "id": "27ab7aa9-9869-479d-b396-75fd146d0f54",
   "metadata": {},
   "outputs": [],
   "source": []
  },
  {
   "cell_type": "markdown",
   "id": "cc188e07-93f4-41bc-839d-7c94887a4915",
   "metadata": {},
   "source": [
    "<h3>Creating your own functions</h3>"
   ]
  },
  {
   "cell_type": "markdown",
   "id": "ec5fe430-7e00-427e-a473-2da388325a89",
   "metadata": {},
   "source": [
    "One of the key advantages to having functions is that they allow you to repeat actions or calculations without having to retype the entire underlying code. All you need to do is to define a code once, and then you can use it repeatedly afterwards. This also has the added benefit of keeping your code tidier.\n",
    "\n",
    "To create a function, you will use the keyword <code>def</code>, which introduces a function <strong>definition</strong>. The <code>def</code> keyword must be followed by the name of the function and its list of named parameters and any default arguments. And we'll make use of the keyword <code>return</code>, which will spit out an output if we provide it with a variable."
   ]
  },
  {
   "cell_type": "code",
   "execution_count": 2,
   "id": "ff713dd8-59c5-42b0-9e8d-0f5269061672",
   "metadata": {},
   "outputs": [
    {
     "data": {
      "text/plain": [
       "8"
      ]
     },
     "execution_count": 2,
     "metadata": {},
     "output_type": "execute_result"
    }
   ],
   "source": [
    "#Example for you to follow along\n",
    "\n",
    "def Liebchen_math(a, b, c):\n",
    "    a = b**c\n",
    "    return a\n",
    "\n",
    "Liebchen_math(1, 2, 3)"
   ]
  },
  {
   "cell_type": "markdown",
   "id": "e6396af6-77c1-48a0-8ab1-6082a44d77d8",
   "metadata": {},
   "source": [
    "Now give it a try and set up a function that pulls in 3 variables to perform some mathematical calculation and returns the output to you."
   ]
  },
  {
   "cell_type": "code",
   "execution_count": null,
   "id": "18008a11-18f1-4c26-b6ce-07f30d6efec4",
   "metadata": {},
   "outputs": [],
   "source": []
  },
  {
   "cell_type": "markdown",
   "id": "a82f6582-703b-4507-acc9-57b92bbe3858",
   "metadata": {},
   "source": [
    "Can you then modify your function so that it only outputs a result if the calculated value is greater than some threshold that you set? Consider what are the keywords you'll need to use."
   ]
  },
  {
   "cell_type": "code",
   "execution_count": null,
   "id": "457605b7-a142-4d5b-8c15-2a7c76d4a96c",
   "metadata": {},
   "outputs": [],
   "source": []
  },
  {
   "cell_type": "markdown",
   "id": "0913b6cf-6547-4394-b8ed-34a1394a007a",
   "metadata": {},
   "source": [
    "<h3>Functions from imported modules or packages</h3>"
   ]
  },
  {
   "cell_type": "markdown",
   "id": "908be502-5c29-472b-8e66-d33db2f70bd4",
   "metadata": {},
   "source": [
    "Recall from lecture that Python modules are a single Python file that holds definitions that can be called up in other notebooks or files. On the other hand, packages are a collection (or directory) of modules and sometimes sub-packages.\n",
    "\n",
    "Modules and packages in Python allow for you to import defined functions into your notebook, so you don't have redefine it every time you start up a new notebook. All you need to do is at the start of your notebook, import the modules containing the functions you will use, and then you can call up those functions when needed later on. \n",
    "\n",
    "To import a module or package, you can make use of the <code>import</code> keyword. For example, lets import a fundamental package used in data analysis called NumPy, which contains a number of functions that are used for analysis and visualization. <a href=\"https://numpy.org/doc/stable/\" rel=\"noopener noreferrer\"><u>Documentation for NumPy can be found here.</u></a>\n",
    "\n",
    "For example:\n",
    "\n",
    "```\n",
    "import numpy\n",
    "```\n",
    "\n",
    "This will import the NumPy package, but you can also assign a name to the package when you import it by using the <code>as</code> keyword. That way, it's easier to call up later on.\n",
    "\n",
    "For example:\n",
    "\n",
    "```\n",
    "import numpy as np\n",
    "```\n",
    "\n",
    "This will import NumPy package under the name <code>np</code>. \n",
    "\n",
    "After importing NumPy, if we wanted to use NumPy's square root function, we can input the below. <a href=\"https://numpy.org/doc/stable/reference/generated/numpy.sqrt.html\" rel=\"noopener noreferrer\"><u>Documentation for <code>np.sqrt()</code> can be found here.</u></a>\n",
    "\n",
    "```\n",
    "np.sqrt(x)\n",
    "```\n",
    "\n",
    "Where <code>x</code> is some object that we pass to the function. \n",
    "\n",
    "If we did not assign the name <code>np</code> to NumPy, then to call up NumPy's square root function:\n",
    "\n",
    "```\n",
    "numpy.sqrt(x)\n",
    "```\n",
    "\n",
    "Note that if you did assign a name to NumPy, then <code>numpy</code> will not work."
   ]
  },
  {
   "cell_type": "code",
   "execution_count": null,
   "id": "9fd6601f-c970-4a75-9191-dd0a994cf01f",
   "metadata": {},
   "outputs": [],
   "source": [
    "#Go ahead and import the NumPy package using this code cell."
   ]
  },
  {
   "cell_type": "markdown",
   "id": "1a679023-1fdf-4007-996c-c9ffa01f5411",
   "metadata": {},
   "source": [
    "Why do you think it can be beneficial to have your code importing your package(s) in it's own code cell?"
   ]
  },
  {
   "cell_type": "code",
   "execution_count": null,
   "id": "40b61fcd-751b-4dce-86d7-2032ad753f60",
   "metadata": {},
   "outputs": [],
   "source": [
    "#Then use this cell to call up the sqrt() function to find the square root of 100."
   ]
  },
  {
   "cell_type": "markdown",
   "id": "7b47617a-b848-4038-bf45-bf0421a75243",
   "metadata": {},
   "source": [
    "What other mathematical operations could you use NumPy for? Feel free to check the documentation to see and play around with another NumPy function."
   ]
  },
  {
   "cell_type": "code",
   "execution_count": null,
   "id": "b4a01be3-b87c-49f0-ae9b-a307f4d707c2",
   "metadata": {},
   "outputs": [],
   "source": []
  },
  {
   "cell_type": "markdown",
   "id": "ab018dc1-f1cd-4d49-ac4e-ab8157a00d96",
   "metadata": {},
   "source": [
    "<h1 style=\"font-size: 40px; margin-bottom: 0px;\">Summary</h1>\n",
    "<hr style=\"margin-left: 0px; border: 0.25px solid; border-color: #000000; width: 400px;\"></hr>"
   ]
  },
  {
   "cell_type": "markdown",
   "id": "ecb9e87a-21e5-47f6-ae30-6f6e6031fdea",
   "metadata": {},
   "source": [
    "In today's exercise, you learned a new data type - lists, and you started learning how to play around with lists and pull information out of them. You also began learning and playing around with Python control flow to get familiar with how code is executed in Python and what tools you have available to control when and how lines of code are executed. \n",
    "\n",
    "You also learned more about functions and how they are defined, and you started learning about how to import packages for use in your own notebooks. "
   ]
  }
 ],
 "metadata": {
  "kernelspec": {
   "display_name": "Python [conda env:base] *",
   "language": "python",
   "name": "conda-base-py"
  },
  "language_info": {
   "codemirror_mode": {
    "name": "ipython",
    "version": 3
   },
   "file_extension": ".py",
   "mimetype": "text/x-python",
   "name": "python",
   "nbconvert_exporter": "python",
   "pygments_lexer": "ipython3",
   "version": "3.11.0"
  }
 },
 "nbformat": 4,
 "nbformat_minor": 5
}
