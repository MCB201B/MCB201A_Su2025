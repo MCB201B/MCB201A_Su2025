{
 "cells": [
  {
   "cell_type": "markdown",
   "id": "bc529563-c559-4b44-a837-0c7ac981a30e",
   "metadata": {},
   "source": [
    "<h1 style=\"font-size: 40px; margin-bottom: 0px;\">16.1 Navigating the Biology Hub</h1>\n",
    "\n",
    "<hr style=\"margin-left: 0px; border: 0.25px solid; border-color: #000000; width: 650px;\"></hr>"
   ]
  },
  {
   "cell_type": "markdown",
   "id": "3ee01cc8-d5ba-46f6-8986-35d986afba5b",
   "metadata": {},
   "source": [
    "This set of 'experiments' that go along with MCB201A assumes that you have no prior experience with bioinformatics, particularly navigating a Jupyter Hub, Python, or data analysis. So the goal of Experiment 16 will be to introduce you to the basics of the UC Berkeley computing infrastructure, specifically the Biology Hub because you'll be making extensive use of it during MCB201B. You'll also learn some basics of Python as part of Experiment 16 to get you a bit more comfortable thinking about the logical foundations of Python. If you have any questions during lab sessions, don't hesitate to ask questions. For those of you with previous experience, feel free to help out your classmates.\n",
    "\n",
    "Experiment 16 (and MCB201B) will make use of Jupyter, which is an open-source, online computing platform that allows you to write and run code for data analysis. Jupyter supports multiple languages including Python and R. You can create and share documents that contain live code, equations, visualizations, and text. UC Berkeley's JupyterHub service provides you with the computational infrastructure to help lower the activation energy to getting started because it already comes with resources for data analysis, and particularly relevant for us is the Biology Hub, which contains a lot of pre-installed libraries and packages for bioinformatics. \n",
    "\n",
    "The notebook today will go along with the lecture \"Intro to the Biology Hub\" to help reinforce what was covered during lecture and to give you additional opportunities to play around in the Biology Hub environment and familiarize yourself with its structure.\n",
    "\n",
    "If at anytime, you need to redownload the original version of a notebook for this class, you can simply pull the GitHub repo for this class again, and you'll have both the original version and your version."
   ]
  },
  {
   "cell_type": "markdown",
   "id": "d9741d20-22be-42fc-bd5f-9df05cd2c83f",
   "metadata": {},
   "source": [
    "<h1 style=\"font-size: 40px; margin-bottom: 0px;\">Exercises</h1>\n",
    "<hr style=\"margin-left: 0px; border: 0.25px solid; border-color: #000000; width: 400px;\"></hr>"
   ]
  },
  {
   "cell_type": "markdown",
   "id": "4019dfd2-198e-41c3-8acf-fc7a8b730c77",
   "metadata": {},
   "source": [
    "As discussed in lecture, the JupyterLab view of your Biology Hub server is by default located on the left-hand side of your browser view. This set of exercises will prompt you to use the navigation pane for your standard operations to move through directories, create new directories and files, and start up a new launcher."
   ]
  },
  {
   "cell_type": "markdown",
   "id": "7986df2c-dd43-4a8e-9f82-90bee02d33a5",
   "metadata": {},
   "source": [
    "<h1 style=\"font-size: 32px;\">Exercise #1: Hide/show navigation pane</h1>"
   ]
  },
  {
   "cell_type": "markdown",
   "id": "f3fe64f5-e157-4c7a-87e1-1c31edb183b4",
   "metadata": {},
   "source": [
    "For this first exercise, you'll simply hide/show the navigation pane. Click on the top-left folder tab to the left of the blue button with the white plus sign. This will hide/show the navigation pane, also known as the File Browser. Give it a try for this exercise.\n",
    "\n",
    "An alternative way of doing this is by using the top menu and going to View > File Browser or by pressing Ctrl+Shift+F (or Cmd+Shift+F for Mac). "
   ]
  },
  {
   "cell_type": "markdown",
   "id": "182ab204-6ce1-434f-a4fa-9b3615170a4c",
   "metadata": {},
   "source": [
    "<h1 style=\"font-size: 32px;\">Exercise #2: Identify your home directory</h1>"
   ]
  },
  {
   "cell_type": "markdown",
   "id": "8b3369da-40ac-4c75-a0e8-99b5c2748d95",
   "metadata": {},
   "source": [
    "In your navigation pane, you'll see a little folder followed by <code>/MCB201A_Su2025/Exp16</code>. This is the file path to the directory that you are currently in. In other words, you currently have open the Exp16 folder within the MCB201A_Su2025 parent folder. \n",
    "\n",
    "Now take a look to the left of the file path. There should be a small folder icon to the left, which is an icon denoting your home directory. Hover your mouse over the folder and you should see <code>/home/jovyan</code> appear. That is the file path to your home directory.\n",
    "\n",
    "If you click on the folder, you'll move to your home directory. You should then see that the file path has been updated to be just your folder followed by <code>/</code>. This indicates that you're now in your home directory, which depending on whether or not you used Biology Hub before should contain a <code>shared</code> folder and your <code>MCB201A_Su2025</code> folder for this class."
   ]
  },
  {
   "cell_type": "markdown",
   "id": "03c8f186-b9db-49bd-8043-94d50481c6a6",
   "metadata": {},
   "source": [
    "<h1 style=\"font-size: 32px;\">Exercise #3: Move into Exp16 directory</h1>"
   ]
  },
  {
   "cell_type": "markdown",
   "id": "86d9ea6b-eb23-40c7-bc68-090ce205c4f3",
   "metadata": {},
   "source": [
    "Now what we want to do is to move back into our Exp 16 directory (or folder) to proceed with the rest of this section's exercises. Like with any file browser, you can double-click the directory that you want to enter in order to open it up. Go ahead and enter the <code>MCB201A_Su2025</code> directory, and then the <code>Exp16</code> subdirectory. You should then see that your file path updated to <code>/MCB201A_Su2025/Exp16</code>, and the file browser showing just the contents of Exp16.\n",
    "\n",
    "Like what you're probably used to, you can also click the directory in the file path, such as <code>MCB201A_Su2025</code> to go to that directory if you're within one of its subdirectories. \n",
    "\n",
    "For now, let's work within the <code>Exp16</code> subdirectory, so navigate into it."
   ]
  },
  {
   "cell_type": "markdown",
   "id": "67de1e5a-bbcc-4cab-80a3-6361e36b947e",
   "metadata": {},
   "source": [
    "<h1 style=\"font-size: 32px;\">Exercise #4: Create a new directory</h1>"
   ]
  },
  {
   "cell_type": "markdown",
   "id": "8e631f6b-7b4a-486c-a24f-7dd3fc2367a2",
   "metadata": {},
   "source": [
    "For this exercise, you'll use the navigation pane to create a new directory called <code>exercise_16_day_1</code>.\n",
    "\n",
    "There are multiple ways to do this, and the first way is to use the New Folder button located to the right of the blue button with a plus sign. \n",
    "\n",
    "You can also right-click in the file browser, and in the menu that appears, select New Folder.\n",
    "\n",
    "Now navigate into <code>exercise_16_day_1</code>."
   ]
  },
  {
   "cell_type": "markdown",
   "id": "f6c383c7-e813-4bfa-9208-534a054dfde2",
   "metadata": {},
   "source": [
    "<h1 style=\"font-size: 32px;\">Exercise #5: Upload the course syllabus into <code>exercise_16_day_1</code></h1>"
   ]
  },
  {
   "cell_type": "markdown",
   "id": "57183db2-3780-425a-9ee9-f242669d8b24",
   "metadata": {},
   "source": [
    "You can also upload your own files to the Biology Hub, which can be helpful if you have data that you want to analyze using the Biology Hub. The database will store your files even after you log out, so when you log back into the Biology Hub, your server instance will be populated with your saved files and directories.\n",
    "\n",
    "There are also multiple ways to upload files that you wish to work with. The first is that you can simply drag and drop your file from your computer's File Explorer (or Finder for Mac) into your file browser. The file will be uploaded to the Biology Hub into your current directory. The second is to click the Upload icon located to the right of the New Folder icon and then selecting the file that you wish to upload.\n",
    "\n",
    "Go ahead and upload the PDF of our course syllabus, which you can find on our bCourses page."
   ]
  },
  {
   "cell_type": "markdown",
   "id": "d157d7a2-9974-497f-b9a6-aabfd17491a2",
   "metadata": {},
   "source": [
    "<h1 style=\"font-size: 32px;\">Exercise #6: Open up the course syllabus</h1>"
   ]
  },
  {
   "cell_type": "markdown",
   "id": "4e77c6ac-c2fd-4cf6-897a-f57d3d3803c5",
   "metadata": {},
   "source": [
    "A lot of our visual outputs that we generated from our analyses will be in the form of PDFs, and the nice thing about the Biology Hub is that you can also open up and view your PDFs directly (as long as your browser supports it). Double-click to open up the syllabus, and then return to this tab while leaving the syllabus open."
   ]
  },
  {
   "cell_type": "markdown",
   "id": "6a64ac24-c0f4-4385-84a8-659442c10e1e",
   "metadata": {},
   "source": [
    "<h1 style=\"font-size: 32px;\">Exercise #7: Set up multi-window view in main work area</h1>"
   ]
  },
  {
   "cell_type": "markdown",
   "id": "e06f49b1-69e3-4e7b-be02-bb4f5502677c",
   "metadata": {},
   "source": [
    "Now pull out the tab corresponding to your open PDF file to create a multi-window view allowing you to view both this notebook and the syllabus next to it.\n",
    "\n",
    "You can also click and drag the space between your windows to adjust their sizes."
   ]
  },
  {
   "cell_type": "markdown",
   "id": "21f0c99a-36c8-4fb1-b1c5-aaaa3b58f4ca",
   "metadata": {},
   "source": [
    "<h1 style=\"font-size: 32px;\">Exercise #8: Open up a New Launcher</h1>"
   ]
  },
  {
   "cell_type": "markdown",
   "id": "89f0a3b6-501d-4fe3-9b53-fc1fcf14f04b",
   "metadata": {},
   "source": [
    "The blue button with the plus sign that I've used as a reference point in previous exercises is the button to pull up a new launcher, which is kind of like a homepage. It allows you to start up new Python and R notebooks, Terminal, and a other file types.\n",
    "\n",
    "Open up a New Launcher using the blue button with the plus sign and then pull the tab into the same set of tabs as the PDF. This way, it'll be easier to see both this notebook and your launcher.\n",
    "\n",
    "You should see that at the top of the new launcher is the file path to your current directory that you opened the launcher in. It should read <code>MCB201A_Su2025/Exp16/exercise_16_day1</code>.\n",
    "\n",
    "You can see below that are icons to open up Notebooks, Consoles, and other things, such as Terminal."
   ]
  },
  {
   "cell_type": "markdown",
   "id": "c2d522bc-fbd2-4aa6-8e8f-3907082f4244",
   "metadata": {},
   "source": [
    "<h1 style=\"font-size: 32px;\">Exercise #9: Open up a New Launcher</h1>"
   ]
  },
  {
   "cell_type": "markdown",
   "id": "315c4990-348d-41f7-b083-50a3fc6b94e5",
   "metadata": {},
   "source": [
    "The first thing that we'll do with the Launcher is to create a new Text file. Scroll down to the section \"Other\" and select the Text File icon.\n",
    "\n",
    "You should see that your Launcher has been replaced with an <strong>untitled.txt</strong> file. This is just a plain text file that we will use for exercises today. \n",
    "\n",
    "You should also see in the navigation pane (File Browser) to the left that you now have 2 files in <code>exercise_16_day_1</code>. One is our syllabus and the other is your new <strong>untitled.txt</strong> file."
   ]
  },
  {
   "cell_type": "markdown",
   "id": "958b8363-9eb6-4e3a-b339-beb85c90cdca",
   "metadata": {},
   "source": [
    "<h1 style=\"font-size: 32px;\">Exercise #10: Update and save your text file</h1>"
   ]
  },
  {
   "cell_type": "markdown",
   "id": "c86e2d10-23da-47b1-882c-a9fe30389769",
   "metadata": {},
   "source": [
    "Type into your plain text file <code>Hello world!</code>. Then save it by hitting Ctrl+S. A rename file pop-up will appear. Go ahead and save your plain text file as <strong>Hello.txt</strong>, and select the \"Rename and Save\" button.\n",
    "\n",
    "You should be able to see that the file name has been updated both at its respective tab as well as in the File Browser."
   ]
  },
  {
   "cell_type": "markdown",
   "id": "ecc107ae-87b7-4649-9172-22eab3a1f588",
   "metadata": {},
   "source": [
    "<h1 style=\"font-size: 32px;\">Exercise #11: Download a file from Biology Hub</h1>"
   ]
  },
  {
   "cell_type": "markdown",
   "id": "d2f703f4-d91c-4d25-b42d-feda8f2d6baf",
   "metadata": {},
   "source": [
    "As part of assignments or to retain your own copy of files, you'll need to be able to download your files and directories from the Biology Hub. The Biology Hub maintainers perform regular maintenance and archive old files, so you'll want to make sure that you download all your files off of the Biology Hub once a course ends in order to retain your own copy of them. \n",
    "\n",
    "For today's exercise, you'll download your <strong>Hello.txt</strong> file that you just created. Find your file in the File Browser, and right-click to pull up the context menu. Then select \"Download\".\n",
    "\n",
    "Alternatively, select your <strong>Hello.txt</strong> file, so that it is highlighted in blue. From the top menu bar, go to File > Download to download your file."
   ]
  },
  {
   "cell_type": "markdown",
   "id": "007bd6f0-8d79-48fc-8a0a-dd92d8f8aa62",
   "metadata": {},
   "source": [
    "<h1 style=\"font-size: 32px;\">Exercise #12: Deleting files</h1>"
   ]
  },
  {
   "cell_type": "markdown",
   "id": "47248a15-92e0-4b12-97b9-49a15dd50c6f",
   "metadata": {},
   "source": [
    "You'll probably find yourself in instances where you'll need to or want to delete files. \n",
    "\n",
    "To do so in your Biology Hub server, you can make use of the File Browser. For this exercise, we'll delete our course syllabus from our Biology Hub. \n",
    "\n",
    "Find the course syllabus and right-click it to bring up the context menu. Select \"Delete\". You'll receive a prompt to confirm whether you want to permanently delete this file. Hit \"Delete\" to confirm.\n",
    "\n",
    "Alternatively, select the file so that it's highlighted in blue. Then hit the \"Delete\" button on your keyboard. Confirm the deletion in the warning prompt."
   ]
  },
  {
   "cell_type": "markdown",
   "id": "0183a663-e8d0-4ff3-8adb-d4e69fe4e297",
   "metadata": {},
   "source": [
    "<h1 style=\"font-size: 32px;\">Exercise #13: Delete directories or folders</h1>"
   ]
  },
  {
   "cell_type": "markdown",
   "id": "22051ad2-bafe-49bb-9924-563dccfb252c",
   "metadata": {},
   "source": [
    "Oops. It looks like Jack uploaded an empty folder called \"jack_secret_cat_folder\". Navigate up into the <code>Exp16</code> parent directory. You can go ahead and delete this directory as you would for any other file.\n",
    "\n",
    "Since it's an empty directory, you won't encounter any issues when deleting it other than the standard confirmation prompt that pops up.\n",
    "\n",
    "However, when the folder contains files (whether visible or hidden), you will not be able to delete it. Go ahead and try to delete your <code>exercise_16_day_1</code> directory while your <strong>Hello.txt</strong> file is still in there. While this isn't too big of an issue if you only have one or two files in a directory that you want to delete since you can just delete the files individually before deleting the folder, this becomes a issue for directories that are much more complicated with multiple subdirectories and/or have many files.\n",
    "\n",
    "So in the subsequent exercises, you'll learn another way of navigating through the Biology Hub, by using Terminal."
   ]
  },
  {
   "cell_type": "markdown",
   "id": "c3051860-c5ca-4f73-94b8-08c029703587",
   "metadata": {},
   "source": [
    "<h1 style=\"font-size: 32px;\">Exercise #14: Open Terminal</h1>"
   ]
  },
  {
   "cell_type": "markdown",
   "id": "9714b5bb-3c56-4828-85c4-3c1c66f2163e",
   "metadata": {},
   "source": [
    "Open up a New Launcher and then use it to open Terminal, which is a command-line interface (CLI). Then update your main work area's view so that it is split just between this notebook and Terminal. That way, you can continue to follow along more easily.\n",
    "\n",
    "With Terminal started up, you should see an empty prompt that only displays your username, the path to your current working directory, and all of that followed by a <code>&dollar;</code>. The part of the line up to and including the <code>&dollar;</code> is the prompt, and an empty prompt indicates to you that Terminal is waiting for an input.\n",
    "\n",
    "An empty prompt will look something like the below with the file path being slightly different depending on where you are in your directory tree when you opened up Terminal:\n",
    "\n",
    "<pre style=\"width: 350px; margin-top: 15px; margin-bottom: 15px; color: #000000; background-color: #EEEEEE; border: 1px solid; border-color: #AAAAAA; padding: 10px; border-radius: 15px; font-size: 12px;\">jovyan@jupyter-CalNetID:~/MCB201A_Su2025/Exp16$</pre>\n",
    "\n",
    "The information preceding the <code>&dollar;</code> indicates the file path to your current working directory. In the above example, the current working directory is <code>Exp16</code>, and the file path to it is <code>~/MCB201A_Su2025/Exp16</code> as indicated in the full prompt.\n",
    "\n",
    "For purposes of this course and MCB201B, when command-line code is displayed in notebooks, they will be blocked out like the above example, and they will usually not include the full prompt.\n",
    "\n",
    "For example:\n",
    "\n",
    "<pre style=\"width: 350px; margin-top: 15px; margin-bottom: 15px; color: #000000; background-color: #EEEEEE; border: 1px solid; border-color: #AAAAAA; padding: 10px; border-radius: 15px; font-size: 12px;\">ls</pre>\n",
    "\n",
    "Where the full prompt would be what you see in Terminal\n",
    "\n",
    "<pre style=\"width: 350px; margin-top: 15px; margin-bottom: 15px; color: #000000; background-color: #EEEEEE; border: 1px solid; border-color: #AAAAAA; padding: 10px; border-radius: 15px; font-size: 12px;\">jovyan@jupyter-CalNetID:~/MCB201A_Su2025/Exp16$ ls</pre>"
   ]
  },
  {
   "cell_type": "markdown",
   "id": "6e7ed7d9-6fc9-4e14-b653-b88cb533061a",
   "metadata": {},
   "source": [
    "<h1 style=\"font-size: 32px;\">Exercise #15: Identify your text cursor in Terminal</h1>"
   ]
  },
  {
   "cell_type": "markdown",
   "id": "154594a1-6b00-4c73-b100-452194a5d121",
   "metadata": {},
   "source": [
    "The prompt is followed by a blinking box, which is your text cursor, indicating where you are currently typing. You can move to a different spot in the line you are currently inputting by using the <kbd>&larr;</kbd> or <kbd>&rarr;</kbd> arrow keys. Note that text is added to the spot <strong><u>preceding</u></strong> your text cursor and not the spot that your text cursor is currently on. So if you have something like the below, where the highlighted letter indicates your text cursor's position:\n",
    "\n",
    "<pre style=\"width: 350px; margin-top: 15px; margin-bottom: 15px; color: #000000; background-color: #EEEEEE; border: 1px solid; border-color: #AAAAAA; padding: 10px; border-radius: 15px; font-size: 12px;\">jovyan@jupyter-CalNetID:~$some <mark style=\"background-color: #CCCCCC;\"><u>c</u></mark>ommand line that you input</pre>\n",
    "\n",
    "<p style=\"margin-top: 30px;\">The new text that you add will be in front of the <code>c</code>.</p>\n",
    "\n",
    "<pre style=\"width: 350px; margin-top: 15px; margin-bottom: 15px; color: #000000; background-color: #EEEEEE; border: 1px solid; border-color: #AAAAAA; padding: 10px; border-radius: 15px; font-size: 12px;\">jovyan@jupyter-CalNetID:~$some newtext<mark style=\"background-color: #CCCCCC;\"><u>c</u></mark>ommand line that you input</pre>\n",
    "\n",
    "We'll save some of the details of Terminal for MCB201B, but for now, you'll play around with some basic commands to navigate in Biology Hub using Terminal.\n"
   ]
  },
  {
   "cell_type": "markdown",
   "id": "ec33d0f0-4563-4e76-b874-ebb73a83f4e6",
   "metadata": {},
   "source": [
    "<h1 style=\"font-size: 32px;\">Exercise #16: Change to home directory</h1>"
   ]
  },
  {
   "cell_type": "markdown",
   "id": "e4c1997e-591f-464c-9d11-5f068f5b2e7c",
   "metadata": {},
   "source": [
    "To change to directories in Terminal, you'll make use of the change directory or <code>cd</code> command:\n",
    "\n",
    "<pre style=\"width: 350px; margin-top: 15px; margin-bottom: 15px; color: #000000; background-color: #EEEEEE; border: 1px solid; border-color: #AAAAAA; padding: 10px; border-radius: 15px; font-size: 12px;\">cd &lt;file path&gt;</pre>\n",
    "\n",
    "Where the <code>&lt;file path&gt;</code> is swapped out with the file path to the directory, or if the directory is within your current working directory, you can just put the name of the directory.\n",
    "\n",
    "Let's change into our home directory by inputting <code>cd</code> without any file path.\n",
    "\n",
    "<pre style=\"width: 350px; margin-top: 15px; margin-bottom: 15px; color: #000000; background-color: #EEEEEE; border: 1px solid; border-color: #AAAAAA; padding: 10px; border-radius: 15px; font-size: 12px;\">cd</pre>\n",
    "\n",
    "To execute command that you input into Terminal, you can simply press <kbd>Enter</kbd>.\n",
    "\n",
    "Another way of denoting the home directory path is with the tilde <code>~</code>, so you can also run the below command:\n",
    "\n",
    "<pre style=\"width: 350px; margin-top: 15px; margin-bottom: 15px; color: #000000; background-color: #EEEEEE; border: 1px solid; border-color: #AAAAAA; padding: 10px; border-radius: 15px; font-size: 12px;\">cd ~</pre>\n",
    "\n",
    "Execute the command by pressing <kbd>Enter</kbd>."
   ]
  },
  {
   "cell_type": "markdown",
   "id": "aedbda82-c579-41f1-9de1-99b72f7a1729",
   "metadata": {},
   "source": [
    "<h1 style=\"font-size: 32px;\">Exercise #17: Navigate into <code>exercise_16_day_1</code> folder</h1>"
   ]
  },
  {
   "cell_type": "markdown",
   "id": "9d1b573f-b3c9-436b-bb2f-ab4397d3c18e",
   "metadata": {},
   "source": [
    "Now that we're all in our home directory, we can start from the same spot to navigate to our <code>exercise_16_day_1</code> directory.\n",
    "\n",
    "For this exercise, see if you can navigate to <code>exercise_16_day_1</code>.\n",
    "\n",
    "You should also see that the file path indicated in Terminal is also updated indicating that your current working directory is now updated. In other words, the directory that you're in has changed, and the file path is reflecting that change."
   ]
  },
  {
   "cell_type": "markdown",
   "id": "4cf5c218-b5fd-4783-826f-93b7e6ddc4dc",
   "metadata": {},
   "source": [
    "<h1 style=\"font-size: 32px;\">Exercise #18: Return to parent directory</h1>"
   ]
  },
  {
   "cell_type": "markdown",
   "id": "e35b431f-a3b9-47c9-8612-3286fc9b35ff",
   "metadata": {},
   "source": [
    "Whereas in the File Browser you can click the parent directory in the file path to navigate to it, in Terminal you'll need to make use of the <code>cd</code> command.\n",
    "\n",
    "You can either type out the file path to get to your parent directory or you can use a shorthand to specify the parent directory. This shorthand is two periods without any spaces separating them <code>..</code>, so your command line will look like:\n",
    "\n",
    "<pre style=\"width: 350px; margin-top: 15px; margin-bottom: 15px; color: #000000; background-color: #EEEEEE; border: 1px solid; border-color: #AAAAAA; padding: 10px; border-radius: 15px; font-size: 12px;\">cd ..</pre>\n",
    "\n",
    "You should see that your full prompt update with the new file path corresponding to your new current directory.\n",
    "\n",
    "<pre style=\"width: 350px; margin-top: 15px; margin-bottom: 15px; color: #000000; background-color: #EEEEEE; border: 1px solid; border-color: #AAAAAA; padding: 10px; border-radius: 15px; font-size: 12px;\">jovyan@jupyter-CalNetID:~/MCB201A_Su2025/Exp16$</pre>"
   ]
  },
  {
   "cell_type": "markdown",
   "id": "bbc7a4ce-468b-4ab4-a919-38d85b7bf99d",
   "metadata": {},
   "source": [
    "<h1 style=\"font-size: 32px;\">Exercise #18: List files and directories</h1>"
   ]
  },
  {
   "cell_type": "markdown",
   "id": "99856428-c159-4662-94a5-8e3fa32da40c",
   "metadata": {},
   "source": [
    "Since you can't see your files and folders via a graphical user interface (GUI), you'll need to request Terminal output the files and folders to you. To do this, you'll make use of the <code>ls</code> command, which tells Terminal to return an output containing your files and folders.\n",
    "\n",
    "<pre style=\"width: 350px; margin-top: 15px; margin-bottom: 15px; color: #000000; background-color: #EEEEEE; border: 1px solid; border-color: #AAAAAA; padding: 10px; border-radius: 15px; font-size: 12px;\">ls</pre>\n",
    "\n",
    "Note that without specifying a file path after the <code>ls</code> command, Terminal will just output the files in your current directory.\n",
    "\n",
    "Like with the home directory, there is also a shorthand to denote your current working directory, which is just a single period <code>.</code>. So you can also use:\n",
    "\n",
    "<pre style=\"width: 350px; margin-top: 15px; margin-bottom: 15px; color: #000000; background-color: #EEEEEE; border: 1px solid; border-color: #AAAAAA; padding: 10px; border-radius: 15px; font-size: 12px;\">ls .</pre>"
   ]
  },
  {
   "cell_type": "markdown",
   "id": "c2876e20-dfc7-4c6b-b532-c50acbfe4901",
   "metadata": {},
   "source": [
    "<h1 style=\"font-size: 32px;\">Exercise #19: Use shorthands when specifying file paths</h1>"
   ]
  },
  {
   "cell_type": "markdown",
   "id": "de09bde1-c5aa-44a5-b01b-2639b18b732c",
   "metadata": {},
   "source": [
    "The shorthands for your home directory, parent directory, and current directory can also be incorporated into your file paths to help make them shorter. For example, if I wanted, I can tell Terminal to output the files and folders in <code>MCB201A_Su2025</code> using these shorthands.\n",
    "\n",
    "Specifying the home directory first with <code>~</code>:\n",
    "\n",
    "<pre style=\"width: 350px; margin-top: 15px; margin-bottom: 15px; color: #000000; background-color: #EEEEEE; border: 1px solid; border-color: #AAAAAA; padding: 10px; border-radius: 15px; font-size: 12px;\">ls ~/MCB201A_Su2025</pre>\n",
    "\n",
    "Or if I'm in a subdirectory within <code>MCB201A_Su2025</code>:\n",
    "\n",
    "<pre style=\"width: 350px; margin-top: 15px; margin-bottom: 15px; color: #000000; background-color: #EEEEEE; border: 1px solid; border-color: #AAAAAA; padding: 10px; border-radius: 15px; font-size: 12px;\">ls ..</pre>\n",
    "\n",
    "Or if my current working directory contains <code>MCB201A_Su2025</code>:\n",
    "\n",
    "<pre style=\"width: 350px; margin-top: 15px; margin-bottom: 15px; color: #000000; background-color: #EEEEEE; border: 1px solid; border-color: #AAAAAA; padding: 10px; border-radius: 15px; font-size: 12px;\">ls ./MCB201A_Su2025</pre>\n",
    "\n",
    "For this exercise, try navigating to different directories and seeing if you can from that directory get Terminal to output the contents of <code>MCB201A_Su2025</code>."
   ]
  },
  {
   "cell_type": "markdown",
   "id": "34b8814b-872b-4095-a7bb-8323d10f8f21",
   "metadata": {},
   "source": [
    "<h1 style=\"font-size: 32px;\">Exercise #20: Delete <code>exercise_16_day_1</code> while it still has a file</h1>"
   ]
  },
  {
   "cell_type": "markdown",
   "id": "1eafdbe3-f7e7-4859-b8fd-aea2b77626fc",
   "metadata": {},
   "source": [
    "Recall from our earlier exercise that we ran into an error when trying to delete <code>exercise_16_day_1</code> because it had a file in it. If we wanted to delete a file or directory with Terminal, we can make use of the remove command <code>rm</code>.\n",
    "\n",
    "<pre style=\"width: 350px; margin-top: 15px; margin-bottom: 15px; color: #000000; background-color: #EEEEEE; border: 1px solid; border-color: #AAAAAA; padding: 10px; border-radius: 15px; font-size: 12px;\">rm &lt;name of file to be deleted&gt;</pre>\n",
    "\n",
    "Where you can swap out <code>&lt;name of file to be deleted&gt;</code> with the file or directory name.\n",
    "\n",
    "For this last exercise, navigate to <code>Exp16</code> directory. Use the <code>rm</code> command to delete <code>exercise_16_day_1</code> directory.\n",
    "\n",
    "You will end up also encountering an error noting that \"rm: cannot remove 'exercise_16_day_1': Is a directory\". This is because it contains a file within it still, but with Terminal, we can have it delete all contents of a directory while deleting the directory itself, thereby allowing us to delete directories that contain files within them (which we couldn't do with the File Browser).\n",
    "\n",
    "To do this, you'll specify an additional option <code>-r</code> before the file name indicating to Terminal that you want it to perform a recursive removal where it removes all contents and the directory itself.\n",
    "\n",
    "<pre style=\"width: 350px; margin-top: 15px; margin-bottom: 15px; color: #000000; background-color: #EEEEEE; border: 1px solid; border-color: #AAAAAA; padding: 10px; border-radius: 15px; font-size: 12px;\">rm -r &lt;name of file to be deleted&gt;</pre>\n",
    "\n",
    "Your File Browser may not immediately reflect that change, so you may need to prompt it to refresh by hitting the refresh button in the navigation pane next to the upload file button. Note that this is different than your browser's refresh button."
   ]
  },
  {
   "cell_type": "markdown",
   "id": "0cc75b04-50b9-4c0e-90a7-c937fc3a5847",
   "metadata": {},
   "source": [
    "<h1 style=\"font-size: 40px; margin-bottom: 0px;\">Summary</h1>\n",
    "<hr style=\"margin-left: 0px; border: 0.25px solid; border-color: #000000; width: 400px;\"></hr>"
   ]
  },
  {
   "cell_type": "markdown",
   "id": "2569fa53-ddb3-4dea-8aeb-001f7b4912fa",
   "metadata": {},
   "source": [
    "In today's exercise, you learned to navigate the Biology Hub using the File Browser as well as using Terminal. Depending on the specific needs of what you're doing, you may find that using the File Browser is easier or you may find that you need to use Terminal in order to effectively perform certain tasks.\n",
    "\n",
    "You'll want to remember how to specify file paths, to identify what directory you're currently in, and the shorthand notations for the home directory <code>~</code>, the parent directory <code>..</code>, and your current working directory <code>.</code> because that will become important as you use Terminal to run specific packages for next-generation sequencing analyses."
   ]
  }
 ],
 "metadata": {
  "kernelspec": {
   "display_name": "Python [conda env:base] *",
   "language": "python",
   "name": "conda-base-py"
  },
  "language_info": {
   "codemirror_mode": {
    "name": "ipython",
    "version": 3
   },
   "file_extension": ".py",
   "mimetype": "text/x-python",
   "name": "python",
   "nbconvert_exporter": "python",
   "pygments_lexer": "ipython3",
   "version": "3.11.0"
  }
 },
 "nbformat": 4,
 "nbformat_minor": 5
}
