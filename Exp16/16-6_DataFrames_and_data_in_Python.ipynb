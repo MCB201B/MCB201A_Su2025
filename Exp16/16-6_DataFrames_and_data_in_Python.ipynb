{
 "cells": [
  {
   "cell_type": "markdown",
   "id": "0652fbde-e7d0-4163-9619-61c56731bd33",
   "metadata": {},
   "source": [
    "<h1 style=\"font-size: 40px; margin-bottom: 0px;\">16.6 DataFrames and <br /> working with your data in Python</h1>\n",
    "\n",
    "<hr style=\"margin-left: 0px; border: 0.25px solid; border-color: #000000; width: 750px;\"></hr>"
   ]
  },
  {
   "cell_type": "markdown",
   "id": "9e2a4df4-17b4-4f73-a7fb-e754c1f5a1cf",
   "metadata": {},
   "source": [
    "Today, we'll expand on what we've been learning from the previous exercises and practice applying what we've learned to working with Pandas DataFrame objects. We'll first review how to use keywords and operators to set up conditional statements and review how mathematical operators can be used to perform maths on arrays. Then we'll apply these concepts as we learn about DataFrames, setting us up to work with our own data in Python tomorrow.\n",
    "\n",
    "<strong>Today's learning objectives:</strong>\n",
    "<ol>\n",
    "    <li>Review conditional statements</li>\n",
    "    <li>Review mathematical operations on arrays</li>\n",
    "    <li>Understanding DataFrames</li>\n",
    "    <li>Creating DataFrames</li>\n",
    "    <li>Working with DataFrames</li>\n",
    "</ol>"
   ]
  },
  {
   "cell_type": "code",
   "execution_count": null,
   "id": "39a64967-c51d-4cbd-95b5-50b829ad62e4",
   "metadata": {},
   "outputs": [],
   "source": [
    "#Import your packages as needed\n",
    "#I'll begin transitioning to having any required packages imported at the start of notebooks\n",
    "#so all you need to do to get started is run this cell\n",
    "\n",
    "import numpy as np\n",
    "import pandas as pd"
   ]
  },
  {
   "cell_type": "markdown",
   "id": "9f3f30f6-4762-47d7-a908-56430d321b73",
   "metadata": {},
   "source": [
    "<h1 style=\"font-size: 40px; margin-bottom: 0px;\">Exercises</h1>\n",
    "<hr style=\"margin-left: 0px; border: 0.25px solid; border-color: #000000; width: 400px;\"></hr>"
   ]
  },
  {
   "cell_type": "markdown",
   "id": "4e71bfaa-654d-4fcc-ba19-015d4df62031",
   "metadata": {},
   "source": [
    "<h1 style=\"font-size: 32px;\">Exercise #1: Review conditional statements</h1>"
   ]
  },
  {
   "cell_type": "markdown",
   "id": "ea26fcaa-295d-4a65-896a-748770e8a499",
   "metadata": {},
   "source": [
    "Recall from 16-3 that you can make use of keywords and operators to set up a statement to evaluate whether or not that statement is true. \n",
    "\n",
    "<ul>\n",
    "    <li><code>&excl;&equals;</code> - ...not equal to...</li>\n",
    "    <li><code>&gt;</code> - ...greater than...</li>\n",
    "    <li><code>&lt;</code> - ...less than...</li>\n",
    "    <li><code>&gt;&equals;</code> - ...greater than or equal to...</li>\n",
    "    <li><code>&lt;&equals;</code> - ...less than or equal to...</li>\n",
    "</ul>\n",
    "\n",
    "Previously, we used this to direct our Python interpreter to take a specific action based on whether or not specific conditions were met. In those examples, we made provided Python with a non-composite data type such as a float, int, or string and assessed whether or not the conditional statement was <code>True</code> or <code>False</code>. \n",
    "\n",
    "In the code cell below, Jack has set up a random integer generator using numpy's <code>np.random.randin()</code> function. <a href=\"https://numpy.org/doc/stable/reference/random/generated/numpy.random.randint.html\" rel=\"noopener noreferrer\"><u>Documentation for <code>np.random.randint()</code> can be found here.</u></a>\n",
    "\n",
    "In the same code cell, set up a conditional statement to generate a Boolean output based on whether or not the randomly generated number is greater than or equal to 5."
   ]
  },
  {
   "cell_type": "code",
   "execution_count": null,
   "id": "463025e2-6d48-420f-b63c-fbde3e5fabc6",
   "metadata": {},
   "outputs": [],
   "source": [
    "liebchen_generator = np.random.randint(10)"
   ]
  },
  {
   "cell_type": "markdown",
   "id": "dbc71b2a-b6f2-4e20-a2ad-897f0fc3a86f",
   "metadata": {},
   "source": [
    "<h1 style=\"font-size: 32px;\">Exercise #2: Evaluate if elements of a compound data type satisfy a condition</h1>"
   ]
  },
  {
   "cell_type": "markdown",
   "id": "f947368e-f1c1-4959-b376-7d609f863a85",
   "metadata": {},
   "source": [
    "Conditional statements can also be applied to compound data types like a list or an array. Dig into <a href=\"https://numpy.org/doc/stable/reference/random/generated/numpy.random.randint.html\" rel=\"noopener noreferrer\"><u>the <code>np.random.randint()</code> documentation</u></a> and see what argument you will need to pass to the function if you want to create a 1D array of ten randomly generated integers between 0 (inclusive) and 10 (exclusive), which is sometimes indicated in documentation as a shorthand [0, 10). \n",
    "\n",
    "Create the array below and assign it to a variable to be used in the next exercise."
   ]
  },
  {
   "cell_type": "code",
   "execution_count": null,
   "id": "7ae7eda7-f12d-4925-8dd0-fdede11ffbab",
   "metadata": {},
   "outputs": [],
   "source": []
  },
  {
   "cell_type": "markdown",
   "id": "ab19b46a-bc60-4318-aa95-c9787d1cece8",
   "metadata": {},
   "source": [
    "Now set up a conditional statement as you would with a non-composite data type (like in exercise #1), but instead use the variable for your 1D array. Evaluate whether the variable is greater than or equal to 5, and assign the output to a new variable. We'll also make use of this object in exercise #3."
   ]
  },
  {
   "cell_type": "code",
   "execution_count": null,
   "id": "fa3f5493-4eb7-4e15-a2eb-b4553ee66c23",
   "metadata": {},
   "outputs": [],
   "source": []
  },
  {
   "cell_type": "markdown",
   "id": "89cdaa54-8055-4cdd-8dcd-eb46322cc7cb",
   "metadata": {},
   "source": [
    "How does the output look compared to when you set up a conditional statement with just one randomly generated number?"
   ]
  },
  {
   "cell_type": "code",
   "execution_count": null,
   "id": "3d0bae60-d99f-477c-b3a4-dc18886505de",
   "metadata": {},
   "outputs": [],
   "source": []
  },
  {
   "cell_type": "markdown",
   "id": "5609f86e-3c69-45f5-8f89-cdfe00cc2df3",
   "metadata": {},
   "source": [
    "What you can see is that each element of your array is evaluated against the conditional statement that you set up, so the output is a second array, which simply contains within it the Boolean result for each element in their respective position in the array.\n",
    "\n",
    "Now use <code>np.random.randint()</code> to try to set up a 2D array that's 4x4 in shape and apply our conditional statement to the 2D array."
   ]
  },
  {
   "cell_type": "code",
   "execution_count": null,
   "id": "623f771f-3629-4271-9b31-5c10edc6132e",
   "metadata": {},
   "outputs": [],
   "source": []
  },
  {
   "cell_type": "markdown",
   "id": "e4394f5a-664f-41a1-bd6b-8b85b9281087",
   "metadata": {},
   "source": [
    "How does the output look now? \n",
    "\n",
    "You should see that the resulting output is the same shape as the array that you're evaluating, with each position corresponding to that element's Boolean result. This will become important later when we perform image analyses, as this is fundamentally no different than what happens when you threshold an image."
   ]
  },
  {
   "cell_type": "markdown",
   "id": "1006d9d6-d758-4e46-85c5-3d147de97e80",
   "metadata": {},
   "source": [
    "<h1 style=\"font-size: 32px;\">Exercise #3: Review mathematical operations on arrays</h1>"
   ]
  },
  {
   "cell_type": "markdown",
   "id": "52a06202-9f71-4193-9310-fbca9109e70f",
   "metadata": {},
   "source": [
    "Recall from 16-3 that you can make use of operators to perform the mathematical operations that we're all familiar with, and when we use these operators on an array, we instruct our Python interpreter to apply that operation to each element (element-wise operation).\n",
    "\n",
    "For example, take your array of ten randomly generated integers from exercise #2, and multiply 5 to each element."
   ]
  },
  {
   "cell_type": "code",
   "execution_count": null,
   "id": "fc1c2811-775d-4463-8e21-7f0f501ef76a",
   "metadata": {},
   "outputs": [],
   "source": []
  },
  {
   "cell_type": "markdown",
   "id": "dfae244a-a321-4f9e-8b53-7b716afbfd5f",
   "metadata": {},
   "source": [
    "Does the output look as you would expect it to?\n",
    "\n",
    "The same can be done with other math operators as well. Feel free to try in the cell below."
   ]
  },
  {
   "cell_type": "code",
   "execution_count": null,
   "id": "da627df6-1003-4423-b4cf-34bcaa8cb06a",
   "metadata": {},
   "outputs": [],
   "source": []
  },
  {
   "cell_type": "markdown",
   "id": "8cf6e43d-6aab-48c7-aa78-09a1056b6840",
   "metadata": {},
   "source": [
    "<h1 style=\"font-size: 32px;\">Exercise #4: Mathematical operations with multiple arrays</h1>"
   ]
  },
  {
   "cell_type": "markdown",
   "id": "3fbd70aa-ba69-4bd9-b314-c3fee2fef6a8",
   "metadata": {},
   "source": [
    "With mathematical operators, we can also perform element-wise operations using two arrays. In this situation, the operation is performed using an element from one array and an element from another array at the same position. So the element at position 0 from the first array and the element at position 0 from the second array are used in the operation, and then Python moves to the next position in both arrays and repeats the operation. This goes on until the end of both arrays. Something to note is that the two objects must have the same shape otherwise you'll run into an error because element-wise operation can't be performed for those elements that aren't matched up to another.\n",
    "\n",
    "Instead of every element of your array being multiplied (or added,subtracted,divided) by the same constant value (like in exercise #3), the value is instead dependent on the elements in the second array. \n",
    "\n",
    "Taking your array from exercise #2 and the Boolean output, multiply them together."
   ]
  },
  {
   "cell_type": "code",
   "execution_count": null,
   "id": "b75d18bb-ccec-4fb6-ab80-d21a8d1b9346",
   "metadata": {},
   "outputs": [],
   "source": []
  },
  {
   "cell_type": "markdown",
   "id": "ab772c5d-9d7b-423d-a2ee-77ff56977747",
   "metadata": {},
   "source": [
    "How does the resulting output look? \n",
    "\n",
    "Why are some values preserved but others are 0? Depending on the Boolean values in your second array, you may not have 0s or you may have all 0s."
   ]
  },
  {
   "cell_type": "markdown",
   "id": "5bdc4b0b-32bc-453c-a850-db0b892f719a",
   "metadata": {},
   "source": []
  },
  {
   "cell_type": "markdown",
   "id": "91d3fb81-3ccf-46ca-ae03-73341bbdf206",
   "metadata": {},
   "source": [
    "When we dive into image analysis in the Fall, you'll learn more about how you can apply this concept to image analysis because what you've essentially just done is segmented your array based on a specified threshold."
   ]
  },
  {
   "cell_type": "markdown",
   "id": "c596fc4d-897c-478c-942c-a1624348ea3e",
   "metadata": {},
   "source": [
    "<h1 style=\"font-size: 32px;\">Exercise #5: Understanding DataFrames</h1>"
   ]
  },
  {
   "cell_type": "markdown",
   "id": "d657c0b3-0c32-4754-aee4-40caf4a261b1",
   "metadata": {},
   "source": [
    "DataFrames will be probably be among the most important compound data types that you'll be working with because the pandas package facilitates much more convenient data handling via its DataFrames and associated functions. DataFrames can be thought of as a container holding multiple Series together in a single object. Because of all the tools available, DataFrames offer a lot of versatility for data analysis and the type of analyses that we often do. DataFrames, often shorthanded to <code>df</code>, are more similar to the types of tables/spreadsheets that we are familiar with through Excel and Google Sheets. \n",
    "\n",
    "DataFrames are two-dimensional with both rows and columns, unlike Series which only contain positions along a single dimension. Each row and column of a DataFrame have their own positional information and can also contain a label as well, defining what that row or column is. Again not too different than Excel or Google Sheets.\n",
    "\n",
    "DataFrames can also hold heterogeneous data, much like lists. So you can have floats, integers, strings, etc all in a single DataFrame, and you won't usually run into issues.\n",
    "\n",
    "There's a large number of ways to create a pandas DataFrame from the ground up, and you can find <a href=\"https://pandas.pydata.org/docs/reference/api/pandas.DataFrame.html\" rel=\"noopener noreferrer\"><u>documentation on different ways to do so here</u></a>.\n",
    "\n",
    "By making use of the <code>pd.DataFrame()</code> function, we can construct a 2D data structure that contains rows and columns. And if we specify labels for rows and/or columns, we can access their elements using \"dictionary-notation\". So in a way, much like Series, a DataFrame can be thought of as dictionary-like as well.\n",
    "\n",
    "If we visualize the DataFrame that we want to create as if it were on an Excel spreadsheet.\n",
    "\n",
    "<table style=\"margin-left: 0px;\">\n",
    "    <tr>\n",
    "        <th style=\"background-color: none; border-left: none; border-top: none;\">&nbsp;</th>\n",
    "        <th style=\"background-color: #EEEEEE; border: 1px solid; border-color: #000000;\">x</th>\n",
    "        <th style=\"background-color: #EEEEEE; border: 1px solid; border-color: #000000;\">y</th>\n",
    "    </tr>\n",
    "    <tr>\n",
    "        <td style=\"background-color: #EEEEEE; border: 1px solid; border-color: #000000;\"><strong>0</strong></td>\n",
    "        <td style=\"background-color: #FFFFFF; border: 1px solid; border-color: #000000;\">100</td>\n",
    "        <td style=\"background-color: #FFFFFF; border: 1px solid; border-color: #000000;\">200</td>\n",
    "    </tr>\n",
    "    <tr>\n",
    "        <td style=\"background-color: #EEEEEE; border: 1px solid; border-color: #000000;\"><strong>1</strong></td>\n",
    "        <td style=\"background-color: #FFFFFF; border: 1px solid; border-color: #000000;\">13</td>\n",
    "        <td style=\"background-color: #FFFFFF; border: 1px solid; border-color: #000000;\">10</td>\n",
    "    </tr>\n",
    "    <tr>\n",
    "        <td style=\"background-color: #EEEEEE; border: 1px solid; border-color: #000000;\"><strong>2</strong></td>\n",
    "        <td style=\"background-color: #FFFFFF; border: 1px solid; border-color: #000000;\">1000</td>\n",
    "        <td style=\"background-color: #FFFFFF; border: 1px solid; border-color: #000000;\">2000</td>\n",
    "    </tr>\n",
    "    <tr>\n",
    "        <td style=\"background-color: #EEEEEE; border: 1px solid; border-color: #000000;\"><strong>3</td>\n",
    "        <td style=\"background-color: #FFFFFF; border: 1px solid; border-color: #000000;\">5</td>\n",
    "        <td style=\"background-color: #FFFFFF; border: 1px solid; border-color: #000000;\">2</td>\n",
    "    </tr>    \n",
    "</table>"
   ]
  },
  {
   "cell_type": "markdown",
   "id": "3e5aac87-86fd-482f-809f-8914385c50d0",
   "metadata": {},
   "source": [
    "<h1 style=\"font-size: 32px;\">Exercise #6: Creating DataFrame from list or array</h1>"
   ]
  },
  {
   "cell_type": "markdown",
   "id": "50be44e7-e10e-486c-bbaf-7538c84186df",
   "metadata": {},
   "source": [
    "See if you can create a 2D <u>list</u> or 2D <u>array</u> that is organized like the table above. You don't need to worry about the row/column labels for now. We'll use this 2D matrix to create a DataFrame in the next step. Save the list to a variable."
   ]
  },
  {
   "cell_type": "code",
   "execution_count": null,
   "id": "8258d541-9e81-437a-a587-ba04ead0904a",
   "metadata": {},
   "outputs": [],
   "source": []
  },
  {
   "cell_type": "markdown",
   "id": "908c7788-93ea-4ec8-811b-23e1268c805e",
   "metadata": {},
   "source": [
    "Now dig into <a href=\"https://pandas.pydata.org/docs/reference/api/pandas.DataFrame.html\" rel=\"noopener noreferrer\"><u>the documentation for <code>pd.DataFrame()</code></u></a> and see if you can set up a DataFrame with our 2D list. Save the DataFrame to a variable."
   ]
  },
  {
   "cell_type": "code",
   "execution_count": null,
   "id": "2e8bc62c-3248-4a7c-a741-0191d9146305",
   "metadata": {},
   "outputs": [],
   "source": []
  },
  {
   "cell_type": "markdown",
   "id": "d8bbffae-c99f-4c6e-8859-989270c2dfa0",
   "metadata": {},
   "source": [
    "Now print the variable to visualize your DataFrame. You can also make use of the <code>df.style</code> attribute to have Python output a stylized/formatted table for your DataFrame. <a href=\"https://pandas.pydata.org/docs/reference/api/pandas.DataFrame.style.html#pandas.DataFrame.style\" rel=\"noopener noreferrer\"><u>Documentation on the style attribute can be found here.</u></a> You can replace the <code>df</code> placeholder with the variable corresponding to your DataFrame."
   ]
  },
  {
   "cell_type": "code",
   "execution_count": null,
   "id": "5bc94ce3-1d29-4f43-8ecb-6ef30b098abc",
   "metadata": {},
   "outputs": [],
   "source": []
  },
  {
   "cell_type": "markdown",
   "id": "19656d93-c11c-48ff-b5f3-48a1781fd425",
   "metadata": {},
   "source": [
    "How does the output look between using <code>print()</code> compared to <code>df.style</code>?"
   ]
  },
  {
   "cell_type": "markdown",
   "id": "fd39f1b1-d76c-4c8f-bea6-e0353ee2b6cc",
   "metadata": {},
   "source": [
    "What you might have noticed is that none of the columns have the labels that our example table had. Go back to your cell where you created the DataFrame. What adjustments do you need to make to the code in order to add the column labels when the DataFrame is set up?\n",
    "\n",
    "Update the code and regenerate the DataFrame with the correct columns."
   ]
  },
  {
   "cell_type": "code",
   "execution_count": null,
   "id": "afbfa0f6-e99e-44eb-ada6-34be57dbc478",
   "metadata": {},
   "outputs": [],
   "source": []
  },
  {
   "cell_type": "markdown",
   "id": "e8c25ea0-5cb6-47ca-aa7f-fa0f8b520ef2",
   "metadata": {},
   "source": [
    "Recall that you can use dictionary-notation to access a column in a DataFrame. See if you can pull out the <code>x</code> column, and then see if you can pull out the <code>y</code> column by treating the column labels as dictionary keys."
   ]
  },
  {
   "cell_type": "code",
   "execution_count": null,
   "id": "8ad4a066-c1bc-417e-92ab-0bb25de29859",
   "metadata": {},
   "outputs": [],
   "source": []
  },
  {
   "cell_type": "markdown",
   "id": "81a2cd00-6d07-4504-bd91-b366c3df70d5",
   "metadata": {},
   "source": [
    "<h1 style=\"font-size: 32px;\">Exercise #7: Creating DataFrame from a dictionary</h1>"
   ]
  },
  {
   "cell_type": "markdown",
   "id": "1325c6a4-31bf-4397-9cea-c1a5a08808d8",
   "metadata": {},
   "source": [
    "In addition to lists, we can also set up a DataFrame from a dictionary as well. In this situation, the dictionary key will simply become the column label and the values paired to that key populate the column. In order to pair multiple values to a single key, we'll group all those values together into a list, and then pair the list to our key.\n",
    "\n",
    "For example, we can set up a dictionary with a single key:value pair, where the value is a list object.\n",
    "\n",
    "```\n",
    "Tony = {'cat' : [0, 1, 2, 3]}\n",
    "```\n",
    "\n",
    "And if we want, we can then set up a dictionary with multiple key:value pairs.\n",
    "\n",
    "```\n",
    "Tony = {'cat' : [0, 1, 2, 3], 'meow' : [4, 5, 6, 7], 'whisker' : [8, 9, 10, 11]}\n",
    "```\n",
    "\n",
    "Take a look at how the dictionaries print, and see if you can use dictionary-notation to pull out <code>'cat'</code>."
   ]
  },
  {
   "cell_type": "code",
   "execution_count": null,
   "id": "53d6e3de-6c61-4ac0-bcec-776ff6490335",
   "metadata": {},
   "outputs": [],
   "source": []
  },
  {
   "cell_type": "markdown",
   "id": "7a408286-1e9e-4b72-9f0e-23634874d0ad",
   "metadata": {},
   "source": [
    "Now pass the dictionary to the <code>pd.DataFrame()</code> function."
   ]
  },
  {
   "cell_type": "code",
   "execution_count": null,
   "id": "f6d3af2b-a2d3-45aa-b1c7-61076a728a90",
   "metadata": {},
   "outputs": [],
   "source": []
  },
  {
   "cell_type": "markdown",
   "id": "17eeaa50-f157-45e8-8f29-79d21be4cb9b",
   "metadata": {},
   "source": [
    "How does the DataFrame look? What happens if your dictionary's key:value pairs have different amounts of values?"
   ]
  },
  {
   "cell_type": "code",
   "execution_count": null,
   "id": "5d74b686-55d8-4b19-a1bc-917d86e44f80",
   "metadata": {},
   "outputs": [],
   "source": []
  },
  {
   "cell_type": "markdown",
   "id": "f6a8fd93-44cc-4225-b789-8d885754592c",
   "metadata": {},
   "source": [
    "<h1 style=\"font-size: 32px;\">Exercise #8: Creating DataFrame from pandas Series</h1>"
   ]
  },
  {
   "cell_type": "markdown",
   "id": "d249b9cf-14bc-4632-b690-3df00b83dac4",
   "metadata": {},
   "source": [
    "You can use the <code>pd.DataFrame()</code> function to create DataFrames from Series, and how you set up the arguments can affect whether you create a DataFrame with your Series as a column or as a row.\n",
    "\n",
    "If you want your Series to populate a column, then you can simply set up your Series, and run it through the <code>pd.DataFrame()</code> function.\n",
    "\n",
    "Let's set up a simple Series matching the values from column <code>x</code> of our DataFrame from exercise #5. Recall that to define a Series, you will need to use the <code>pd.Series()</code> function. <a href=\"https://pandas.pydata.org/docs/reference/api/pandas.Series.html\" rel=\"noopener noreferrer\"><u>Documentation for <code>pd.Series()</code> can be found here.</u></a> Also specify the <code>name</code> as <code>'x'</code> when creating the Series. Save the Series to a variable."
   ]
  },
  {
   "cell_type": "code",
   "execution_count": null,
   "id": "e72cebdc-e3c2-463c-86d8-68ad3984e3a9",
   "metadata": {},
   "outputs": [],
   "source": []
  },
  {
   "cell_type": "markdown",
   "id": "bf8ba370-900e-4db7-9e03-2394cbe06276",
   "metadata": {},
   "source": [
    "Now use the <code>pd.DataFrame()</code> function to create a DataFrame from your Series."
   ]
  },
  {
   "cell_type": "code",
   "execution_count": null,
   "id": "0d908d23-33cc-42ed-a42b-f904cf7602e6",
   "metadata": {},
   "outputs": [],
   "source": []
  },
  {
   "cell_type": "markdown",
   "id": "07366893-9132-4d9b-91c7-055fd34244ef",
   "metadata": {},
   "source": [
    "How has the values populated your newly created DataFrame?\n",
    "\n",
    "If you instead want your Series to populate a row, essentially filling in the values horizontally across the DataFrame, you can place your Series into a list when passing it to <code>pd.DataFrame()</code>.\n",
    "\n",
    "For example,\n",
    "\n",
    "```\n",
    "Liebchen = pd.DataFrame([meow_series])\n",
    "```\n",
    "\n",
    "See if you can have your Series instead populate a row instead of a column when setting up your DataFrame."
   ]
  },
  {
   "cell_type": "code",
   "execution_count": null,
   "id": "5fdb1033-a003-4ec5-8e13-6346481b197f",
   "metadata": {},
   "outputs": [],
   "source": []
  },
  {
   "cell_type": "markdown",
   "id": "2b0d54b9-46ee-4771-8a55-33beb5b47b9e",
   "metadata": {},
   "source": [
    "<h1 style=\"font-size: 32px;\">Exercise #9: Setting up DataFrame from more than one Series</h1>"
   ]
  },
  {
   "cell_type": "markdown",
   "id": "3d20dfab-4e45-4678-b3c7-89d41fdfb08e",
   "metadata": {},
   "source": [
    "To prepare for this exercise, set up a Series with values matching column <code>y</code> from exercise #5. Also specify the <code>name</code> as <code>'y'</code> when creating this Series. Save to another variable."
   ]
  },
  {
   "cell_type": "code",
   "execution_count": null,
   "id": "fc4b7035-970c-4f29-a8d8-d15480737ca0",
   "metadata": {},
   "outputs": [],
   "source": []
  },
  {
   "cell_type": "markdown",
   "id": "1719a26a-bfc4-479c-96c0-74a32224f95b",
   "metadata": {},
   "source": [
    "To then create a DataFrame from the two Series we set up (corresponding to the <code>x</code> and <code>y</code> columns), there are different approaches we can potentially take, and below are just two examples.\n",
    "\n",
    "The first approach will allow us to fill in each Series as its own column within a DataFrame. To do this, you can follow the same set up that we used to set up a DataFrame using a dictionary containing mulitple key:value pairs. Instead of pairing keys to lists, you'll pair keys to Series. See if you can set up a DataFrame with this approach."
   ]
  },
  {
   "cell_type": "code",
   "execution_count": null,
   "id": "902b0134-7f97-4827-8f11-1d27c2a1165a",
   "metadata": {},
   "outputs": [],
   "source": []
  },
  {
   "cell_type": "markdown",
   "id": "4f06f37c-2639-49af-99b7-f6f060db9f54",
   "metadata": {},
   "source": [
    "The second approach will have us fill in each Series as its own <u>row</u> within a DataFrame. In this case, rather than having our Series in a dictionary, we group our Series together into a list. We provide the list to the <code>pd.DataFrame()</code> function. Give that a try below."
   ]
  },
  {
   "cell_type": "code",
   "execution_count": null,
   "id": "8acec9e1-1f76-4146-8509-6567588544dd",
   "metadata": {},
   "outputs": [],
   "source": []
  },
  {
   "cell_type": "markdown",
   "id": "a30c0102-0768-4147-9cf3-c4dd180c5f33",
   "metadata": {},
   "source": [
    "How does the DataFrame look?"
   ]
  },
  {
   "cell_type": "markdown",
   "id": "0cff4779-0abf-4eb5-a8b0-62d3a15eba8f",
   "metadata": {},
   "source": [
    "<h1 style=\"font-size: 32px;\">Exercise #10: Transposing a DataFrame</h1>"
   ]
  },
  {
   "cell_type": "markdown",
   "id": "98705fc2-a16f-45fb-8449-1e2102b9bd3c",
   "metadata": {},
   "source": [
    "In exercise #9, you ended up with two DataFrames with different orientations. If you ever want to transpose your DataFrame (changing rows to columns and columns to rows), you can easily do so with the <code>df.transpose()</code> function or the <code>df.T</code> property. <a href=\"https://pandas.pydata.org/docs/reference/api/pandas.DataFrame.transpose.html\" rel=\"noopener noreferrer\"><u>Documentation on the <code>df.transpose()</code> function is found here.</u></a>\n",
    "\n",
    "See if you can take your last DataFrame from exercise #9 and transpose it so that the rows are now the columns."
   ]
  },
  {
   "cell_type": "code",
   "execution_count": null,
   "id": "a8eb8d17-5c44-4d28-88be-1815956ce92b",
   "metadata": {},
   "outputs": [],
   "source": []
  },
  {
   "cell_type": "markdown",
   "id": "14c558b3-bb8a-446f-86e2-3dcaf6df3e98",
   "metadata": {},
   "source": [
    "In a new code cell below, output a stylized table (see exercise #6 on the <code>df.style</code> attribute)."
   ]
  },
  {
   "cell_type": "code",
   "execution_count": null,
   "id": "c3fbcc7f-e2bd-4110-8273-8f6dd42bfc84",
   "metadata": {},
   "outputs": [],
   "source": []
  },
  {
   "cell_type": "markdown",
   "id": "490096cc-40e4-4353-b73c-8c4c6b38cd16",
   "metadata": {},
   "source": [
    "How does the DataFrame look now?"
   ]
  },
  {
   "cell_type": "code",
   "execution_count": null,
   "id": "212500fa-0451-456d-b4da-34d131d06a20",
   "metadata": {},
   "outputs": [],
   "source": []
  },
  {
   "cell_type": "code",
   "execution_count": null,
   "id": "487ef49a-1d2b-4bd6-86c9-d56e28aaecd4",
   "metadata": {},
   "outputs": [],
   "source": []
  },
  {
   "cell_type": "markdown",
   "id": "4af280cb-3c5f-4567-b278-65645ec7b7af",
   "metadata": {},
   "source": [
    "<h1 style=\"font-size: 32px;\">Exercise #11: Retrieving elements in a DataFrame</h1>"
   ]
  },
  {
   "cell_type": "markdown",
   "id": "d4f56a82-a406-437d-a8cc-39c35a4b8000",
   "metadata": {},
   "source": [
    "To prepare for this exercise, let's take what we've learned and set up a DataFrame that looks like the below table:\n",
    "\n",
    "<table style=\"margin-left: 0px;\">\n",
    "    <tr>\n",
    "        <th style=\"background-color: none; border-left: none; border-top: none; width: 100px;\">&nbsp;</th>\n",
    "        <th style=\"background-color: #EEEEEE; border: 1px solid; border-color: #000000; width: 100px;\">size</th>\n",
    "        <th style=\"background-color: #EEEEEE; border: 1px solid; border-color: #000000; width: 100px;\">weight</th>\n",
    "        <th style=\"background-color: #EEEEEE; border: 1px solid; border-color: #000000; width: 100px;\">taste</th>\n",
    "    </tr>\n",
    "    <tr>\n",
    "        <td style=\"background-color: #EEEEEE; border: 1px solid; border-color: #000000; \"><strong>apple</strong></td>\n",
    "        <td style=\"background-color: #FFFFFF; border: 1px solid; border-color: #000000;\">2</td>\n",
    "        <td style=\"background-color: #FFFFFF; border: 1px solid; border-color: #000000;\">5</td>\n",
    "        <td style=\"background-color: #FFFFFF; border: 1px solid; border-color: #000000;\">8</td>\n",
    "    </tr>\n",
    "    <tr>\n",
    "        <td style=\"background-color: #EEEEEE; border: 1px solid; border-color: #000000;\"><strong>orange</strong></td>\n",
    "        <td style=\"background-color: #FFFFFF; border: 1px solid; border-color: #000000;\">3</td>\n",
    "        <td style=\"background-color: #FFFFFF; border: 1px solid; border-color: #000000;\">5</td>\n",
    "        <td style=\"background-color: #FFFFFF; border: 1px solid; border-color: #000000;\">7</td>\n",
    "    </tr>\n",
    "    <tr>\n",
    "        <td style=\"background-color: #EEEEEE; border: 1px solid; border-color: #000000;\"><strong>cherry</strong></td>\n",
    "        <td style=\"background-color: #FFFFFF; border: 1px solid; border-color: #000000;\">1</td>\n",
    "        <td style=\"background-color: #FFFFFF; border: 1px solid; border-color: #000000;\">2</td>\n",
    "        <td style=\"background-color: #FFFFFF; border: 1px solid; border-color: #000000;\">3</td>\n",
    "    </tr>\n",
    "    <tr>\n",
    "        <td style=\"background-color: #EEEEEE; border: 1px solid; border-color: #000000;\"><strong>pineapple</td>\n",
    "        <td style=\"background-color: #FFFFFF; border: 1px solid; border-color: #000000;\">8</td>\n",
    "        <td style=\"background-color: #FFFFFF; border: 1px solid; border-color: #000000;\">5</td>\n",
    "        <td style=\"background-color: #FFFFFF; border: 1px solid; border-color: #000000;\">7</td>\n",
    "    </tr>    \n",
    "</table>"
   ]
  },
  {
   "cell_type": "code",
   "execution_count": null,
   "id": "c69960bb-7c8d-4278-8cf6-fb72cbc94dc8",
   "metadata": {},
   "outputs": [],
   "source": []
  },
  {
   "cell_type": "markdown",
   "id": "ad072d1f-ceca-4b06-abc9-6adcd71aa6d0",
   "metadata": {},
   "source": [
    "When working with your data, you'll oftentimes need to retrieve a subset of your data to perform calculations, statistical analysis, or simply to visualize you results. Like with other compound data types, you can pull information from your DataFrame. You can either specify the column, index, or both (if you wanted to retrieve a specific cell).\n",
    "\n",
    "The syntax is like that used for a Series, where you can treat it like a dictionary and use keys to tell Python what rows and columns to retrive data from. Depending on what you want to retrieve, you will provide Python with slightly different things.\n",
    "\n",
    "<h3>Using dictionary-notation</h3>\n",
    "\n",
    "You can simply use dictionary-notation to pull columns out based on their key.\n",
    "\n",
    "```\n",
    "fruits_df['size']\n",
    "```\n",
    "\n",
    "The above code will pull out the <code>'size'</code> column from our DataFrame, which is not too different than selecting a row in Excel or Google Sheets like in the below table.\n",
    "\n",
    "<table style=\"margin-left: 0px;\">\n",
    "    <tr>\n",
    "        <th style=\"background-color: none; border-left: none; border-top: none; width: 100px;\">&nbsp;</th>\n",
    "        <th style=\"background-color: #FFFF00; border: 1px solid; border-color: #000000; width: 100px;\">size</th>\n",
    "        <th style=\"background-color: #EEEEEE; border: 1px solid; border-color: #000000; width: 100px;\">weight</th>\n",
    "        <th style=\"background-color: #EEEEEE; border: 1px solid; border-color: #000000; width: 100px;\">taste</th>\n",
    "    </tr>\n",
    "    <tr>\n",
    "        <td style=\"background-color: #EEEEEE; border: 1px solid; border-color: #000000; \"><strong>apple</strong></td>\n",
    "        <td style=\"background-color: #FFFF00; border: 1px solid; border-color: #000000;\">2</td>\n",
    "        <td style=\"background-color: #FFFFFF; border: 1px solid; border-color: #000000;\">5</td>\n",
    "        <td style=\"background-color: #FFFFFF; border: 1px solid; border-color: #000000;\">8</td>\n",
    "    </tr>\n",
    "    <tr>\n",
    "        <td style=\"background-color: #EEEEEE; border: 1px solid; border-color: #000000;\"><strong>orange</strong></td>\n",
    "        <td style=\"background-color: #FFFF00; border: 1px solid; border-color: #000000;\">3</td>\n",
    "        <td style=\"background-color: #FFFFFF; border: 1px solid; border-color: #000000;\">5</td>\n",
    "        <td style=\"background-color: #FFFFFF; border: 1px solid; border-color: #000000;\">7</td>\n",
    "    </tr>\n",
    "    <tr>\n",
    "        <td style=\"background-color: #EEEEEE; border: 1px solid; border-color: #000000;\"><strong>cherry</strong></td>\n",
    "        <td style=\"background-color: #FFFF00; border: 1px solid; border-color: #000000;\">1</td>\n",
    "        <td style=\"background-color: #FFFFFF; border: 1px solid; border-color: #000000;\">2</td>\n",
    "        <td style=\"background-color: #FFFFFF; border: 1px solid; border-color: #000000;\">3</td>\n",
    "    </tr>\n",
    "    <tr>\n",
    "        <td style=\"background-color: #EEEEEE; border: 1px solid; border-color: #000000;\"><strong>pineapple</td>\n",
    "        <td style=\"background-color: #FFFF00; border: 1px solid; border-color: #000000;\">8</td>\n",
    "        <td style=\"background-color: #FFFFFF; border: 1px solid; border-color: #000000;\">5</td>\n",
    "        <td style=\"background-color: #FFFFFF; border: 1px solid; border-color: #000000;\">7</td>\n",
    "    </tr>    \n",
    "</table>\n",
    "\n",
    "Where the yellow cells are the ones that you are retrieving.\n",
    "\n",
    "Give that a try below. Try subsetting your data one column at a time."
   ]
  },
  {
   "cell_type": "code",
   "execution_count": null,
   "id": "0a63ac70-4a7a-4f3e-b4ec-b44b60681f8a",
   "metadata": {},
   "outputs": [],
   "source": []
  },
  {
   "cell_type": "markdown",
   "id": "6e5e2be6-9db3-4c16-a451-60879036b6e5",
   "metadata": {},
   "source": [
    "If we wanted to pull more than one column, we can specify a list of columnn labels instead of just a single column label.\n",
    "\n",
    "```\n",
    "fruits_df[['size', 'weight']]\n",
    "```\n",
    "\n",
    "So then the idea isn't too different than selecting multiple columns on Excel or Google Sheets.\n",
    "\n",
    "<table style=\"margin-left: 0px;\">\n",
    "    <tr>\n",
    "        <th style=\"background-color: none; border-left: none; border-top: none; width: 100px;\">&nbsp;</th>\n",
    "        <th style=\"background-color: #FFFF00; border: 1px solid; border-color: #000000; width: 100px;\">size</th>\n",
    "        <th style=\"background-color: #FFFF00; border: 1px solid; border-color: #000000; width: 100px;\">weight</th>\n",
    "        <th style=\"background-color: #EEEEEE; border: 1px solid; border-color: #000000; width: 100px;\">taste</th>\n",
    "    </tr>\n",
    "    <tr>\n",
    "        <td style=\"background-color: #EEEEEE; border: 1px solid; border-color: #000000; \"><strong>apple</strong></td>\n",
    "        <td style=\"background-color: #FFFF00; border: 1px solid; border-color: #000000;\">2</td>\n",
    "        <td style=\"background-color: #FFFF00; border: 1px solid; border-color: #000000;\">5</td>\n",
    "        <td style=\"background-color: #FFFFFF; border: 1px solid; border-color: #000000;\">8</td>\n",
    "    </tr>\n",
    "    <tr>\n",
    "        <td style=\"background-color: #EEEEEE; border: 1px solid; border-color: #000000;\"><strong>orange</strong></td>\n",
    "        <td style=\"background-color: #FFFF00; border: 1px solid; border-color: #000000;\">3</td>\n",
    "        <td style=\"background-color: #FFFF00; border: 1px solid; border-color: #000000;\">5</td>\n",
    "        <td style=\"background-color: #FFFFFF; border: 1px solid; border-color: #000000;\">7</td>\n",
    "    </tr>\n",
    "    <tr>\n",
    "        <td style=\"background-color: #EEEEEE; border: 1px solid; border-color: #000000;\"><strong>cherry</strong></td>\n",
    "        <td style=\"background-color: #FFFF00; border: 1px solid; border-color: #000000;\">1</td>\n",
    "        <td style=\"background-color: #FFFF00; border: 1px solid; border-color: #000000;\">2</td>\n",
    "        <td style=\"background-color: #FFFFFF; border: 1px solid; border-color: #000000;\">3</td>\n",
    "    </tr>\n",
    "    <tr>\n",
    "        <td style=\"background-color: #EEEEEE; border: 1px solid; border-color: #000000;\"><strong>pineapple</td>\n",
    "        <td style=\"background-color: #FFFF00; border: 1px solid; border-color: #000000;\">8</td>\n",
    "        <td style=\"background-color: #FFFF00; border: 1px solid; border-color: #000000;\">5</td>\n",
    "        <td style=\"background-color: #FFFFFF; border: 1px solid; border-color: #000000;\">7</td>\n",
    "    </tr>    \n",
    "</table>\n",
    "\n",
    "Give that a try below."
   ]
  },
  {
   "cell_type": "code",
   "execution_count": null,
   "id": "c47b3830-e5e9-4e80-b8fd-932ad841e77f",
   "metadata": {},
   "outputs": [],
   "source": []
  },
  {
   "cell_type": "markdown",
   "id": "2570f715-deb8-4fd2-a0d8-8a6e8ef058ea",
   "metadata": {},
   "source": [
    "We can also rearrange our columns by re-ordering the column labels when we specify them in the list to pull out columns. Give that a try below to see if you can rearrange columns."
   ]
  },
  {
   "cell_type": "code",
   "execution_count": null,
   "id": "a6f7e896-ac52-48bc-9bfa-ea3d1c9e9a14",
   "metadata": {},
   "outputs": [],
   "source": []
  },
  {
   "cell_type": "markdown",
   "id": "432cdbd6-ecf8-48a4-8d79-e265ea5a08b8",
   "metadata": {},
   "source": [
    "<h3>To retrieve elements using the locator function:</h3>"
   ]
  },
  {
   "cell_type": "markdown",
   "id": "ccb70ce6-c116-4558-9652-16f2bd4a69f4",
   "metadata": {},
   "source": [
    "Recall from lecture that you can also retrieve data using a label-based or index-based locator. \n",
    "\n",
    "Label-based locator is specified by <code>df.loc[]</code>, where <code>df</code> is a placeholder for a DataFrame, and the label/key goes into the <code>&lbrack;&rbrack;</code> square brackets. The index-based locator is specified by <code>df.iloc[]</code>, where the row or column index position goes into the <code>&lbrack;&rbrack;</code> square brackets.\n",
    "\n",
    "<a href=\"https://pandas.pydata.org/docs/reference/api/pandas.DataFrame.loc.html\" rel=\"noopener noreferrer\"><u>The documentation for <code>df.loc[]</code> can be found here.</u></a>\n",
    "\n",
    "<a href=\"https://pandas.pydata.org/docs/reference/api/pandas.DataFrame.iloc.html\" rel=\"noopener noreferrer\"><u>The documentation for <code>df.iloc[]</code> can be found here.</u></a>"
   ]
  },
  {
   "cell_type": "markdown",
   "id": "491720c1-042f-4ac1-9323-193ca2fff329",
   "metadata": {},
   "source": [
    "If you wanted to pull a single row, you would simply specify the key for <code>df.loc[]</code> or the index position for <code>df.iloc[]</code>. \n",
    "\n",
    "For example, if you wanted to pull the row <code>orange</code>, which is located at position 1:\n",
    "\n",
    "```\n",
    "fruits_df.loc['orange']\n",
    "```\n",
    "\n",
    "Or I could use the index position:\n",
    "\n",
    "```\n",
    "fruits_df.iloc[1]\n",
    "```\n",
    "\n",
    "Notice that <code>.loc</code> was swapped to using the index-based locator <code>.iloc</code> because you're providing the index value, and you don't want Python to think it's corresponding to a key.\n",
    "\n",
    "So that would look something like this in Excel or Google Sheets:\n",
    "\n",
    "<table style=\"margin-left: 0px;\">\n",
    "    <tr>\n",
    "        <th style=\"background-color: none; border-left: none; border-top: none; width: 100px;\">&nbsp;</th>\n",
    "        <th style=\"background-color: #EEEEEE; border: 1px solid; border-color: #000000; width: 100px;\">size</th>\n",
    "        <th style=\"background-color: #EEEEEE; border: 1px solid; border-color: #000000; width: 100px;\">weight</th>\n",
    "        <th style=\"background-color: #EEEEEE; border: 1px solid; border-color: #000000; width: 100px;\">taste</th>\n",
    "    </tr>\n",
    "    <tr>\n",
    "        <td style=\"background-color: #EEEEEE; border: 1px solid; border-color: #000000; \"><strong>apple</strong></td>\n",
    "        <td style=\"background-color: #FFFFFF; border: 1px solid; border-color: #000000;\">2</td>\n",
    "        <td style=\"background-color: #FFFFFF; border: 1px solid; border-color: #000000;\">5</td>\n",
    "        <td style=\"background-color: #FFFFFF; border: 1px solid; border-color: #000000;\">8</td>\n",
    "    </tr>\n",
    "    <tr>\n",
    "        <td style=\"background-color: #FFFF00; border: 1px solid; border-color: #000000;\"><strong>orange</strong></td>\n",
    "        <td style=\"background-color: #FFFF00; border: 1px solid; border-color: #000000;\">3</td>\n",
    "        <td style=\"background-color: #FFFF00; border: 1px solid; border-color: #000000;\">5</td>\n",
    "        <td style=\"background-color: #FFFF00; border: 1px solid; border-color: #000000;\">7</td>\n",
    "    </tr>\n",
    "    <tr>\n",
    "        <td style=\"background-color: #EEEEEE; border: 1px solid; border-color: #000000;\"><strong>cherry</strong></td>\n",
    "        <td style=\"background-color: #FFFFFF; border: 1px solid; border-color: #000000;\">1</td>\n",
    "        <td style=\"background-color: #FFFFFF; border: 1px solid; border-color: #000000;\">2</td>\n",
    "        <td style=\"background-color: #FFFFFF; border: 1px solid; border-color: #000000;\">3</td>\n",
    "    </tr>\n",
    "    <tr>\n",
    "        <td style=\"background-color: #EEEEEE; border: 1px solid; border-color: #000000;\"><strong>pineapple</td>\n",
    "        <td style=\"background-color: #FFFFFF; border: 1px solid; border-color: #000000;\">8</td>\n",
    "        <td style=\"background-color: #FFFFFF; border: 1px solid; border-color: #000000;\">5</td>\n",
    "        <td style=\"background-color: #FFFFFF; border: 1px solid; border-color: #000000;\">7</td>\n",
    "    </tr>    \n",
    "</table>\n",
    "\n",
    "\n",
    "Give it a try below to try and retrieve rows from a DataFrame using index-based and/or label-based locators."
   ]
  },
  {
   "cell_type": "code",
   "execution_count": null,
   "id": "c801d13d-4e2e-47c5-9e45-56f2b06d6bc7",
   "metadata": {},
   "outputs": [],
   "source": []
  },
  {
   "cell_type": "markdown",
   "id": "9a1f3256-910c-4f2a-bf1e-2736a5d0ff82",
   "metadata": {},
   "source": [
    "One thing to keep in mind is that our DataFrames are 2D, and so if we want to do more than just pull rows using the locators, we'll need to actually specify the axes as well.\n",
    "\n",
    "For example, if I wanted to use <code>.loc</code> to retrieve the <code>weight</code> column:\n",
    "\n",
    "```\n",
    "fruits_df.loc[:, 'weight']\n",
    "```\n",
    "\n",
    "You might notice that the information passed to the <code>.loc</code> is different now. \n",
    "\n",
    "<strong>Breaking down the line of code, you get:</strong>\n",
    "\n",
    "<ul>\n",
    "<code>fruits_df</code> - This is our DataFrame from which we're retrieving elements.<br />\n",
    "<code>.loc[]</code> - This is our label-based locator.<br />\n",
    "<code>:</code> - The colon is slice notation that indicates that we want to retrieve everything from the specified axis.<br />\n",
    "<code>,</code> - The comma is a delimiter separating out the two axes of a DataFrame. To the left of the commaa are the rows, and to the right are the columns. So the colon to the left of the comma indicates that we're pulling all the rows.<br />\n",
    "<code>'weight'</code> - This is the label for the weight column.\n",
    "</ul>\n",
    "\n",
    "So overall, the code is invoking the <code>fruits_df</code> DataFrame, trying to locate something within it based on the label, and it will retrieve everything that is the intersection of all rows and the weight column.\n",
    "\n",
    "So that will look something like the below in Excel or Google Sheets:\n",
    "\n",
    "<table style=\"margin-left: 0px;\">\n",
    "    <tr>\n",
    "        <th style=\"background-color: none; border-left: none; border-top: none; width: 100px;\">&nbsp;</th>\n",
    "        <th style=\"background-color: #EEEEEE; border: 1px solid; border-color: #000000; width: 100px;\">size</th>\n",
    "        <th style=\"background-color: #FFFF00; border: 1px solid; border-color: #000000; width: 100px;\">weight</th>\n",
    "        <th style=\"background-color: #EEEEEE; border: 1px solid; border-color: #000000; width: 100px;\">taste</th>\n",
    "    </tr>\n",
    "    <tr>\n",
    "        <td style=\"background-color: #EEEEEE; border: 1px solid; border-color: #000000; \"><strong>apple</strong></td>\n",
    "        <td style=\"background-color: #FFFFFF; border: 1px solid; border-color: #000000;\">2</td>\n",
    "        <td style=\"background-color: #FFFF00; border: 1px solid; border-color: #000000;\">5</td>\n",
    "        <td style=\"background-color: #FFFFFF; border: 1px solid; border-color: #000000;\">8</td>\n",
    "    </tr>\n",
    "    <tr>\n",
    "        <td style=\"background-color: #EEEEEE; border: 1px solid; border-color: #000000;\"><strong>orange</strong></td>\n",
    "        <td style=\"background-color: #FFFFFF; border: 1px solid; border-color: #000000;\">3</td>\n",
    "        <td style=\"background-color: #FFFF00; border: 1px solid; border-color: #000000;\">5</td>\n",
    "        <td style=\"background-color: #FFFFFF; border: 1px solid; border-color: #000000;\">7</td>\n",
    "    </tr>\n",
    "    <tr>\n",
    "        <td style=\"background-color: #EEEEEE; border: 1px solid; border-color: #000000;\"><strong>cherry</strong></td>\n",
    "        <td style=\"background-color: #FFFFFF; border: 1px solid; border-color: #000000;\">1</td>\n",
    "        <td style=\"background-color: #FFFF00; border: 1px solid; border-color: #000000;\">2</td>\n",
    "        <td style=\"background-color: #FFFFFF; border: 1px solid; border-color: #000000;\">3</td>\n",
    "    </tr>\n",
    "    <tr>\n",
    "        <td style=\"background-color: #EEEEEE; border: 1px solid; border-color: #000000;\"><strong>pineapple</td>\n",
    "        <td style=\"background-color: #FFFFFF; border: 1px solid; border-color: #000000;\">8</td>\n",
    "        <td style=\"background-color: #FFFF00; border: 1px solid; border-color: #000000;\">5</td>\n",
    "        <td style=\"background-color: #FFFFFF; border: 1px solid; border-color: #000000;\">7</td>\n",
    "    </tr>    \n",
    "</table>\n",
    "\n",
    "Give that a try below. See if you can subset your DataFrame."
   ]
  },
  {
   "cell_type": "code",
   "execution_count": null,
   "id": "fc1f2bde-34bf-42d1-9d49-70431a72e04c",
   "metadata": {},
   "outputs": [],
   "source": []
  },
  {
   "cell_type": "markdown",
   "id": "c20ebe0a-09b9-4861-8465-3f24e23a5441",
   "metadata": {},
   "source": [
    "Like with dictionary-notation, you can also provide a list of column labels to <code>.loc</code>, and it will retrieve the rows specified in the list.\n",
    "\n",
    "For example:\n",
    "\n",
    "```\n",
    "fruits_df.loc[:, ['weight', 'taste']]\n",
    "```\n",
    "\n",
    "The above code will then pull the weight and the taste columns, which would look like the following in Excel or Google Sheets:\n",
    "\n",
    "<table style=\"margin-left: 0px;\">\n",
    "    <tr>\n",
    "        <th style=\"background-color: none; border-left: none; border-top: none; width: 100px;\">&nbsp;</th>\n",
    "        <th style=\"background-color: #EEEEEE; border: 1px solid; border-color: #000000; width: 100px;\">size</th>\n",
    "        <th style=\"background-color: #FFFF00; border: 1px solid; border-color: #000000; width: 100px;\">weight</th>\n",
    "        <th style=\"background-color: #FFFF00; border: 1px solid; border-color: #000000; width: 100px;\">taste</th>\n",
    "    </tr>\n",
    "    <tr>\n",
    "        <td style=\"background-color: #EEEEEE; border: 1px solid; border-color: #000000; \"><strong>apple</strong></td>\n",
    "        <td style=\"background-color: #FFFFFF; border: 1px solid; border-color: #000000;\">2</td>\n",
    "        <td style=\"background-color: #FFFF00; border: 1px solid; border-color: #000000;\">5</td>\n",
    "        <td style=\"background-color: #FFFF00; border: 1px solid; border-color: #000000;\">8</td>\n",
    "    </tr>\n",
    "    <tr>\n",
    "        <td style=\"background-color: #EEEEEE; border: 1px solid; border-color: #000000;\"><strong>orange</strong></td>\n",
    "        <td style=\"background-color: #FFFFFF; border: 1px solid; border-color: #000000;\">3</td>\n",
    "        <td style=\"background-color: #FFFF00; border: 1px solid; border-color: #000000;\">5</td>\n",
    "        <td style=\"background-color: #FFFF00; border: 1px solid; border-color: #000000;\">7</td>\n",
    "    </tr>\n",
    "    <tr>\n",
    "        <td style=\"background-color: #EEEEEE; border: 1px solid; border-color: #000000;\"><strong>cherry</strong></td>\n",
    "        <td style=\"background-color: #FFFFFF; border: 1px solid; border-color: #000000;\">1</td>\n",
    "        <td style=\"background-color: #FFFF00; border: 1px solid; border-color: #000000;\">2</td>\n",
    "        <td style=\"background-color: #FFFF00; border: 1px solid; border-color: #000000;\">3</td>\n",
    "    </tr>\n",
    "    <tr>\n",
    "        <td style=\"background-color: #EEEEEE; border: 1px solid; border-color: #000000;\"><strong>pineapple</td>\n",
    "        <td style=\"background-color: #FFFFFF; border: 1px solid; border-color: #000000;\">8</td>\n",
    "        <td style=\"background-color: #FFFF00; border: 1px solid; border-color: #000000;\">5</td>\n",
    "        <td style=\"background-color: #FFFF00; border: 1px solid; border-color: #000000;\">7</td>\n",
    "    </tr>    \n",
    "</table>\n",
    "\n",
    "Give that try below and see if you can rearrange the column order when using the <code>.loc</code> locator."
   ]
  },
  {
   "cell_type": "code",
   "execution_count": null,
   "id": "65a3e15d-4b68-42c0-bb73-a0a4fd370436",
   "metadata": {},
   "outputs": [],
   "source": []
  },
  {
   "cell_type": "markdown",
   "id": "fc058917-e212-4c70-9bb3-c5d6f8597b4b",
   "metadata": {},
   "source": [
    "<h1 style=\"font-size: 32px;\">Exercise #12: Practice retrieving elements</h1>"
   ]
  },
  {
   "cell_type": "markdown",
   "id": "7bbc2a49-275b-4bb4-93a8-affd147f011c",
   "metadata": {},
   "source": [
    "Now see if you can take what you've learned about specifying two axes with the <code>.loc</code> locator and use that to pull two rows from a DataFrame."
   ]
  },
  {
   "cell_type": "code",
   "execution_count": null,
   "id": "aa4d40d2-3728-4fdf-8bc7-64a347ce9326",
   "metadata": {},
   "outputs": [],
   "source": []
  },
  {
   "cell_type": "markdown",
   "id": "b0b0b0aa-5400-4958-8d89-340780ce1e89",
   "metadata": {},
   "source": [
    "<h1 style=\"font-size: 32px;\">Exercise #13: Retrieve a single element</h1>"
   ]
  },
  {
   "cell_type": "markdown",
   "id": "2f33540b-32f7-4d3d-8fd5-f4f00012b26e",
   "metadata": {},
   "source": [
    "With the <code>.loc</code> locator, we can specify a single row and a single column from which we're pulling from, and Python will find the intersection of that column and row, pulling out a single element. That will essentially look like the below table in Excel or Google Sheets:\n",
    "\n",
    "<table style=\"margin-left: 0px;\">\n",
    "    <tr>\n",
    "        <th style=\"background-color: none; border-left: none; border-top: none; width: 100px;\">&nbsp;</th>\n",
    "        <th style=\"background-color: #EEEEEE; border: 1px solid; border-color: #000000; width: 100px;\">size</th>\n",
    "        <th style=\"background-color: #FFFDB6; border: 1px solid; border-color: #000000; width: 100px;\">weight</th>\n",
    "        <th style=\"background-color: #FFFFFF; border: 1px solid; border-color: #000000; width: 100px;\">taste</th>\n",
    "    </tr>\n",
    "    <tr>\n",
    "        <td style=\"background-color: #EEEEEE; border: 1px solid; border-color: #000000; \"><strong>apple</strong></td>\n",
    "        <td style=\"background-color: #FFFFFF; border: 1px solid; border-color: #000000;\">2</td>\n",
    "        <td style=\"background-color: #FFFDB6; border: 1px solid; border-color: #000000;\">5</td>\n",
    "        <td style=\"background-color: #FFFFFF; border: 1px solid; border-color: #000000;\">8</td>\n",
    "    </tr>\n",
    "    <tr>\n",
    "        <td style=\"background-color: #EEEEEE; border: 1px solid; border-color: #000000;\"><strong>orange</strong></td>\n",
    "        <td style=\"background-color: #FFFFFF; border: 1px solid; border-color: #000000;\">3</td>\n",
    "        <td style=\"background-color: #FFFDB6; border: 1px solid; border-color: #000000;\">5</td>\n",
    "        <td style=\"background-color: #FFFFFF; border: 1px solid; border-color: #000000;\">7</td>\n",
    "    </tr>\n",
    "    <tr>\n",
    "        <td style=\"background-color: #FFFDB6; border: 1px solid; border-color: #000000;\"><strong>cherry</strong></td>\n",
    "        <td style=\"background-color: #FFFDB6; border: 1px solid; border-color: #000000;\">1</td>\n",
    "        <td style=\"background-color: #FFFF00; border: 1px solid; border-color: #000000;\">2</td>\n",
    "        <td style=\"background-color: #FFFDB6; border: 1px solid; border-color: #000000;\">3</td>\n",
    "    </tr>\n",
    "    <tr>\n",
    "        <td style=\"background-color: #EEEEEE; border: 1px solid; border-color: #000000;\"><strong>pineapple</td>\n",
    "        <td style=\"background-color: #FFFFFF; border: 1px solid; border-color: #000000;\">8</td>\n",
    "        <td style=\"background-color: #FFFDB6; border: 1px solid; border-color: #000000;\">5</td>\n",
    "        <td style=\"background-color: #FFFFFF; border: 1px solid; border-color: #000000;\">7</td>\n",
    "    </tr>    \n",
    "</table>\n",
    "\n",
    "See if you can pull a single value like shown in the above table."
   ]
  },
  {
   "cell_type": "code",
   "execution_count": null,
   "id": "86633d37-e284-4b15-aefc-55730ec36ff7",
   "metadata": {},
   "outputs": [],
   "source": []
  },
  {
   "cell_type": "markdown",
   "id": "1d6fe984-e886-4133-b172-428a3c2f33bb",
   "metadata": {},
   "source": [
    "<h1 style=\"font-size: 32px;\">Exercise #13: Filtering data</h1>"
   ]
  },
  {
   "cell_type": "markdown",
   "id": "4a3a1981-9419-4c19-87e2-cab8afeaf314",
   "metadata": {},
   "source": [
    "For this exercise, we'll combine what we learned about conditional statements and what we've learned about retrieving elements from a DataFrame in order to filter a DataFrame, whether that's to remove data we don't want or won't need for analysis, etc.\n",
    "\n",
    "Like with lists, we can also set up a conditional statement with DataFrames as well. In the cell below, apply a conditional statement to <code>fruits_df</code> to determine what elements are greater than 2."
   ]
  },
  {
   "cell_type": "code",
   "execution_count": null,
   "id": "83d91dc9-49dd-4107-bb0c-481a72a2872c",
   "metadata": {},
   "outputs": [],
   "source": []
  },
  {
   "cell_type": "markdown",
   "id": "02a50f43-efbc-405e-90b9-c65b065b6ba3",
   "metadata": {},
   "source": [
    "How does the output look like? What is the data type of the outputs?"
   ]
  },
  {
   "cell_type": "code",
   "execution_count": null,
   "id": "6c7990f1-ecc3-4a08-b878-cb7f3e667205",
   "metadata": {},
   "outputs": [],
   "source": []
  },
  {
   "cell_type": "markdown",
   "id": "397739db-1af5-4ad3-8953-608b44c45a9e",
   "metadata": {},
   "source": [
    "Now we often will filter based on specific conditions rather than broadly across all rows and columns. Instead, we might be interested in the characteristics of fruits that are greater than 2 in size, so we'll want to filter out fruits that do not meet that minimum size.\n",
    "\n",
    "To break this down into manageable pieces, let's first see if we can retrieve just the size column and then set up a conditional statement to return a Boolean value based on whether or not the elements are greater than 2."
   ]
  },
  {
   "cell_type": "code",
   "execution_count": null,
   "id": "17c27425-c7d8-47ad-8990-5bc579b74cf4",
   "metadata": {},
   "outputs": [],
   "source": []
  },
  {
   "cell_type": "markdown",
   "id": "095b724a-ffc9-4021-86aa-3368f69c40f9",
   "metadata": {},
   "source": [
    "One thing about <code>.loc</code> is that we can also pass it a Boolean array, which is what we got above when we set up our conditional statement for the size column. So let's then insert our conditional statement into the brackets of <code>.loc[]</code>, and don't forget to specify what DataFrame we're pulling from, so <code>fruits.loc[]</code>.\n",
    "\n",
    "Before running the code, remember that we may need to specify two-dimensions when invoking <code>.loc</code> to make sure that Python knows clearly how we want it to filter our DataFrame. What axis would the conditional statement be applied to? and how would we tell Python to pull all the values along the other axis after filtering based on size?\n",
    "\n",
    "Run your code to see if you were able to get Python to filter your DataFrame, leaving you with just the fruits whose size is greater than two and their characteristics."
   ]
  },
  {
   "cell_type": "code",
   "execution_count": null,
   "id": "95d2840a-1b48-403d-b925-ddc503b5fd18",
   "metadata": {},
   "outputs": [],
   "source": []
  },
  {
   "cell_type": "markdown",
   "id": "db2bb521-1ad6-42b6-90f9-8e27ad93d36a",
   "metadata": {},
   "source": [
    "<h1 style=\"font-size: 32px;\">Exercise #14: Performing math operations on DataFrames</h1>"
   ]
  },
  {
   "cell_type": "markdown",
   "id": "d4186e1b-2685-48e9-8f1f-1d2648d373d2",
   "metadata": {},
   "source": [
    "Like arrays, you can also use math operators to perform element-wise calculations on DataFrames. Pandas also has a large number of functions that you can invoke to perform more complicated calculations or to do more specific operations on your DataFrame.\n",
    "\n",
    "Play around with some basic math operations with your DataFrame. Is the output as you would expect for simple calculations?"
   ]
  },
  {
   "cell_type": "code",
   "execution_count": null,
   "id": "89398b09-546a-4964-b30b-a66a5fff5bb4",
   "metadata": {},
   "outputs": [],
   "source": []
  },
  {
   "cell_type": "markdown",
   "id": "e0d1bb63-71a5-4921-a380-e48cb6e481cc",
   "metadata": {},
   "source": [
    "Pandas can also perform more specific/complicated calculations, such as calculating the mean. To do this, you'll make use of the <code>df.mean()</code> function. <a href=\"https://pandas.pydata.org/docs/reference/api/pandas.DataFrame.mean.html\" rel=\"noopener noreferrer\"><u>Documentation for <code>df.mean()</code> is found here.</u></a>\n",
    "\n",
    "In our situation, we will want to find the average of the size, weight, and taste, which means that we will operate along each column, finding the average of values within a column, rather than along each row. Look into <a href=\"https://pandas.pydata.org/docs/reference/api/pandas.DataFrame.mean.html\" rel=\"noopener noreferrer\"><u>the documentation for <code>df.mean()</code></u></a> and see if you can identify what argument we will need to pass to the <code>df.mean()</code> function."
   ]
  },
  {
   "cell_type": "code",
   "execution_count": null,
   "id": "1da7e922-6649-4c91-99ee-b165c9ada737",
   "metadata": {},
   "outputs": [],
   "source": []
  },
  {
   "cell_type": "markdown",
   "id": "d83c8d5c-8dda-46b3-b16c-061bad8922d7",
   "metadata": {},
   "source": [
    "<h1 style=\"font-size: 40px; margin-bottom: 0px;\">Summary</h1>\n",
    "<hr style=\"margin-left: 0px; border: 0.25px solid; border-color: #000000; width: 400px;\"></hr>"
   ]
  },
  {
   "cell_type": "markdown",
   "id": "29775793-ec3d-492c-b5d0-943d38daddde",
   "metadata": {},
   "source": [
    "Today, you reinforced your understanding of DataFrames and began learning how to work with them. Specifically, you learned how to access/retrieve elements within a DataFrame, and then you built on that knowledge as well as your knowledge applying conditional statements to filter a DataFrame. You also learned that you can use the usual operators to perform element-wise calculations on DataFrames, and you can find additional functions in pandas to perform more specific and/or more complicated calculations. "
   ]
  },
  {
   "cell_type": "code",
   "execution_count": null,
   "id": "332678db-cb3b-41c7-b982-2d8009fbde63",
   "metadata": {},
   "outputs": [],
   "source": []
  }
 ],
 "metadata": {
  "kernelspec": {
   "display_name": "Python [conda env:base] *",
   "language": "python",
   "name": "conda-base-py"
  },
  "language_info": {
   "codemirror_mode": {
    "name": "ipython",
    "version": 3
   },
   "file_extension": ".py",
   "mimetype": "text/x-python",
   "name": "python",
   "nbconvert_exporter": "python",
   "pygments_lexer": "ipython3",
   "version": "3.11.0"
  }
 },
 "nbformat": 4,
 "nbformat_minor": 5
}
