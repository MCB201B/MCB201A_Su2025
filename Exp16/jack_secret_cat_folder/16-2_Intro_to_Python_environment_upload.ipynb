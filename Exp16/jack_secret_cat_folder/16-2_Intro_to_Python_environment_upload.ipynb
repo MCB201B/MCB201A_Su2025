{
 "cells": [
  {
   "cell_type": "markdown",
   "id": "5223d123-c894-47b8-bda5-ad421684cae8",
   "metadata": {},
   "source": [
    "<h1 style=\"font-size: 40px; margin-bottom: 0px;\">16.2 Intro to Python environment</h1>\n",
    "\n",
    "<hr style=\"margin-left: 0px; border: 0.25px solid; border-color: #000000; width: 650px;\"></hr>"
   ]
  },
  {
   "cell_type": "markdown",
   "id": "ce7f7b08-4131-46fc-8147-40cb9744a27a",
   "metadata": {},
   "source": [
    "Today's experiment will in a way serve as a bridge between yesterday's material and tomorrow's material, as you move off of Terminal to working within your Python notebook. In lecture, we covered the basics of the Python environment and learned how to take stock of what packages we have installed. \n",
    "\n",
    "<strong>Today's learning objectives:</strong>\n",
    "<ol>\n",
    "    <li>Continue to practice using Terminal to navigate around the Biology Hub</li>\n",
    "    <li>Identify what packages are installed</li>\n",
    "    <li>Update your environment with new packages</li>\n",
    "    <li>Find documentation</li>\n",
    "    <li>Understand the layout of a Python (Jupyter) notebook</li>\n",
    "    <li>Learn about cells within a notebook</li>\n",
    "</ol>"
   ]
  },
  {
   "cell_type": "markdown",
   "id": "17b78443-0bb0-4e73-88c3-78e523718a48",
   "metadata": {},
   "source": [
    "<h1 style=\"font-size: 40px; margin-bottom: 0px;\">Exercises</h1>\n",
    "<hr style=\"margin-left: 0px; border: 0.25px solid; border-color: #000000; width: 400px;\"></hr>"
   ]
  },
  {
   "cell_type": "markdown",
   "id": "f8a3aa1f-9fe9-4dc9-b9d5-9f558ce00084",
   "metadata": {},
   "source": [
    "You may have noticed that when you pulled in the class files to get today's notebook, that the files and directories that you previously deleted have been merged back into your server. For the first set of exercises, we'll review some basic navigation using Terminal, and then stick with Terminal to learn a little more about how the Python environment is set up in the Biology Hub."
   ]
  },
  {
   "cell_type": "markdown",
   "id": "17bf2ba9-a137-47c1-afa4-1b8ab234eb87",
   "metadata": {},
   "source": [
    "<h1 style=\"font-size: 32px;\">Exercise #1: Open up Terminal and set up multi-window view</h1>"
   ]
  },
  {
   "cell_type": "markdown",
   "id": "646207a0-96a3-4340-ab94-1798e14a89ee",
   "metadata": {},
   "source": [
    "Set yourself up for today's exercises by opening up a new Terminal from the Launcher, and arrange your main work area to view both this notebook and Terminal."
   ]
  },
  {
   "cell_type": "markdown",
   "id": "14411453-c69d-4333-bc4e-444ce843bd68",
   "metadata": {},
   "source": [
    "<h1 style=\"font-size: 32px;\">Exercise #2: Use Terminal to navigate to <code>jack_secret_cat_folder</code></h1>"
   ]
  },
  {
   "cell_type": "markdown",
   "id": "e690856f-ea56-4271-94e6-adc63781bad6",
   "metadata": {},
   "source": [
    "Use Terminal now to navigate to <code>jack_secret_cat_folder</code> which has been pulled and merged back into your server.\n",
    "\n",
    "Note how the file path preceding the <code>&dollar;</code> prompt has been updated to reflect that your current directory is <code>jack_secret_cat_folder</code> as shown through it's file path <code>~/MCB201A_Su2025/Exp16/jack_secret_cat_folder</code>. \n",
    "\n",
    "You can also see that the file path starts with the shorthand for your home directory's file path <code>~</code>.\n",
    "\n",
    "You'll want to remember that Terminal is acting separately from what is showon in your File Browser (navigation pane) on the left-hand side of your JupyterLab user interface. So if you move around using the File Browser, Terminal is not following along since it's a separate process."
   ]
  },
  {
   "cell_type": "markdown",
   "id": "f22cea71-1d84-41a5-bac8-3351bcc45bac",
   "metadata": {},
   "source": [
    "<h1 style=\"font-size: 32px;\">Exercise #3: Identify contents of <code>jack_secret_cat_folder</code></h1>"
   ]
  },
  {
   "cell_type": "markdown",
   "id": "c90474c9-9e54-47e7-8d82-ca937d08a9b4",
   "metadata": {},
   "source": [
    "Now use Terminal to identify the contents of <code>jack_secret_cat_folder</code>."
   ]
  },
  {
   "cell_type": "markdown",
   "id": "ecb56c67-8a08-43f9-bc24-26f0a64c79ba",
   "metadata": {},
   "source": [
    "<h1 style=\"font-size: 32px;\">Exercise #4: Move this notebook to <code>Exp16</code></h1>"
   ]
  },
  {
   "cell_type": "markdown",
   "id": "5bf8df30-c204-47b8-a0e8-4977887f9ce4",
   "metadata": {},
   "source": [
    "Oh no it looks like Jack uploaded this notebook to the wrong directory. You can also use Terminal to move files and directories around as needed. To do this, you'll make use of the <code>mv</code> command. This just tells Terminal that you want your file or directory moved\n",
    "\n",
    "<pre style=\"width: 350px; margin-top: 15px; margin-bottom: 15px; color: #000000; background-color: #EEEEEE; border: 1px solid; border-color: #AAAAAA; padding: 10px; border-radius: 15px; font-size: 12px;\">mv &lt;SOURCE&gt; &lt;DESTINATION&gt;</pre>\n",
    "\n",
    "In our case, we want to move our notebook file up into the parent directory <code>Exp16</code>, so there are a few ways to do this to get to the same end point if we start in <code>jack_secret_cat_folder</code>.\n",
    "\n",
    "If you want to specify the full destination file path:\n",
    "<pre style=\"width: 550px; margin-top: 15px; margin-bottom: 15px; color: #000000; background-color: #EEEEEE; border: 1px solid; border-color: #AAAAAA; padding: 10px; border-radius: 15px; font-size: 12px;\">mv 16-2_Intro_to_Python_environment_upload.ipynb ~/MCB201A_Su2025/Exp16</pre>\n",
    "\n",
    "If you want to use the shorthand for parent directory:\n",
    "<pre style=\"width: 350px; margin-top: 15px; margin-bottom: 15px; color: #000000; background-color: #EEEEEE; border: 1px solid; border-color: #AAAAAA; padding: 10px; border-radius: 15px; font-size: 12px;\">mv 16-2_Intro_to_Python_environment_upload.ipynb ..</pre>\n",
    "\n",
    "If you're in some other directory so need to specify the full file path for both the source and destination:\n",
    "<pre style=\"width: 850px; margin-top: 15px; margin-bottom: 15px; color: #000000; background-color: #EEEEEE; border: 1px solid; border-color: #AAAAAA; padding: 10px; border-radius: 15px; font-size: 12px;\">mv ~/MCB201A_Su2025/Exp16/jack_secret_cat_folder/16-2_Intro_to_Python_environment_upload.ipynb ~/MCB201A_Su2025/Exp16</pre>\n",
    "\n",
    "You can see that the last one gets kind of unwieldy because of how long the line goes. In Terminal, you can use line breaks to break up your command line to make it easier for you to read by using <code>&bsol;</code> followed by pressing <kbd>Enter</kbd> and then continuing inputting the rest of the command in the next line. You can also do this multiple times to have your code in multiple lines.\n",
    "<pre style=\"width: 650px; margin-top: 15px; margin-bottom: 15px; color: #000000; background-color: #EEEEEE; border: 1px solid; border-color: #AAAAAA; padding: 10px; border-radius: 15px; font-size: 12px;\">mv \\\n",
    "~/MCB201A_Su2025/Exp16/jack_secret_cat_folder/16-2_Intro_to_Python_environment_upload.ipynb \\\n",
    "~/MCB201A_Su2025/Exp16</pre>\n",
    "\n",
    "You can try playing around with moving the <strong>cat.jpg</strong> file."
   ]
  },
  {
   "cell_type": "markdown",
   "id": "e46db396-0afa-4db1-8691-9c2da810067b",
   "metadata": {},
   "source": [
    "<h1 style=\"font-size: 32px;\">Exercise #5: Return to your home directory</h1>"
   ]
  },
  {
   "cell_type": "markdown",
   "id": "12f403c1-48e7-490d-a797-09db67aa0194",
   "metadata": {},
   "source": [
    "To keep the command line prompt a little neater, navigate to your home directory in Terminal. This isn't necessary for subsequent exercises, but it can help to keep the file path preceding the <code>&dollar;</code> limited to just the <code>~</code>, so that lines are a bit easier to read."
   ]
  },
  {
   "cell_type": "markdown",
   "id": "93de3dc7-256f-4bcc-9650-3bbc8b4ca8f0",
   "metadata": {},
   "source": [
    "<h1 style=\"font-size: 32px;\">Exercise #6: Output a list of installed packages</h1>"
   ]
  },
  {
   "cell_type": "markdown",
   "id": "0879e4c9-2697-4415-bc48-778ad455bd3c",
   "metadata": {},
   "source": [
    "Recall from lecture that the Biology Hub comes already prebuilt with a common environment that everyone using the Biology Hub is able to use in their own server instance.\n",
    "\n",
    "It's always good to take stock of what packages are installed in order to know what packages might be missing for the type(s) of analyses that you will be doing.\n",
    "\n",
    "To output a list of installed packages, you will make use of the managment system <code>conda</code>. <a href=\"https://docs.conda.io/en/latest/\" rel=\"noopener noreferrer\"><u>Documentation for <code>conda</code> can be found here.</u></a> Something that will be common as we proceed through our analyses is that these notebooks will include links to documentation for packages, and you'll want to begin familiarizing yourself with understanding the documentation to understand how things are set up and how to use different tools.\n",
    "\n",
    "Now let's output the list of installed packages.\n",
    "\n",
    "<pre style=\"width: 350px; margin-top: 15px; margin-bottom: 15px; color: #000000; background-color: #EEEEEE; border: 1px solid; border-color: #AAAAAA; padding: 10px; border-radius: 15px; font-size: 12px;\">conda list</pre>\n",
    "\n",
    "<a href=\"https://docs.conda.io/projects/conda/en/stable/commands/list.html\" rel=\"noopener noreferrer\"><u>Documentation for <code>conda list</code> can be found here.</u></a> \n",
    "\n",
    "It might take a second or two for the output to be generated. Scroll through the list of installed packages to see if you can identify the ones introduced in class:\n",
    "<ul>\n",
    "    <li>numpy</li>\n",
    "    <li>pandas</li>\n",
    "    <li>matplotlib</li>\n",
    "    <li>seaborn</li>\n",
    "    <li>hisat2</li>\n",
    "    <li>htseq</li>\n",
    "</ul>\n",
    "\n",
    "Are any packages from the above list missing?"
   ]
  },
  {
   "cell_type": "markdown",
   "id": "760367ef-b1d1-465c-b44a-af1b7672d990",
   "metadata": {},
   "source": [
    "<h1 style=\"font-size: 32px;\">Exercise #7: Install a new package</h1>"
   ]
  },
  {
   "cell_type": "markdown",
   "id": "b7a37c18-1962-43ec-838a-79c2ea89ce8c",
   "metadata": {},
   "source": [
    "You'll probably have noticed that the Biology Hub doesn't come with <code>htseq</code> already installed, so for this exercise, you'll install the HTSeq package, which we'll use later on in MCB201B for quantifying our aligned reads from our RNA-sequencing data. <a href=\"https://htseq.readthedocs.io/en/master/index.html\" rel=\"noopener noreferrer\"><u>Documentation for HTSeq can be found here.</u></a> \n",
    "\n",
    "You can see in the documentation under \"Installation\" that there are instructions for installing HTSeq. Generally, packages will come with installation instructions, and they'll usually have multiple ways of installing them. In our case, we'll simply use <code>pip</code> to install HTSeq. <a href=\"https://pip.pypa.io/en/stable/\" rel=\"noopener noreferrer\"><u>Documentation for <code>pip</code> can be found here.</u></a>\n",
    "\n",
    "Install the HTSeq package:\n",
    "\n",
    "<pre style=\"width: 350px; margin-top: 15px; margin-bottom: 15px; color: #000000; background-color: #EEEEEE; border: 1px solid; border-color: #AAAAAA; padding: 10px; border-radius: 15px; font-size: 12px;\">pip install HTSeq</pre>\n",
    "\n",
    "You should see Terminal output the installation progress, and once it's installed, it'll let you know that it has successfully installed HTSeq.\n",
    "\n",
    "Now take a look to see if it appears in our list of installed packages."
   ]
  },
  {
   "cell_type": "markdown",
   "id": "006a8165-41b8-4241-b2cc-0677f8a5c1c1",
   "metadata": {},
   "source": [
    "<h1 style=\"font-size: 32px;\">Exercise #8: Pull up documentation within Terminal</h1>"
   ]
  },
  {
   "cell_type": "markdown",
   "id": "c815417c-52e6-4ad4-8015-9d633c062ae1",
   "metadata": {},
   "source": [
    "For commands that we run in Terminal, we often can also pull up a manual on how to use them by specifying the <code>-h</code> or <code>--help</code> option.\n",
    "\n",
    "<pre style=\"width: 350px; margin-top: 15px; margin-bottom: 15px; color: #000000; background-color: #EEEEEE; border: 1px solid; border-color: #AAAAAA; padding: 10px; border-radius: 15px; font-size: 12px;\">pip -h</pre>\n",
    "\n",
    "or\n",
    "\n",
    "<pre style=\"width: 350px; margin-top: 15px; margin-bottom: 15px; color: #000000; background-color: #EEEEEE; border: 1px solid; border-color: #AAAAAA; padding: 10px; border-radius: 15px; font-size: 12px;\">pip --help</pre>\n",
    "\n",
    "What you should see is that Terminal will output a manual on how to use <code>pip</code>. Towards the top of the output, you often can find the generalized form, such as:\n",
    "\n",
    "<pre style=\"width: 350px; margin-top: 15px; margin-bottom: 15px; color: #000000; background-color: #EEEEEE; border: 1px solid; border-color: #AAAAAA; padding: 10px; border-radius: 15px; font-size: 12px;\">pip &lt;command&gt; &lbrack;options&rbrack;</pre>\n",
    "\n",
    "The generalized form indicating that you can specify various options are usually denoted with square brackets while the angle brackets (greater than and less than signs) denote file paths. There's not really a standard way of denoting things in the generalized form, but in any case, when you're inputting an option or file path, you'll omit the brackets.\n",
    "\n",
    "Lower down in the manual contains details on the different options accepted by the package/command, and options can take on a \"short form\" or a \"long form\" with the short form being an abbreviated format of the long form. Short form options are preceded by a single dash <code>-</code>, while long form options are preceded by two dashes <code>--</code>. For example, the options to pull up the manual are <code>-h</code> and <code>--help</code>. Both are functionally the same. Something to note is that some commands may only take one form, but that'll usually be clear in the documentation.\n",
    "\n",
    "There are also additional arguments you can add, but we'll save that for later."
   ]
  },
  {
   "cell_type": "markdown",
   "id": "01d29622-ce20-4e57-baeb-205edb1fa69a",
   "metadata": {},
   "source": [
    "<h1 style=\"font-size: 32px;\">Exercise #9: Pull up documentation for <code>rm</code></h1>"
   ]
  },
  {
   "cell_type": "markdown",
   "id": "42bccea8-b781-43c9-ae6b-cbccb281e4fc",
   "metadata": {},
   "source": [
    "Yesterday, we made use of the <code>rm</code> command to delete files. Today, let's pull up it's documentation in Terminal.\n",
    "\n",
    "See if you can identify the <code>-r</code> option that we used yesterday to prompt <code>rm</code> to delete a directory containing stuff within it. What does the manual say that option does?"
   ]
  },
  {
   "cell_type": "markdown",
   "id": "7d95426b-0fe1-463a-802e-afe6c2696cf8",
   "metadata": {},
   "source": [
    "<h1 style=\"font-size: 32px;\">Exercise #10: Delete <code>jack_secret_cat_folder</code></h1>"
   ]
  },
  {
   "cell_type": "markdown",
   "id": "f358aad1-460e-4004-9c46-e01cc6bb9f68",
   "metadata": {},
   "source": [
    "Let's now review and delete <code>jack_secret_cat_folder</code>."
   ]
  },
  {
   "cell_type": "markdown",
   "id": "71915200-2850-4feb-ad4b-d70ca6851c73",
   "metadata": {},
   "source": [
    "<h1 style=\"font-size: 40px; margin-bottom: 0px;\">Notebook Structure</h1>\n",
    "<hr style=\"margin-left: 0px; border: 0.25px solid; border-color: #000000; width: 450px;\"></hr>"
   ]
  },
  {
   "cell_type": "markdown",
   "id": "9ee1fb96-ab66-4d9e-9330-6450595a2ce2",
   "metadata": {},
   "source": [
    "Now let's jump back into our notebook for the rest of today's exercises and familiarize ourselves with a computational notebook. Return your JupyterLab main work area to a single window view.\n",
    "\n",
    "Recall from lecture today that you can create new cells in your notebooks and then you can specify whether that cell is a code cell (default) or a Markdown cell. There is also an option to specify Raw cell, but we won't be working with those for our work.\n",
    "\n",
    "In this notebook, you can see that this section is separated from the previous sections. Each section is a <strong>cell</strong>, and each cell can be independently modified from another cell. Cells can be designated as <strong>Code</strong>, <strong>Markdown</strong>, or <strong>Raw</strong>."
   ]
  },
  {
   "cell_type": "markdown",
   "id": "4a1b8257-5989-4535-946c-4b0abe89ab39",
   "metadata": {},
   "source": [
    "<h2 style=\"font-size: 40px;\">Code</h2>"
   ]
  },
  {
   "cell_type": "markdown",
   "id": "a4a0b9db-b620-414f-bdb8-d50cf24f7789",
   "metadata": {},
   "source": [
    "By designating a cell as <strong>Code</strong>, you can execute and run programming code. In this case, the language is Python as you can see by the kernel at the top right."
   ]
  },
  {
   "cell_type": "markdown",
   "id": "f528af46-c36f-49cc-8241-e04f49c82ba1",
   "metadata": {},
   "source": [
    "<h1 style=\"font-size: 32px;\">Exercise #11: Create a code cell</h1>"
   ]
  },
  {
   "cell_type": "markdown",
   "id": "23f619d2-3fbd-4469-9bfe-e6d5c862389e",
   "metadata": {},
   "source": [
    "<i>Click on this cell to select it.</i> On the top righthand side of this cell, you should see a colored vertical bar to the left and an outline around this section, indicating that this cell is selected. You should also be able to see at the top righthand corner, six icons. Click on the <strong>Insert a cell below</strong> icon or press <kbd>B</kbd>. You should see an empty code cell appear below this one. By default, cells are designated as code. \n",
    "\n",
    "<i>Type into your new cell, 1+1 and then press <kbd>Shift</kbd>+<kbd>Enter</kbd>.</i> This will run the code just in your selected cell and advance to the next cell, and the output will appear below it.\n",
    "\n",
    "<hr style=\"margin-left: 0px; border: 0.25px solid; border-color: #EEEEEEE; width: 600px;\"></hr>"
   ]
  },
  {
   "cell_type": "markdown",
   "id": "c8bb9904-e603-4a0d-b6e9-83ce0d77da61",
   "metadata": {},
   "source": [
    "What you can see is that the code is interpreted as a mathematical expression, and when you run the cell, the notebook acts as a calculator because the Python kernel is able to interpret mathematical operations."
   ]
  },
  {
   "cell_type": "markdown",
   "id": "e4908524-d8e5-4423-b64d-a7b6d917d33c",
   "metadata": {},
   "source": [
    "<h2  style=\"font-size: 40px;\">Markdown</h2>"
   ]
  },
  {
   "cell_type": "markdown",
   "id": "5734b581-fe2f-413d-8d70-f7d33bdd0318",
   "metadata": {},
   "source": [
    "You can also designate a cell as <strong>Markdown</strong>, which allows you to create text, add images, tables, links, and code that won't be executed."
   ]
  },
  {
   "cell_type": "markdown",
   "id": "e5a1b796-1f5f-486d-920c-469ed402f2a2",
   "metadata": {},
   "source": [
    "<h1 style=\"font-size: 32px;\">Exercise #12: Create a Markdown cell</h1>"
   ]
  },
  {
   "cell_type": "markdown",
   "id": "f32c2a76-f288-427b-809f-c61cd8010c0e",
   "metadata": {},
   "source": [
    "For example, <i>create a new cell below this one</i>, and then at the top bar of this notebook, you should see a dropdown menu showing Code.\n",
    "\n",
    "<i>Open the dropdown menu and select Markdown. Type into the cell 1+1, then press <kbd>Shift</kbd>+<kbd>Enter</kbd>.</i>\n",
    "\n",
    "<hr style=\"margin-left: 0px; border: 0.25px solid; border-color: #EEEEEE; width: 600px;\"></hr>"
   ]
  },
  {
   "cell_type": "markdown",
   "id": "a2d756ad-68a9-44bc-a65b-2c334b10eb02",
   "metadata": {},
   "source": [
    "You'll notice that this time, the notebook is not generating any output. This is because the cell is designated as Markdown, and so it will not run code.\n",
    "\n",
    "It will, however, format text, images, tables, etc. based on HTML/CSS and Markdown syntax. You can see examples of this by double-clicking any of the Markdown cells to see how it's formatted in plain-text. You can hit <kbd>Shift</kbd>+<kbd>Enter</kbd> to return to the formatted text."
   ]
  },
  {
   "cell_type": "markdown",
   "id": "2ea0ed35-703e-4d13-b58d-1d6504a460e4",
   "metadata": {},
   "source": [
    "<h2  style=\"font-size: 40px;\">Raw</h2>"
   ]
  },
  {
   "cell_type": "markdown",
   "id": "3383d44d-1e93-4904-85df-913705735a52",
   "metadata": {},
   "source": [
    "The final designation is <strong>Raw</strong>. This is for more specific use cases. Raw cells are used when you need to render in a different code format, such as HTML or LaTeX. "
   ]
  },
  {
   "cell_type": "markdown",
   "id": "5c908768-4676-43ee-a143-7554d30a586f",
   "metadata": {},
   "source": [
    "<h2 style=\"font-size: 40px;\">Hiding and revealing cells</h2>"
   ]
  },
  {
   "cell_type": "markdown",
   "id": "941a08e2-f848-4f9c-9942-b9a8f5fbe795",
   "metadata": {},
   "source": [
    "You can also collapse cells if you want to reduce visual clutter, reduce vertical height, or focus on a specific set of cells."
   ]
  },
  {
   "cell_type": "markdown",
   "id": "d1adbf88-2b3a-48ce-90e1-673af224aa55",
   "metadata": {},
   "source": [
    "<h3 style=\"font-size: 32px;\">Exercise #13: Hide/show cells</h3>"
   ]
  },
  {
   "cell_type": "markdown",
   "id": "6a7eb26b-9d5f-4fe3-8f00-22f1c631f392",
   "metadata": {},
   "source": [
    "<i>Select the cell \"Hiding and revealing cells\" above.</i> You should see an arrowhead on the left. If you click on that arrowhead, you'll hide the cells below it."
   ]
  },
  {
   "cell_type": "markdown",
   "id": "45ba8d01-c4b7-4846-b67e-380a72e7aa62",
   "metadata": {},
   "source": [
    "Since the header is denoted with an HTML header2 tag (see below, or double click the header)\n",
    "```\n",
    "<h2>Hiding and revealing cells</h2>\n",
    "```\n",
    "The three cells below it are considered its children."
   ]
  },
  {
   "cell_type": "markdown",
   "id": "b5fd2542-7339-408b-82cb-ad3708117ed3",
   "metadata": {},
   "source": [
    "And those cells can be hidden, leaving only the header <strong>Hiding and revealing cells</strong>. You should also see that a button appears indicating the number of cells hidden. You can re-expand to show all the hidden cells."
   ]
  },
  {
   "cell_type": "markdown",
   "id": "44019173-8c3d-4878-a839-9d0cb6c050e1",
   "metadata": {},
   "source": [
    "<h2 style=\"font-size: 40px;\">Moving cells</h2>"
   ]
  },
  {
   "cell_type": "markdown",
   "id": "6437080c-15fc-42c6-8bc2-2ca195cb7a2d",
   "metadata": {},
   "source": [
    "You can move cells around as well if you need to rearrange things or to have a specific cell run before another one."
   ]
  },
  {
   "cell_type": "markdown",
   "id": "9ef277e5-0d16-4433-8427-a64b05e96846",
   "metadata": {},
   "source": [
    "<h1 style=\"font-size: 32px;\">Exercise #14: Move cell(s) around</h1>"
   ]
  },
  {
   "cell_type": "markdown",
   "id": "210af240-58fa-48ce-8a97-0f80752b5e7e",
   "metadata": {},
   "source": [
    "<i>Select this cell.</i> You should see at the top righthand side, an up and a down arrow. Click the arrow to move this cell either above the preceding cell or below the following cell.\n",
    "\n",
    "Now try moving the cell by clicking and dragging the cell. You'll want to click and drag between this cell and the blue higlight to the left.\n",
    "\n",
    "You can also select multiple cells using the standard way of selecting one cell and then holding <kbd>Shift</kbd> while selecting other cells to select those cells and the ones between them. You can then click and drag to move these cells as a unit together."
   ]
  },
  {
   "cell_type": "markdown",
   "id": "601fb5f7-83b3-445c-a3cf-6a3fea1acdb8",
   "metadata": {},
   "source": [
    "<h2 style=\"font-size: 40px;\">Duplicating and deleting cells</h2>"
   ]
  },
  {
   "cell_type": "markdown",
   "id": "95d63368-d187-4d90-a6fb-5836f48ada3f",
   "metadata": {},
   "source": [
    "You can also duplicate and delete cells with their respective icons at the top righthand side of a selected cell."
   ]
  },
  {
   "cell_type": "markdown",
   "id": "6a6a9ba1-96d5-4700-8c59-c056bc65fb1a",
   "metadata": {},
   "source": [
    "<h1 style=\"font-size: 32px;\">Exercise #15: Duplicate a cell</h1>"
   ]
  },
  {
   "cell_type": "markdown",
   "id": "f7d4f28b-8b65-4afe-bd2c-b051d9ae040d",
   "metadata": {},
   "source": [
    "<i>Select this cell.</i> Click the <strong>Create a duplicate of this cell below</strong> icon (right-side icons) to duplicate this cell."
   ]
  },
  {
   "cell_type": "markdown",
   "id": "7649bdbe-dce2-4fb1-84c6-0a467394748b",
   "metadata": {},
   "source": [
    "<h1 style=\"font-size: 32px;\">Exercise #16: Delete a cell</h1>"
   ]
  },
  {
   "cell_type": "markdown",
   "id": "75c2e00a-91b8-47c5-9425-7405cdac47da",
   "metadata": {},
   "source": [
    "<i>Select the previously duplicated cell.</i> Click the <strong>Delete this cell</strong> icon or double-press <kbd>D</kbd> to delete the copied cell."
   ]
  },
  {
   "cell_type": "markdown",
   "id": "c2e6bbb1-3ebc-47a9-baba-ad1cc35983e8",
   "metadata": {},
   "source": [
    "<h1 style=\"font-size: 40px; margin-bottom: 0px;\">Summary</h1>\n",
    "<hr style=\"margin-left: 0px; border: 0.25px solid; border-color: #000000; width: 400px;\"></hr>"
   ]
  },
  {
   "cell_type": "markdown",
   "id": "b1923a63-1871-4efa-a3e4-58f1dab426cc",
   "metadata": {},
   "source": [
    "In today's exercise, you reviewed how to navigate the Biology Hub using Terminal and explored your Python environment. You also learned to install packages that you'll need. You're also beginning to familiarize yourself with documentation and ways to find documentation for tools that you'll use.\n",
    "\n",
    "You also started to get familiar with computational notebooks and played around a bit with the structure of a notebook, specifically learning how the different types of cells, creating cells, and modifying them."
   ]
  }
 ],
 "metadata": {
  "kernelspec": {
   "display_name": "Python [conda env:base] *",
   "language": "python",
   "name": "conda-base-py"
  },
  "language_info": {
   "codemirror_mode": {
    "name": "ipython",
    "version": 3
   },
   "file_extension": ".py",
   "mimetype": "text/x-python",
   "name": "python",
   "nbconvert_exporter": "python",
   "pygments_lexer": "ipython3",
   "version": "3.11.0"
  }
 },
 "nbformat": 4,
 "nbformat_minor": 5
}
